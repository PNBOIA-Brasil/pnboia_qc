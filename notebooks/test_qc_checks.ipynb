{
 "cells": [
  {
   "cell_type": "markdown",
   "id": "f1c56460",
   "metadata": {},
   "source": [
    "# Quality control routines for PNBOIA"
   ]
  },
  {
   "cell_type": "code",
   "execution_count": 168,
   "id": "eee3fb56",
   "metadata": {},
   "outputs": [
    {
     "name": "stdout",
     "output_type": "stream",
     "text": [
      "The autoreload extension is already loaded. To reload it, use:\n",
      "  %reload_ext autoreload\n"
     ]
    }
   ],
   "source": [
    "import pandas as pd\n",
    "%load_ext autoreload\n",
    "%autoreload 2\n",
    "import pnboia_qc.pnboia_limits as pnboia_limits\n",
    "from pnboia_qc.qc_checks import QCChecks"
   ]
  },
  {
   "cell_type": "markdown",
   "id": "e097f62a",
   "metadata": {},
   "source": [
    "## Load PNBOIA data"
   ]
  },
  {
   "cell_type": "code",
   "execution_count": 169,
   "id": "7e7e92b2",
   "metadata": {},
   "outputs": [],
   "source": [
    "df = pd.read_excel('../raw_data/vi.xlsx')"
   ]
  },
  {
   "cell_type": "code",
   "execution_count": 170,
   "id": "495ef1e8",
   "metadata": {},
   "outputs": [
    {
     "data": {
      "text/html": [
       "<div>\n",
       "<style scoped>\n",
       "    .dataframe tbody tr th:only-of-type {\n",
       "        vertical-align: middle;\n",
       "    }\n",
       "\n",
       "    .dataframe tbody tr th {\n",
       "        vertical-align: top;\n",
       "    }\n",
       "\n",
       "    .dataframe thead th {\n",
       "        text-align: right;\n",
       "    }\n",
       "</style>\n",
       "<table border=\"1\" class=\"dataframe\">\n",
       "  <thead>\n",
       "    <tr style=\"text-align: right;\">\n",
       "      <th></th>\n",
       "      <th>#ano</th>\n",
       "      <th>mes</th>\n",
       "      <th>dia</th>\n",
       "      <th>hora</th>\n",
       "      <th>lon</th>\n",
       "      <th>lat</th>\n",
       "      <th>battery</th>\n",
       "      <th>wspd1</th>\n",
       "      <th>gust1</th>\n",
       "      <th>wdir1</th>\n",
       "      <th>...</th>\n",
       "      <th>cdir1</th>\n",
       "      <th>cvel2</th>\n",
       "      <th>cdir2</th>\n",
       "      <th>cvel3</th>\n",
       "      <th>cdir3</th>\n",
       "      <th>wvht</th>\n",
       "      <th>wmax</th>\n",
       "      <th>dpd</th>\n",
       "      <th>mwd</th>\n",
       "      <th>spred</th>\n",
       "    </tr>\n",
       "  </thead>\n",
       "  <tbody>\n",
       "    <tr>\n",
       "      <th>0</th>\n",
       "      <td>2015</td>\n",
       "      <td>10</td>\n",
       "      <td>13</td>\n",
       "      <td>17</td>\n",
       "      <td>-39.704233</td>\n",
       "      <td>-19.935850</td>\n",
       "      <td>-9999.0</td>\n",
       "      <td>10.5</td>\n",
       "      <td>12.6</td>\n",
       "      <td>76</td>\n",
       "      <td>...</td>\n",
       "      <td>251.02</td>\n",
       "      <td>341.60</td>\n",
       "      <td>230.34</td>\n",
       "      <td>335.93</td>\n",
       "      <td>237.40</td>\n",
       "      <td>1.56</td>\n",
       "      <td>2.54</td>\n",
       "      <td>8.0</td>\n",
       "      <td>86.7</td>\n",
       "      <td>31.3</td>\n",
       "    </tr>\n",
       "    <tr>\n",
       "      <th>1</th>\n",
       "      <td>2015</td>\n",
       "      <td>10</td>\n",
       "      <td>13</td>\n",
       "      <td>18</td>\n",
       "      <td>-39.704183</td>\n",
       "      <td>-19.935883</td>\n",
       "      <td>-9999.0</td>\n",
       "      <td>10.2</td>\n",
       "      <td>11.7</td>\n",
       "      <td>76</td>\n",
       "      <td>...</td>\n",
       "      <td>267.55</td>\n",
       "      <td>426.66</td>\n",
       "      <td>242.95</td>\n",
       "      <td>446.84</td>\n",
       "      <td>242.40</td>\n",
       "      <td>1.63</td>\n",
       "      <td>2.31</td>\n",
       "      <td>8.7</td>\n",
       "      <td>90.3</td>\n",
       "      <td>31.2</td>\n",
       "    </tr>\n",
       "    <tr>\n",
       "      <th>2</th>\n",
       "      <td>2015</td>\n",
       "      <td>10</td>\n",
       "      <td>13</td>\n",
       "      <td>19</td>\n",
       "      <td>-39.704100</td>\n",
       "      <td>-19.936000</td>\n",
       "      <td>-9999.0</td>\n",
       "      <td>10.9</td>\n",
       "      <td>13.4</td>\n",
       "      <td>75</td>\n",
       "      <td>...</td>\n",
       "      <td>243.35</td>\n",
       "      <td>407.95</td>\n",
       "      <td>242.24</td>\n",
       "      <td>358.29</td>\n",
       "      <td>238.35</td>\n",
       "      <td>1.82</td>\n",
       "      <td>3.09</td>\n",
       "      <td>8.7</td>\n",
       "      <td>82.6</td>\n",
       "      <td>31.1</td>\n",
       "    </tr>\n",
       "    <tr>\n",
       "      <th>3</th>\n",
       "      <td>2015</td>\n",
       "      <td>10</td>\n",
       "      <td>13</td>\n",
       "      <td>20</td>\n",
       "      <td>-39.703967</td>\n",
       "      <td>-19.936133</td>\n",
       "      <td>-9999.0</td>\n",
       "      <td>12.5</td>\n",
       "      <td>14.7</td>\n",
       "      <td>79</td>\n",
       "      <td>...</td>\n",
       "      <td>247.52</td>\n",
       "      <td>373.45</td>\n",
       "      <td>226.30</td>\n",
       "      <td>519.94</td>\n",
       "      <td>226.64</td>\n",
       "      <td>1.83</td>\n",
       "      <td>3.06</td>\n",
       "      <td>6.1</td>\n",
       "      <td>80.1</td>\n",
       "      <td>32.9</td>\n",
       "    </tr>\n",
       "    <tr>\n",
       "      <th>4</th>\n",
       "      <td>2015</td>\n",
       "      <td>10</td>\n",
       "      <td>13</td>\n",
       "      <td>21</td>\n",
       "      <td>-39.703933</td>\n",
       "      <td>-19.936117</td>\n",
       "      <td>-9999.0</td>\n",
       "      <td>11.4</td>\n",
       "      <td>13.6</td>\n",
       "      <td>73</td>\n",
       "      <td>...</td>\n",
       "      <td>278.33</td>\n",
       "      <td>439.41</td>\n",
       "      <td>276.01</td>\n",
       "      <td>510.14</td>\n",
       "      <td>268.65</td>\n",
       "      <td>1.85</td>\n",
       "      <td>2.73</td>\n",
       "      <td>5.6</td>\n",
       "      <td>76.2</td>\n",
       "      <td>32.7</td>\n",
       "    </tr>\n",
       "  </tbody>\n",
       "</table>\n",
       "<p>5 rows × 31 columns</p>\n",
       "</div>"
      ],
      "text/plain": [
       "   #ano  mes  dia  hora        lon        lat  battery  wspd1  gust1  wdir1  \\\n",
       "0  2015   10   13    17 -39.704233 -19.935850  -9999.0   10.5   12.6     76   \n",
       "1  2015   10   13    18 -39.704183 -19.935883  -9999.0   10.2   11.7     76   \n",
       "2  2015   10   13    19 -39.704100 -19.936000  -9999.0   10.9   13.4     75   \n",
       "3  2015   10   13    20 -39.703967 -19.936133  -9999.0   12.5   14.7     79   \n",
       "4  2015   10   13    21 -39.703933 -19.936117  -9999.0   11.4   13.6     73   \n",
       "\n",
       "   ...   cdir1   cvel2   cdir2   cvel3   cdir3  wvht  wmax  dpd   mwd  spred  \n",
       "0  ...  251.02  341.60  230.34  335.93  237.40  1.56  2.54  8.0  86.7   31.3  \n",
       "1  ...  267.55  426.66  242.95  446.84  242.40  1.63  2.31  8.7  90.3   31.2  \n",
       "2  ...  243.35  407.95  242.24  358.29  238.35  1.82  3.09  8.7  82.6   31.1  \n",
       "3  ...  247.52  373.45  226.30  519.94  226.64  1.83  3.06  6.1  80.1   32.9  \n",
       "4  ...  278.33  439.41  276.01  510.14  268.65  1.85  2.73  5.6  76.2   32.7  \n",
       "\n",
       "[5 rows x 31 columns]"
      ]
     },
     "execution_count": 170,
     "metadata": {},
     "output_type": "execute_result"
    }
   ],
   "source": [
    "df.head()"
   ]
  },
  {
   "cell_type": "markdown",
   "id": "cf56ada2",
   "metadata": {},
   "source": [
    "## Create DateTime column"
   ]
  },
  {
   "cell_type": "code",
   "execution_count": 171,
   "id": "a47ff06c",
   "metadata": {},
   "outputs": [],
   "source": [
    "df['date_time'] = df['#ano'].astype(str).str.zfill(4) + df['mes'].astype(str).str.zfill(2) + df['dia'].astype(str).str.zfill(2) + df['hora'].astype(str).str.zfill(2)"
   ]
  },
  {
   "cell_type": "code",
   "execution_count": 172,
   "id": "6b913eee",
   "metadata": {},
   "outputs": [],
   "source": [
    "df['date_time'] = pd.to_datetime(df['date_time'], format='%Y%m%d%H')\n",
    "df.set_index('date_time', inplace=True)"
   ]
  },
  {
   "cell_type": "code",
   "execution_count": 173,
   "id": "62039885",
   "metadata": {},
   "outputs": [],
   "source": [
    "df.drop(columns=['#ano', 'mes', 'dia', 'hora'], inplace=True)"
   ]
  },
  {
   "cell_type": "code",
   "execution_count": 174,
   "id": "f86cfd90",
   "metadata": {},
   "outputs": [],
   "source": [
    "df.columns = ['lon', 'lat', 'battery', 'wspd1', 'gust1', 'wdir1', 'wspd2', 'gust2',\n",
    "       'wdir2', 'atmp', 'rh', 'dewpt', 'pres', 'sst', 'compass', 'arad',\n",
    "       'cspd1', 'cdir1', 'cspd2', 'cdir2', 'cspd3', 'cdir3', 'swvht', 'mxwvht',\n",
    "       'tp', 'wvdir', 'spred']"
   ]
  },
  {
   "cell_type": "code",
   "execution_count": 175,
   "id": "be643217",
   "metadata": {},
   "outputs": [
    {
     "data": {
      "text/html": [
       "<div>\n",
       "<style scoped>\n",
       "    .dataframe tbody tr th:only-of-type {\n",
       "        vertical-align: middle;\n",
       "    }\n",
       "\n",
       "    .dataframe tbody tr th {\n",
       "        vertical-align: top;\n",
       "    }\n",
       "\n",
       "    .dataframe thead th {\n",
       "        text-align: right;\n",
       "    }\n",
       "</style>\n",
       "<table border=\"1\" class=\"dataframe\">\n",
       "  <thead>\n",
       "    <tr style=\"text-align: right;\">\n",
       "      <th></th>\n",
       "      <th>lon</th>\n",
       "      <th>lat</th>\n",
       "      <th>battery</th>\n",
       "      <th>wspd1</th>\n",
       "      <th>gust1</th>\n",
       "      <th>wdir1</th>\n",
       "      <th>wspd2</th>\n",
       "      <th>gust2</th>\n",
       "      <th>wdir2</th>\n",
       "      <th>atmp</th>\n",
       "      <th>...</th>\n",
       "      <th>cdir1</th>\n",
       "      <th>cspd2</th>\n",
       "      <th>cdir2</th>\n",
       "      <th>cspd3</th>\n",
       "      <th>cdir3</th>\n",
       "      <th>swvht</th>\n",
       "      <th>mxwvht</th>\n",
       "      <th>tp</th>\n",
       "      <th>wvdir</th>\n",
       "      <th>spred</th>\n",
       "    </tr>\n",
       "    <tr>\n",
       "      <th>date_time</th>\n",
       "      <th></th>\n",
       "      <th></th>\n",
       "      <th></th>\n",
       "      <th></th>\n",
       "      <th></th>\n",
       "      <th></th>\n",
       "      <th></th>\n",
       "      <th></th>\n",
       "      <th></th>\n",
       "      <th></th>\n",
       "      <th></th>\n",
       "      <th></th>\n",
       "      <th></th>\n",
       "      <th></th>\n",
       "      <th></th>\n",
       "      <th></th>\n",
       "      <th></th>\n",
       "      <th></th>\n",
       "      <th></th>\n",
       "      <th></th>\n",
       "      <th></th>\n",
       "    </tr>\n",
       "  </thead>\n",
       "  <tbody>\n",
       "    <tr>\n",
       "      <th>2015-10-13 17:00:00</th>\n",
       "      <td>-39.704233</td>\n",
       "      <td>-19.935850</td>\n",
       "      <td>-9999.0</td>\n",
       "      <td>10.5</td>\n",
       "      <td>12.6</td>\n",
       "      <td>76</td>\n",
       "      <td>10.2</td>\n",
       "      <td>12.4</td>\n",
       "      <td>83</td>\n",
       "      <td>24.8</td>\n",
       "      <td>...</td>\n",
       "      <td>251.02</td>\n",
       "      <td>341.60</td>\n",
       "      <td>230.34</td>\n",
       "      <td>335.93</td>\n",
       "      <td>237.40</td>\n",
       "      <td>1.56</td>\n",
       "      <td>2.54</td>\n",
       "      <td>8.0</td>\n",
       "      <td>86.7</td>\n",
       "      <td>31.3</td>\n",
       "    </tr>\n",
       "    <tr>\n",
       "      <th>2015-10-13 18:00:00</th>\n",
       "      <td>-39.704183</td>\n",
       "      <td>-19.935883</td>\n",
       "      <td>-9999.0</td>\n",
       "      <td>10.2</td>\n",
       "      <td>11.7</td>\n",
       "      <td>76</td>\n",
       "      <td>10.0</td>\n",
       "      <td>11.7</td>\n",
       "      <td>83</td>\n",
       "      <td>24.9</td>\n",
       "      <td>...</td>\n",
       "      <td>267.55</td>\n",
       "      <td>426.66</td>\n",
       "      <td>242.95</td>\n",
       "      <td>446.84</td>\n",
       "      <td>242.40</td>\n",
       "      <td>1.63</td>\n",
       "      <td>2.31</td>\n",
       "      <td>8.7</td>\n",
       "      <td>90.3</td>\n",
       "      <td>31.2</td>\n",
       "    </tr>\n",
       "    <tr>\n",
       "      <th>2015-10-13 19:00:00</th>\n",
       "      <td>-39.704100</td>\n",
       "      <td>-19.936000</td>\n",
       "      <td>-9999.0</td>\n",
       "      <td>10.9</td>\n",
       "      <td>13.4</td>\n",
       "      <td>75</td>\n",
       "      <td>10.7</td>\n",
       "      <td>13.1</td>\n",
       "      <td>83</td>\n",
       "      <td>24.9</td>\n",
       "      <td>...</td>\n",
       "      <td>243.35</td>\n",
       "      <td>407.95</td>\n",
       "      <td>242.24</td>\n",
       "      <td>358.29</td>\n",
       "      <td>238.35</td>\n",
       "      <td>1.82</td>\n",
       "      <td>3.09</td>\n",
       "      <td>8.7</td>\n",
       "      <td>82.6</td>\n",
       "      <td>31.1</td>\n",
       "    </tr>\n",
       "    <tr>\n",
       "      <th>2015-10-13 20:00:00</th>\n",
       "      <td>-39.703967</td>\n",
       "      <td>-19.936133</td>\n",
       "      <td>-9999.0</td>\n",
       "      <td>12.5</td>\n",
       "      <td>14.7</td>\n",
       "      <td>79</td>\n",
       "      <td>12.3</td>\n",
       "      <td>14.3</td>\n",
       "      <td>87</td>\n",
       "      <td>25.0</td>\n",
       "      <td>...</td>\n",
       "      <td>247.52</td>\n",
       "      <td>373.45</td>\n",
       "      <td>226.30</td>\n",
       "      <td>519.94</td>\n",
       "      <td>226.64</td>\n",
       "      <td>1.83</td>\n",
       "      <td>3.06</td>\n",
       "      <td>6.1</td>\n",
       "      <td>80.1</td>\n",
       "      <td>32.9</td>\n",
       "    </tr>\n",
       "    <tr>\n",
       "      <th>2015-10-13 21:00:00</th>\n",
       "      <td>-39.703933</td>\n",
       "      <td>-19.936117</td>\n",
       "      <td>-9999.0</td>\n",
       "      <td>11.4</td>\n",
       "      <td>13.6</td>\n",
       "      <td>73</td>\n",
       "      <td>11.2</td>\n",
       "      <td>13.3</td>\n",
       "      <td>81</td>\n",
       "      <td>24.6</td>\n",
       "      <td>...</td>\n",
       "      <td>278.33</td>\n",
       "      <td>439.41</td>\n",
       "      <td>276.01</td>\n",
       "      <td>510.14</td>\n",
       "      <td>268.65</td>\n",
       "      <td>1.85</td>\n",
       "      <td>2.73</td>\n",
       "      <td>5.6</td>\n",
       "      <td>76.2</td>\n",
       "      <td>32.7</td>\n",
       "    </tr>\n",
       "  </tbody>\n",
       "</table>\n",
       "<p>5 rows × 27 columns</p>\n",
       "</div>"
      ],
      "text/plain": [
       "                           lon        lat  battery  wspd1  gust1  wdir1  \\\n",
       "date_time                                                                 \n",
       "2015-10-13 17:00:00 -39.704233 -19.935850  -9999.0   10.5   12.6     76   \n",
       "2015-10-13 18:00:00 -39.704183 -19.935883  -9999.0   10.2   11.7     76   \n",
       "2015-10-13 19:00:00 -39.704100 -19.936000  -9999.0   10.9   13.4     75   \n",
       "2015-10-13 20:00:00 -39.703967 -19.936133  -9999.0   12.5   14.7     79   \n",
       "2015-10-13 21:00:00 -39.703933 -19.936117  -9999.0   11.4   13.6     73   \n",
       "\n",
       "                     wspd2  gust2  wdir2  atmp  ...   cdir1   cspd2   cdir2  \\\n",
       "date_time                                       ...                           \n",
       "2015-10-13 17:00:00   10.2   12.4     83  24.8  ...  251.02  341.60  230.34   \n",
       "2015-10-13 18:00:00   10.0   11.7     83  24.9  ...  267.55  426.66  242.95   \n",
       "2015-10-13 19:00:00   10.7   13.1     83  24.9  ...  243.35  407.95  242.24   \n",
       "2015-10-13 20:00:00   12.3   14.3     87  25.0  ...  247.52  373.45  226.30   \n",
       "2015-10-13 21:00:00   11.2   13.3     81  24.6  ...  278.33  439.41  276.01   \n",
       "\n",
       "                      cspd3   cdir3  swvht  mxwvht   tp  wvdir  spred  \n",
       "date_time                                                              \n",
       "2015-10-13 17:00:00  335.93  237.40   1.56    2.54  8.0   86.7   31.3  \n",
       "2015-10-13 18:00:00  446.84  242.40   1.63    2.31  8.7   90.3   31.2  \n",
       "2015-10-13 19:00:00  358.29  238.35   1.82    3.09  8.7   82.6   31.1  \n",
       "2015-10-13 20:00:00  519.94  226.64   1.83    3.06  6.1   80.1   32.9  \n",
       "2015-10-13 21:00:00  510.14  268.65   1.85    2.73  5.6   76.2   32.7  \n",
       "\n",
       "[5 rows x 27 columns]"
      ]
     },
     "execution_count": 175,
     "metadata": {},
     "output_type": "execute_result"
    }
   ],
   "source": [
    "df.head()"
   ]
  },
  {
   "cell_type": "code",
   "execution_count": 176,
   "id": "413fffc0",
   "metadata": {},
   "outputs": [],
   "source": [
    "variables = df.drop(columns=['lon', 'lat', 'battery']).columns.to_list()"
   ]
  },
  {
   "cell_type": "markdown",
   "id": "364357bf",
   "metadata": {},
   "source": [
    "## Open limits for the data"
   ]
  },
  {
   "cell_type": "code",
   "execution_count": 177,
   "id": "e69d9302",
   "metadata": {},
   "outputs": [],
   "source": [
    "mis_values = pnboia_limits.mis_value_axys_limits\n",
    "limits = pnboia_limits.range_axys_limits\n",
    "climate_limits = pnboia_limits.climate_axys_limits\n",
    "stuck_limits = pnboia_limits.stuck_axys_limits\n",
    "sigma_values = pnboia_limits.sigma_axys_limits\n",
    "height = pnboia_limits.height\n",
    "continuity_limit = pnboia_limits.continuity_axys_limits"
   ]
  },
  {
   "cell_type": "markdown",
   "id": "a61c278b",
   "metadata": {},
   "source": [
    "## Create the class to start the qc tests"
   ]
  },
  {
   "cell_type": "code",
   "execution_count": 178,
   "id": "5848ffda",
   "metadata": {},
   "outputs": [],
   "source": [
    "qc = QCChecks(data=df,\n",
    "              variables=variables,\n",
    "              mis_values=mis_values,\n",
    "              limits=limits,\n",
    "              climate_limits=climate_limits,\n",
    "              stuck_limit=stuck_limits,\n",
    "              sigma_values=sigma_values,\n",
    "              continuity_limit=continuity_limit,\n",
    "              height=height\n",
    "             )"
   ]
  },
  {
   "cell_type": "markdown",
   "id": "d4a73e44",
   "metadata": {},
   "source": [
    "## Misvalue test"
   ]
  },
  {
   "cell_type": "code",
   "execution_count": 179,
   "id": "a0f68623",
   "metadata": {},
   "outputs": [],
   "source": [
    "for parameter in mis_values.keys():\n",
    "    qc.mis_value_check(parameter=parameter)"
   ]
  },
  {
   "cell_type": "markdown",
   "id": "7eefa8f1",
   "metadata": {},
   "source": [
    "## Range test"
   ]
  },
  {
   "cell_type": "code",
   "execution_count": 180,
   "id": "b97e9a4d",
   "metadata": {},
   "outputs": [],
   "source": [
    "for parameter in limits.keys():\n",
    "    qc.range_check(parameter=parameter)"
   ]
  },
  {
   "cell_type": "markdown",
   "id": "5895b840",
   "metadata": {},
   "source": [
    "## Climate range test"
   ]
  },
  {
   "cell_type": "code",
   "execution_count": 181,
   "id": "12012c6e",
   "metadata": {},
   "outputs": [],
   "source": [
    "for parameter in climate_limits.keys():\n",
    "    qc.range_check_climate(parameter=parameter)"
   ]
  },
  {
   "cell_type": "markdown",
   "id": "69943020",
   "metadata": {},
   "source": [
    "## Comparison between swvht and mxwvht"
   ]
  },
  {
   "cell_type": "code",
   "execution_count": 182,
   "id": "c0c2d935",
   "metadata": {},
   "outputs": [],
   "source": [
    "qc.swvht_mxwvht_check(swvht_name = 'swvht', mxwvht_name = 'mxwvht')"
   ]
  },
  {
   "cell_type": "markdown",
   "id": "2cd3aeb3",
   "metadata": {},
   "source": [
    "## Comparison of wind speed and gust"
   ]
  },
  {
   "cell_type": "code",
   "execution_count": 183,
   "id": "ab144fab",
   "metadata": {},
   "outputs": [],
   "source": [
    "qc.wind_speed_gust_check(wspd_name='wspd1', gust_name='gust1')\n",
    "qc.wind_speed_gust_check(wspd_name='wspd2', gust_name='gust2')"
   ]
  },
  {
   "cell_type": "markdown",
   "id": "67e591fe",
   "metadata": {},
   "source": [
    "## Comparison of Dewpt and Atmp"
   ]
  },
  {
   "cell_type": "code",
   "execution_count": 184,
   "id": "420b70c0",
   "metadata": {},
   "outputs": [],
   "source": [
    "qc.dewpt_atmp_check(dewpt_name='dewpt', atmp_name='atmp')"
   ]
  },
  {
   "cell_type": "markdown",
   "id": "b4f8e42e",
   "metadata": {},
   "source": [
    "## Comparison of battery and pressure"
   ]
  },
  {
   "cell_type": "code",
   "execution_count": 185,
   "id": "dc811a69",
   "metadata": {},
   "outputs": [],
   "source": [
    "qc.bat_sensor_check(battery_name='battery', pres_name='pres')"
   ]
  },
  {
   "cell_type": "markdown",
   "id": "5c88100d",
   "metadata": {},
   "source": [
    "## Stuck sensor test"
   ]
  },
  {
   "cell_type": "code",
   "execution_count": 186,
   "id": "ec209091",
   "metadata": {},
   "outputs": [
    {
     "name": "stdout",
     "output_type": "stream",
     "text": [
      "wspd1\n",
      "gust1\n",
      "wdir1\n",
      "wspd2\n",
      "gust2\n",
      "wdir2\n",
      "atmp\n",
      "rh\n",
      "dewpt\n",
      "pres\n",
      "sst\n",
      "compass\n",
      "arad\n",
      "cspd1\n",
      "cdir1\n",
      "cspd2\n",
      "cdir2\n",
      "cspd3\n",
      "cdir3\n",
      "swvht\n",
      "mxwvht\n",
      "tp\n",
      "wvdir\n",
      "spred\n"
     ]
    }
   ],
   "source": [
    "for parameter in variables:\n",
    "    if parameter != 'battery':\n",
    "        print(parameter)\n",
    "        qc.stuck_sensor_check(parameter=parameter)"
   ]
  },
  {
   "cell_type": "markdown",
   "id": "baefa80a",
   "metadata": {},
   "source": [
    "## Convert wind to 10 meters"
   ]
  },
  {
   "cell_type": "code",
   "execution_count": 187,
   "id": "6594a559",
   "metadata": {},
   "outputs": [],
   "source": [
    "qc.convert_10_meters(wspd_name='wspd1', gust_name='gust1')\n",
    "qc.convert_10_meters(wspd_name='wspd2', gust_name='gust2')"
   ]
  },
  {
   "cell_type": "markdown",
   "id": "8fec8430",
   "metadata": {},
   "source": [
    "## Select the best anemometer"
   ]
  },
  {
   "cell_type": "code",
   "execution_count": 188,
   "id": "8098c1f8",
   "metadata": {},
   "outputs": [],
   "source": [
    "qc.related_meas_check(parameters=['wspd1', 'wspd2', 'wdir1', 'wdir2', 'gust1', 'gust2'])"
   ]
  },
  {
   "cell_type": "markdown",
   "id": "fd1ee719",
   "metadata": {},
   "source": [
    "## Time continuity test"
   ]
  },
  {
   "cell_type": "code",
   "execution_count": 190,
   "id": "c26382c6",
   "metadata": {},
   "outputs": [
    {
     "name": "stdout",
     "output_type": "stream",
     "text": [
      "swvht\n",
      "rh\n",
      "pres\n",
      "atmp\n",
      "wspd\n",
      "sst\n"
     ]
    }
   ],
   "source": [
    "for parameter in sigma_values.keys():\n",
    "    print(parameter)\n",
    "    qc.t_continuity_check(parameter=parameter)"
   ]
  },
  {
   "cell_type": "markdown",
   "id": "71e7d93e",
   "metadata": {},
   "source": [
    "## Front exception tests"
   ]
  },
  {
   "cell_type": "code",
   "execution_count": 194,
   "id": "9e9f924b",
   "metadata": {},
   "outputs": [],
   "source": [
    "qc.front_except_check1(wdir_name='wdir', atmp_name='atmp')"
   ]
  },
  {
   "cell_type": "code",
   "execution_count": 195,
   "id": "15cfbc40",
   "metadata": {},
   "outputs": [],
   "source": [
    "qc.front_except_check3(wspd_name='wspd', atmp_name='atmp')"
   ]
  },
  {
   "cell_type": "code",
   "execution_count": 196,
   "id": "af7d9656",
   "metadata": {},
   "outputs": [],
   "source": [
    "qc.front_except_check4(pres_name='pres', wspd_name='wspd')"
   ]
  },
  {
   "cell_type": "code",
   "execution_count": 197,
   "id": "783efccd",
   "metadata": {},
   "outputs": [],
   "source": [
    "qc.front_except_check5(pres_name='pres')"
   ]
  },
  {
   "cell_type": "code",
   "execution_count": 200,
   "id": "ffa62090",
   "metadata": {},
   "outputs": [],
   "source": [
    "qc.front_except_check6(wspd_name='wspd', swvht_name='swvht')"
   ]
  },
  {
   "cell_type": "markdown",
   "id": "51c1bba6",
   "metadata": {},
   "source": [
    "## Plots to compare data"
   ]
  },
  {
   "cell_type": "code",
   "execution_count": 203,
   "id": "0025c6f3",
   "metadata": {},
   "outputs": [
    {
     "data": {
      "image/png": "[encoded data removed]",
      "text/plain": [
       "<Figure size 432x288 with 1 Axes>"
      ]
     },
     "metadata": {
      "needs_background": "light"
     },
     "output_type": "display_data"
    }
   ],
   "source": [
    "qc.plot_comparison(parameter='pres',ylim=[990,1030])"
   ]
  },
  {
   "cell_type": "code",
   "execution_count": null,
   "id": "ed7330cb",
   "metadata": {},
   "outputs": [],
   "source": []
  }
 ],
 "metadata": {
  "kernelspec": {
   "display_name": "Python 3 (ipykernel)",
   "language": "python",
   "name": "python3"
  },
  "language_info": {
   "codemirror_mode": {
    "name": "ipython",
    "version": 3
   },
   "file_extension": ".py",
   "mimetype": "text/x-python",
   "name": "python",
   "nbconvert_exporter": "python",
   "pygments_lexer": "ipython3",
   "version": "3.8.6"
  },
  "toc": {
   "base_numbering": 1,
   "nav_menu": {},
   "number_sections": true,
   "sideBar": true,
   "skip_h1_title": false,
   "title_cell": "Table of Contents",
   "title_sidebar": "Contents",
   "toc_cell": false,
   "toc_position": {},
   "toc_section_display": true,
   "toc_window_display": false
  }
 },
 "nbformat": 4,
 "nbformat_minor": 5
}
