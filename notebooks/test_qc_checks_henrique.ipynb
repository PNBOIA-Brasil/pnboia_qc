{
 "cells": [
  {
   "cell_type": "markdown",
   "id": "f1c56460",
   "metadata": {},
   "source": [
    "# Quality control routines for PNBOIA"
   ]
  },
  {
   "cell_type": "code",
   "execution_count": 1,
   "id": "eee3fb56",
   "metadata": {},
   "outputs": [
    {
     "data": {
      "text/plain": [
       "True"
      ]
     },
     "execution_count": 1,
     "metadata": {},
     "output_type": "execute_result"
    }
   ],
   "source": [
    "import pandas as pd\n",
    "%load_ext autoreload\n",
    "%autoreload 2\n",
    "import pnboia_qc.pnboia_limits as pnboia_limits\n",
    "from pnboia_qc.qc_checks import QCChecks\n",
    "\n",
    "\n",
    "# conexao banco\n",
    "from dotenv import load_dotenv\n",
    "import pandas.io.sql as sqlio\n",
    "import psycopg2\n",
    "import os\n",
    "\n",
    "load_dotenv()\n"
   ]
  },
  {
   "cell_type": "markdown",
   "id": "e097f62a",
   "metadata": {},
   "source": [
    "## Load PNBOIA data"
   ]
  },
  {
   "cell_type": "code",
   "execution_count": 2,
   "id": "7e7e92b2",
   "metadata": {},
   "outputs": [
    {
     "ename": "FileNotFoundError",
     "evalue": "[Errno 2] No such file or directory: '../raw_data/po.xlsx'",
     "output_type": "error",
     "traceback": [
      "\u001b[0;31m---------------------------------------------------------------------------\u001b[0m",
      "\u001b[0;31mFileNotFoundError\u001b[0m                         Traceback (most recent call last)",
      "Cell \u001b[0;32mIn[2], line 1\u001b[0m\n\u001b[0;32m----> 1\u001b[0m df \u001b[38;5;241m=\u001b[39m \u001b[43mpd\u001b[49m\u001b[38;5;241;43m.\u001b[39;49m\u001b[43mread_excel\u001b[49m\u001b[43m(\u001b[49m\u001b[38;5;124;43m'\u001b[39;49m\u001b[38;5;124;43m../raw_data/po.xlsx\u001b[39;49m\u001b[38;5;124;43m'\u001b[39;49m\u001b[43m)\u001b[49m\n",
      "File \u001b[0;32m~/virtual_envs/env_pnboia_qc/lib/python3.11/site-packages/pandas/io/excel/_base.py:495\u001b[0m, in \u001b[0;36mread_excel\u001b[0;34m(io, sheet_name, header, names, index_col, usecols, dtype, engine, converters, true_values, false_values, skiprows, nrows, na_values, keep_default_na, na_filter, verbose, parse_dates, date_parser, date_format, thousands, decimal, comment, skipfooter, storage_options, dtype_backend, engine_kwargs)\u001b[0m\n\u001b[1;32m    493\u001b[0m \u001b[38;5;28;01mif\u001b[39;00m \u001b[38;5;129;01mnot\u001b[39;00m \u001b[38;5;28misinstance\u001b[39m(io, ExcelFile):\n\u001b[1;32m    494\u001b[0m     should_close \u001b[38;5;241m=\u001b[39m \u001b[38;5;28;01mTrue\u001b[39;00m\n\u001b[0;32m--> 495\u001b[0m     io \u001b[38;5;241m=\u001b[39m \u001b[43mExcelFile\u001b[49m\u001b[43m(\u001b[49m\n\u001b[1;32m    496\u001b[0m \u001b[43m        \u001b[49m\u001b[43mio\u001b[49m\u001b[43m,\u001b[49m\n\u001b[1;32m    497\u001b[0m \u001b[43m        \u001b[49m\u001b[43mstorage_options\u001b[49m\u001b[38;5;241;43m=\u001b[39;49m\u001b[43mstorage_options\u001b[49m\u001b[43m,\u001b[49m\n\u001b[1;32m    498\u001b[0m \u001b[43m        \u001b[49m\u001b[43mengine\u001b[49m\u001b[38;5;241;43m=\u001b[39;49m\u001b[43mengine\u001b[49m\u001b[43m,\u001b[49m\n\u001b[1;32m    499\u001b[0m \u001b[43m        \u001b[49m\u001b[43mengine_kwargs\u001b[49m\u001b[38;5;241;43m=\u001b[39;49m\u001b[43mengine_kwargs\u001b[49m\u001b[43m,\u001b[49m\n\u001b[1;32m    500\u001b[0m \u001b[43m    \u001b[49m\u001b[43m)\u001b[49m\n\u001b[1;32m    501\u001b[0m \u001b[38;5;28;01melif\u001b[39;00m engine \u001b[38;5;129;01mand\u001b[39;00m engine \u001b[38;5;241m!=\u001b[39m io\u001b[38;5;241m.\u001b[39mengine:\n\u001b[1;32m    502\u001b[0m     \u001b[38;5;28;01mraise\u001b[39;00m \u001b[38;5;167;01mValueError\u001b[39;00m(\n\u001b[1;32m    503\u001b[0m         \u001b[38;5;124m\"\u001b[39m\u001b[38;5;124mEngine should not be specified when passing \u001b[39m\u001b[38;5;124m\"\u001b[39m\n\u001b[1;32m    504\u001b[0m         \u001b[38;5;124m\"\u001b[39m\u001b[38;5;124man ExcelFile - ExcelFile already has the engine set\u001b[39m\u001b[38;5;124m\"\u001b[39m\n\u001b[1;32m    505\u001b[0m     )\n",
      "File \u001b[0;32m~/virtual_envs/env_pnboia_qc/lib/python3.11/site-packages/pandas/io/excel/_base.py:1550\u001b[0m, in \u001b[0;36mExcelFile.__init__\u001b[0;34m(self, path_or_buffer, engine, storage_options, engine_kwargs)\u001b[0m\n\u001b[1;32m   1548\u001b[0m     ext \u001b[38;5;241m=\u001b[39m \u001b[38;5;124m\"\u001b[39m\u001b[38;5;124mxls\u001b[39m\u001b[38;5;124m\"\u001b[39m\n\u001b[1;32m   1549\u001b[0m \u001b[38;5;28;01melse\u001b[39;00m:\n\u001b[0;32m-> 1550\u001b[0m     ext \u001b[38;5;241m=\u001b[39m \u001b[43minspect_excel_format\u001b[49m\u001b[43m(\u001b[49m\n\u001b[1;32m   1551\u001b[0m \u001b[43m        \u001b[49m\u001b[43mcontent_or_path\u001b[49m\u001b[38;5;241;43m=\u001b[39;49m\u001b[43mpath_or_buffer\u001b[49m\u001b[43m,\u001b[49m\u001b[43m \u001b[49m\u001b[43mstorage_options\u001b[49m\u001b[38;5;241;43m=\u001b[39;49m\u001b[43mstorage_options\u001b[49m\n\u001b[1;32m   1552\u001b[0m \u001b[43m    \u001b[49m\u001b[43m)\u001b[49m\n\u001b[1;32m   1553\u001b[0m     \u001b[38;5;28;01mif\u001b[39;00m ext \u001b[38;5;129;01mis\u001b[39;00m \u001b[38;5;28;01mNone\u001b[39;00m:\n\u001b[1;32m   1554\u001b[0m         \u001b[38;5;28;01mraise\u001b[39;00m \u001b[38;5;167;01mValueError\u001b[39;00m(\n\u001b[1;32m   1555\u001b[0m             \u001b[38;5;124m\"\u001b[39m\u001b[38;5;124mExcel file format cannot be determined, you must specify \u001b[39m\u001b[38;5;124m\"\u001b[39m\n\u001b[1;32m   1556\u001b[0m             \u001b[38;5;124m\"\u001b[39m\u001b[38;5;124man engine manually.\u001b[39m\u001b[38;5;124m\"\u001b[39m\n\u001b[1;32m   1557\u001b[0m         )\n",
      "File \u001b[0;32m~/virtual_envs/env_pnboia_qc/lib/python3.11/site-packages/pandas/io/excel/_base.py:1402\u001b[0m, in \u001b[0;36minspect_excel_format\u001b[0;34m(content_or_path, storage_options)\u001b[0m\n\u001b[1;32m   1399\u001b[0m \u001b[38;5;28;01mif\u001b[39;00m \u001b[38;5;28misinstance\u001b[39m(content_or_path, \u001b[38;5;28mbytes\u001b[39m):\n\u001b[1;32m   1400\u001b[0m     content_or_path \u001b[38;5;241m=\u001b[39m BytesIO(content_or_path)\n\u001b[0;32m-> 1402\u001b[0m \u001b[38;5;28;01mwith\u001b[39;00m \u001b[43mget_handle\u001b[49m\u001b[43m(\u001b[49m\n\u001b[1;32m   1403\u001b[0m \u001b[43m    \u001b[49m\u001b[43mcontent_or_path\u001b[49m\u001b[43m,\u001b[49m\u001b[43m \u001b[49m\u001b[38;5;124;43m\"\u001b[39;49m\u001b[38;5;124;43mrb\u001b[39;49m\u001b[38;5;124;43m\"\u001b[39;49m\u001b[43m,\u001b[49m\u001b[43m \u001b[49m\u001b[43mstorage_options\u001b[49m\u001b[38;5;241;43m=\u001b[39;49m\u001b[43mstorage_options\u001b[49m\u001b[43m,\u001b[49m\u001b[43m \u001b[49m\u001b[43mis_text\u001b[49m\u001b[38;5;241;43m=\u001b[39;49m\u001b[38;5;28;43;01mFalse\u001b[39;49;00m\n\u001b[1;32m   1404\u001b[0m \u001b[43m\u001b[49m\u001b[43m)\u001b[49m \u001b[38;5;28;01mas\u001b[39;00m handle:\n\u001b[1;32m   1405\u001b[0m     stream \u001b[38;5;241m=\u001b[39m handle\u001b[38;5;241m.\u001b[39mhandle\n\u001b[1;32m   1406\u001b[0m     stream\u001b[38;5;241m.\u001b[39mseek(\u001b[38;5;241m0\u001b[39m)\n",
      "File \u001b[0;32m~/virtual_envs/env_pnboia_qc/lib/python3.11/site-packages/pandas/io/common.py:882\u001b[0m, in \u001b[0;36mget_handle\u001b[0;34m(path_or_buf, mode, encoding, compression, memory_map, is_text, errors, storage_options)\u001b[0m\n\u001b[1;32m    873\u001b[0m         handle \u001b[38;5;241m=\u001b[39m \u001b[38;5;28mopen\u001b[39m(\n\u001b[1;32m    874\u001b[0m             handle,\n\u001b[1;32m    875\u001b[0m             ioargs\u001b[38;5;241m.\u001b[39mmode,\n\u001b[0;32m   (...)\u001b[0m\n\u001b[1;32m    878\u001b[0m             newline\u001b[38;5;241m=\u001b[39m\u001b[38;5;124m\"\u001b[39m\u001b[38;5;124m\"\u001b[39m,\n\u001b[1;32m    879\u001b[0m         )\n\u001b[1;32m    880\u001b[0m     \u001b[38;5;28;01melse\u001b[39;00m:\n\u001b[1;32m    881\u001b[0m         \u001b[38;5;66;03m# Binary mode\u001b[39;00m\n\u001b[0;32m--> 882\u001b[0m         handle \u001b[38;5;241m=\u001b[39m \u001b[38;5;28;43mopen\u001b[39;49m\u001b[43m(\u001b[49m\u001b[43mhandle\u001b[49m\u001b[43m,\u001b[49m\u001b[43m \u001b[49m\u001b[43mioargs\u001b[49m\u001b[38;5;241;43m.\u001b[39;49m\u001b[43mmode\u001b[49m\u001b[43m)\u001b[49m\n\u001b[1;32m    883\u001b[0m     handles\u001b[38;5;241m.\u001b[39mappend(handle)\n\u001b[1;32m    885\u001b[0m \u001b[38;5;66;03m# Convert BytesIO or file objects passed with an encoding\u001b[39;00m\n",
      "\u001b[0;31mFileNotFoundError\u001b[0m: [Errno 2] No such file or directory: '../raw_data/po.xlsx'"
     ]
    }
   ],
   "source": [
    "df = pd.read_excel('../raw_data/po.xlsx')"
   ]
  },
  {
   "cell_type": "code",
   "execution_count": 3,
   "id": "495ef1e8",
   "metadata": {},
   "outputs": [
    {
     "data": {
      "text/html": [
       "<div>\n",
       "<style scoped>\n",
       "    .dataframe tbody tr th:only-of-type {\n",
       "        vertical-align: middle;\n",
       "    }\n",
       "\n",
       "    .dataframe tbody tr th {\n",
       "        vertical-align: top;\n",
       "    }\n",
       "\n",
       "    .dataframe thead th {\n",
       "        text-align: right;\n",
       "    }\n",
       "</style>\n",
       "<table border=\"1\" class=\"dataframe\">\n",
       "  <thead>\n",
       "    <tr style=\"text-align: right;\">\n",
       "      <th></th>\n",
       "      <th>#ano</th>\n",
       "      <th>mes</th>\n",
       "      <th>dia</th>\n",
       "      <th>hora</th>\n",
       "      <th>lon</th>\n",
       "      <th>lat</th>\n",
       "      <th>battery</th>\n",
       "      <th>wspd1</th>\n",
       "      <th>gust1</th>\n",
       "      <th>wdir1</th>\n",
       "      <th>...</th>\n",
       "      <th>cdir1</th>\n",
       "      <th>cvel2</th>\n",
       "      <th>cdir2</th>\n",
       "      <th>cvel3</th>\n",
       "      <th>cdir3</th>\n",
       "      <th>wvht</th>\n",
       "      <th>wmax</th>\n",
       "      <th>dpd</th>\n",
       "      <th>mwd</th>\n",
       "      <th>spred</th>\n",
       "    </tr>\n",
       "  </thead>\n",
       "  <tbody>\n",
       "    <tr>\n",
       "      <th>0</th>\n",
       "      <td>2012</td>\n",
       "      <td>7</td>\n",
       "      <td>6</td>\n",
       "      <td>4</td>\n",
       "      <td>-37.945000</td>\n",
       "      <td>-15.989500</td>\n",
       "      <td>12.2</td>\n",
       "      <td>7.6</td>\n",
       "      <td>9.2</td>\n",
       "      <td>132.0</td>\n",
       "      <td>...</td>\n",
       "      <td>175.25</td>\n",
       "      <td>99.91</td>\n",
       "      <td>177.81</td>\n",
       "      <td>97.79</td>\n",
       "      <td>183.18</td>\n",
       "      <td>-9999.0</td>\n",
       "      <td>-9999.0</td>\n",
       "      <td>-9999.0</td>\n",
       "      <td>-9999.0</td>\n",
       "      <td>-9999.0</td>\n",
       "    </tr>\n",
       "    <tr>\n",
       "      <th>1</th>\n",
       "      <td>2012</td>\n",
       "      <td>7</td>\n",
       "      <td>6</td>\n",
       "      <td>5</td>\n",
       "      <td>-37.945667</td>\n",
       "      <td>-15.988833</td>\n",
       "      <td>12.2</td>\n",
       "      <td>7.4</td>\n",
       "      <td>9.1</td>\n",
       "      <td>122.0</td>\n",
       "      <td>...</td>\n",
       "      <td>189.33</td>\n",
       "      <td>84.58</td>\n",
       "      <td>186.64</td>\n",
       "      <td>97.82</td>\n",
       "      <td>169.48</td>\n",
       "      <td>-9999.0</td>\n",
       "      <td>-9999.0</td>\n",
       "      <td>-9999.0</td>\n",
       "      <td>-9999.0</td>\n",
       "      <td>-9999.0</td>\n",
       "    </tr>\n",
       "    <tr>\n",
       "      <th>2</th>\n",
       "      <td>2012</td>\n",
       "      <td>7</td>\n",
       "      <td>6</td>\n",
       "      <td>6</td>\n",
       "      <td>-37.945833</td>\n",
       "      <td>-15.987833</td>\n",
       "      <td>12.2</td>\n",
       "      <td>6.2</td>\n",
       "      <td>7.9</td>\n",
       "      <td>127.0</td>\n",
       "      <td>...</td>\n",
       "      <td>325.59</td>\n",
       "      <td>43.52</td>\n",
       "      <td>324.20</td>\n",
       "      <td>43.96</td>\n",
       "      <td>344.74</td>\n",
       "      <td>-9999.0</td>\n",
       "      <td>-9999.0</td>\n",
       "      <td>-9999.0</td>\n",
       "      <td>-9999.0</td>\n",
       "      <td>-9999.0</td>\n",
       "    </tr>\n",
       "    <tr>\n",
       "      <th>3</th>\n",
       "      <td>2012</td>\n",
       "      <td>7</td>\n",
       "      <td>6</td>\n",
       "      <td>7</td>\n",
       "      <td>-37.945833</td>\n",
       "      <td>-15.988333</td>\n",
       "      <td>12.2</td>\n",
       "      <td>6.8</td>\n",
       "      <td>8.5</td>\n",
       "      <td>112.0</td>\n",
       "      <td>...</td>\n",
       "      <td>270.37</td>\n",
       "      <td>27.47</td>\n",
       "      <td>268.81</td>\n",
       "      <td>28.30</td>\n",
       "      <td>208.79</td>\n",
       "      <td>-9999.0</td>\n",
       "      <td>-9999.0</td>\n",
       "      <td>-9999.0</td>\n",
       "      <td>-9999.0</td>\n",
       "      <td>-9999.0</td>\n",
       "    </tr>\n",
       "    <tr>\n",
       "      <th>4</th>\n",
       "      <td>2012</td>\n",
       "      <td>7</td>\n",
       "      <td>6</td>\n",
       "      <td>8</td>\n",
       "      <td>-37.945500</td>\n",
       "      <td>-15.989000</td>\n",
       "      <td>12.2</td>\n",
       "      <td>7.6</td>\n",
       "      <td>9.8</td>\n",
       "      <td>116.0</td>\n",
       "      <td>...</td>\n",
       "      <td>212.59</td>\n",
       "      <td>81.56</td>\n",
       "      <td>202.39</td>\n",
       "      <td>78.75</td>\n",
       "      <td>238.80</td>\n",
       "      <td>-9999.0</td>\n",
       "      <td>-9999.0</td>\n",
       "      <td>-9999.0</td>\n",
       "      <td>-9999.0</td>\n",
       "      <td>-9999.0</td>\n",
       "    </tr>\n",
       "  </tbody>\n",
       "</table>\n",
       "<p>5 rows × 31 columns</p>\n",
       "</div>"
      ],
      "text/plain": [
       "   #ano  mes  dia  hora        lon        lat  battery  wspd1  gust1  wdir1  \\\n",
       "0  2012    7    6     4 -37.945000 -15.989500     12.2    7.6    9.2  132.0   \n",
       "1  2012    7    6     5 -37.945667 -15.988833     12.2    7.4    9.1  122.0   \n",
       "2  2012    7    6     6 -37.945833 -15.987833     12.2    6.2    7.9  127.0   \n",
       "3  2012    7    6     7 -37.945833 -15.988333     12.2    6.8    8.5  112.0   \n",
       "4  2012    7    6     8 -37.945500 -15.989000     12.2    7.6    9.8  116.0   \n",
       "\n",
       "   ...   cdir1  cvel2   cdir2  cvel3   cdir3    wvht    wmax     dpd     mwd  \\\n",
       "0  ...  175.25  99.91  177.81  97.79  183.18 -9999.0 -9999.0 -9999.0 -9999.0   \n",
       "1  ...  189.33  84.58  186.64  97.82  169.48 -9999.0 -9999.0 -9999.0 -9999.0   \n",
       "2  ...  325.59  43.52  324.20  43.96  344.74 -9999.0 -9999.0 -9999.0 -9999.0   \n",
       "3  ...  270.37  27.47  268.81  28.30  208.79 -9999.0 -9999.0 -9999.0 -9999.0   \n",
       "4  ...  212.59  81.56  202.39  78.75  238.80 -9999.0 -9999.0 -9999.0 -9999.0   \n",
       "\n",
       "    spred  \n",
       "0 -9999.0  \n",
       "1 -9999.0  \n",
       "2 -9999.0  \n",
       "3 -9999.0  \n",
       "4 -9999.0  \n",
       "\n",
       "[5 rows x 31 columns]"
      ]
     },
     "execution_count": 3,
     "metadata": {},
     "output_type": "execute_result"
    }
   ],
   "source": [
    "df.head()"
   ]
  },
  {
   "cell_type": "code",
   "execution_count": 3,
   "id": "b2bb872c",
   "metadata": {},
   "outputs": [],
   "source": [
    "# H\n",
    "# nao achei o arquivo po.xlsx, mas parece ser um raw de uma axys historica. O resultado final é um dataframe parseado nos campos de interesse.\n",
    "# variables vai receber os nomes desses campos de interesse."
   ]
  },
  {
   "cell_type": "markdown",
   "id": "cf56ada2",
   "metadata": {},
   "source": [
    "## Create DateTime column"
   ]
  },
  {
   "cell_type": "code",
   "execution_count": 4,
   "id": "a47ff06c",
   "metadata": {},
   "outputs": [],
   "source": [
    "df['date_time'] = df['#ano'].astype(str).str.zfill(4) + df['mes'].astype(str).str.zfill(2) + df['dia'].astype(str).str.zfill(2) + df['hora'].astype(str).str.zfill(2)"
   ]
  },
  {
   "cell_type": "code",
   "execution_count": 5,
   "id": "6b913eee",
   "metadata": {},
   "outputs": [],
   "source": [
    "df['date_time'] = pd.to_datetime(df['date_time'], format='%Y%m%d%H')\n",
    "df.set_index('date_time', inplace=True)"
   ]
  },
  {
   "cell_type": "code",
   "execution_count": 6,
   "id": "62039885",
   "metadata": {},
   "outputs": [],
   "source": [
    "df.drop(columns=['#ano', 'mes', 'dia', 'hora'], inplace=True)"
   ]
  },
  {
   "cell_type": "code",
   "execution_count": 7,
   "id": "f86cfd90",
   "metadata": {},
   "outputs": [],
   "source": [
    "df.columns = ['lon', 'lat', 'battery', 'wspd1', 'gust1', 'wdir1', 'wspd2', 'gust2',\n",
    "       'wdir2', 'atmp', 'rh', 'dewpt', 'pres', 'sst', 'compass', 'arad',\n",
    "       'cspd1', 'cdir1', 'cspd2', 'cdir2', 'cspd3', 'cdir3', 'swvht', 'mxwvht',\n",
    "       'tp', 'wvdir', 'spred']"
   ]
  },
  {
   "cell_type": "code",
   "execution_count": 8,
   "id": "be643217",
   "metadata": {},
   "outputs": [
    {
     "data": {
      "text/html": [
       "<div>\n",
       "<style scoped>\n",
       "    .dataframe tbody tr th:only-of-type {\n",
       "        vertical-align: middle;\n",
       "    }\n",
       "\n",
       "    .dataframe tbody tr th {\n",
       "        vertical-align: top;\n",
       "    }\n",
       "\n",
       "    .dataframe thead th {\n",
       "        text-align: right;\n",
       "    }\n",
       "</style>\n",
       "<table border=\"1\" class=\"dataframe\">\n",
       "  <thead>\n",
       "    <tr style=\"text-align: right;\">\n",
       "      <th></th>\n",
       "      <th>lon</th>\n",
       "      <th>lat</th>\n",
       "      <th>battery</th>\n",
       "      <th>wspd1</th>\n",
       "      <th>gust1</th>\n",
       "      <th>wdir1</th>\n",
       "      <th>wspd2</th>\n",
       "      <th>gust2</th>\n",
       "      <th>wdir2</th>\n",
       "      <th>atmp</th>\n",
       "      <th>...</th>\n",
       "      <th>cdir1</th>\n",
       "      <th>cspd2</th>\n",
       "      <th>cdir2</th>\n",
       "      <th>cspd3</th>\n",
       "      <th>cdir3</th>\n",
       "      <th>swvht</th>\n",
       "      <th>mxwvht</th>\n",
       "      <th>tp</th>\n",
       "      <th>wvdir</th>\n",
       "      <th>spred</th>\n",
       "    </tr>\n",
       "    <tr>\n",
       "      <th>date_time</th>\n",
       "      <th></th>\n",
       "      <th></th>\n",
       "      <th></th>\n",
       "      <th></th>\n",
       "      <th></th>\n",
       "      <th></th>\n",
       "      <th></th>\n",
       "      <th></th>\n",
       "      <th></th>\n",
       "      <th></th>\n",
       "      <th></th>\n",
       "      <th></th>\n",
       "      <th></th>\n",
       "      <th></th>\n",
       "      <th></th>\n",
       "      <th></th>\n",
       "      <th></th>\n",
       "      <th></th>\n",
       "      <th></th>\n",
       "      <th></th>\n",
       "      <th></th>\n",
       "    </tr>\n",
       "  </thead>\n",
       "  <tbody>\n",
       "    <tr>\n",
       "      <th>2012-07-06 04:00:00</th>\n",
       "      <td>-37.945000</td>\n",
       "      <td>-15.989500</td>\n",
       "      <td>12.2</td>\n",
       "      <td>7.6</td>\n",
       "      <td>9.2</td>\n",
       "      <td>132.0</td>\n",
       "      <td>7.4</td>\n",
       "      <td>9.1</td>\n",
       "      <td>130.0</td>\n",
       "      <td>24.9</td>\n",
       "      <td>...</td>\n",
       "      <td>175.25</td>\n",
       "      <td>99.91</td>\n",
       "      <td>177.81</td>\n",
       "      <td>97.79</td>\n",
       "      <td>183.18</td>\n",
       "      <td>-9999.0</td>\n",
       "      <td>-9999.0</td>\n",
       "      <td>-9999.0</td>\n",
       "      <td>-9999.0</td>\n",
       "      <td>-9999.0</td>\n",
       "    </tr>\n",
       "    <tr>\n",
       "      <th>2012-07-06 05:00:00</th>\n",
       "      <td>-37.945667</td>\n",
       "      <td>-15.988833</td>\n",
       "      <td>12.2</td>\n",
       "      <td>7.4</td>\n",
       "      <td>9.1</td>\n",
       "      <td>122.0</td>\n",
       "      <td>7.2</td>\n",
       "      <td>8.9</td>\n",
       "      <td>120.0</td>\n",
       "      <td>24.5</td>\n",
       "      <td>...</td>\n",
       "      <td>189.33</td>\n",
       "      <td>84.58</td>\n",
       "      <td>186.64</td>\n",
       "      <td>97.82</td>\n",
       "      <td>169.48</td>\n",
       "      <td>-9999.0</td>\n",
       "      <td>-9999.0</td>\n",
       "      <td>-9999.0</td>\n",
       "      <td>-9999.0</td>\n",
       "      <td>-9999.0</td>\n",
       "    </tr>\n",
       "    <tr>\n",
       "      <th>2012-07-06 06:00:00</th>\n",
       "      <td>-37.945833</td>\n",
       "      <td>-15.987833</td>\n",
       "      <td>12.2</td>\n",
       "      <td>6.2</td>\n",
       "      <td>7.9</td>\n",
       "      <td>127.0</td>\n",
       "      <td>6.1</td>\n",
       "      <td>7.7</td>\n",
       "      <td>125.0</td>\n",
       "      <td>24.3</td>\n",
       "      <td>...</td>\n",
       "      <td>325.59</td>\n",
       "      <td>43.52</td>\n",
       "      <td>324.20</td>\n",
       "      <td>43.96</td>\n",
       "      <td>344.74</td>\n",
       "      <td>-9999.0</td>\n",
       "      <td>-9999.0</td>\n",
       "      <td>-9999.0</td>\n",
       "      <td>-9999.0</td>\n",
       "      <td>-9999.0</td>\n",
       "    </tr>\n",
       "    <tr>\n",
       "      <th>2012-07-06 07:00:00</th>\n",
       "      <td>-37.945833</td>\n",
       "      <td>-15.988333</td>\n",
       "      <td>12.2</td>\n",
       "      <td>6.8</td>\n",
       "      <td>8.5</td>\n",
       "      <td>112.0</td>\n",
       "      <td>6.6</td>\n",
       "      <td>8.4</td>\n",
       "      <td>111.0</td>\n",
       "      <td>24.9</td>\n",
       "      <td>...</td>\n",
       "      <td>270.37</td>\n",
       "      <td>27.47</td>\n",
       "      <td>268.81</td>\n",
       "      <td>28.30</td>\n",
       "      <td>208.79</td>\n",
       "      <td>-9999.0</td>\n",
       "      <td>-9999.0</td>\n",
       "      <td>-9999.0</td>\n",
       "      <td>-9999.0</td>\n",
       "      <td>-9999.0</td>\n",
       "    </tr>\n",
       "    <tr>\n",
       "      <th>2012-07-06 08:00:00</th>\n",
       "      <td>-37.945500</td>\n",
       "      <td>-15.989000</td>\n",
       "      <td>12.2</td>\n",
       "      <td>7.6</td>\n",
       "      <td>9.8</td>\n",
       "      <td>116.0</td>\n",
       "      <td>7.4</td>\n",
       "      <td>9.6</td>\n",
       "      <td>114.0</td>\n",
       "      <td>25.0</td>\n",
       "      <td>...</td>\n",
       "      <td>212.59</td>\n",
       "      <td>81.56</td>\n",
       "      <td>202.39</td>\n",
       "      <td>78.75</td>\n",
       "      <td>238.80</td>\n",
       "      <td>-9999.0</td>\n",
       "      <td>-9999.0</td>\n",
       "      <td>-9999.0</td>\n",
       "      <td>-9999.0</td>\n",
       "      <td>-9999.0</td>\n",
       "    </tr>\n",
       "  </tbody>\n",
       "</table>\n",
       "<p>5 rows × 27 columns</p>\n",
       "</div>"
      ],
      "text/plain": [
       "                           lon        lat  battery  wspd1  gust1  wdir1  \\\n",
       "date_time                                                                 \n",
       "2012-07-06 04:00:00 -37.945000 -15.989500     12.2    7.6    9.2  132.0   \n",
       "2012-07-06 05:00:00 -37.945667 -15.988833     12.2    7.4    9.1  122.0   \n",
       "2012-07-06 06:00:00 -37.945833 -15.987833     12.2    6.2    7.9  127.0   \n",
       "2012-07-06 07:00:00 -37.945833 -15.988333     12.2    6.8    8.5  112.0   \n",
       "2012-07-06 08:00:00 -37.945500 -15.989000     12.2    7.6    9.8  116.0   \n",
       "\n",
       "                     wspd2  gust2  wdir2  atmp  ...   cdir1  cspd2   cdir2  \\\n",
       "date_time                                       ...                          \n",
       "2012-07-06 04:00:00    7.4    9.1  130.0  24.9  ...  175.25  99.91  177.81   \n",
       "2012-07-06 05:00:00    7.2    8.9  120.0  24.5  ...  189.33  84.58  186.64   \n",
       "2012-07-06 06:00:00    6.1    7.7  125.0  24.3  ...  325.59  43.52  324.20   \n",
       "2012-07-06 07:00:00    6.6    8.4  111.0  24.9  ...  270.37  27.47  268.81   \n",
       "2012-07-06 08:00:00    7.4    9.6  114.0  25.0  ...  212.59  81.56  202.39   \n",
       "\n",
       "                     cspd3   cdir3   swvht  mxwvht      tp   wvdir   spred  \n",
       "date_time                                                                   \n",
       "2012-07-06 04:00:00  97.79  183.18 -9999.0 -9999.0 -9999.0 -9999.0 -9999.0  \n",
       "2012-07-06 05:00:00  97.82  169.48 -9999.0 -9999.0 -9999.0 -9999.0 -9999.0  \n",
       "2012-07-06 06:00:00  43.96  344.74 -9999.0 -9999.0 -9999.0 -9999.0 -9999.0  \n",
       "2012-07-06 07:00:00  28.30  208.79 -9999.0 -9999.0 -9999.0 -9999.0 -9999.0  \n",
       "2012-07-06 08:00:00  78.75  238.80 -9999.0 -9999.0 -9999.0 -9999.0 -9999.0  \n",
       "\n",
       "[5 rows x 27 columns]"
      ]
     },
     "execution_count": 8,
     "metadata": {},
     "output_type": "execute_result"
    }
   ],
   "source": [
    "df.head()"
   ]
  },
  {
   "cell_type": "code",
   "execution_count": 9,
   "id": "413fffc0",
   "metadata": {},
   "outputs": [],
   "source": [
    "variables = df.drop(columns=['lon', 'lat', 'battery']).columns.to_list()"
   ]
  },
  {
   "cell_type": "code",
   "execution_count": 117,
   "id": "b71eab35",
   "metadata": {},
   "outputs": [],
   "source": [
    "# H\n",
    "# obtendo um dado general analogo de uma axys_general_new pra testar e adaptando pra ficar parecido ao po.xlsx\n",
    "\n",
    "df = pd.read_csv('../itaguai_gen_100.csv',index_col='date_time')\n",
    "\n",
    "#eventualmente podemos usar o extractor nesse passo"
   ]
  },
  {
   "cell_type": "code",
   "execution_count": 11,
   "id": "ef430849",
   "metadata": {},
   "outputs": [
    {
     "name": "stderr",
     "output_type": "stream",
     "text": [
      "/tmp/ipykernel_15473/3149113173.py:12: UserWarning: pandas only supports SQLAlchemy connectable (engine/connection) or database string URI or sqlite3 DBAPI2 connection. Other DBAPI2 objects are not tested. Please consider using SQLAlchemy.\n",
      "  df = sqlio.read_sql(query, conn)\n"
     ]
    }
   ],
   "source": [
    "def extractor(id, table='qualified_data.qualified_data'):\n",
    "    # Connect to your postgres DB\n",
    "    conn = psycopg2.connect(f\"dbname={os.getenv('DB_NAME')} \\\n",
    "                            user={os.getenv('DB_USER')} \\\n",
    "                            password={os.getenv('DB_PASSWORD')} \\\n",
    "                            host={os.getenv('DB_HOST')}\")\n",
    "\n",
    "    query = f\"SELECT * FROM {table} WHERE buoy_id = {id}\"\n",
    "\n",
    "    query += \" ORDER BY date_time\"\n",
    "    \n",
    "    df = sqlio.read_sql(query, conn)\n",
    "    conn.close()\n",
    "\n",
    "    return df\n",
    "\n",
    "# df = extractor(8,table='moored.axys_general_new') # exemplo axys\n",
    "df = extractor(36,table='moored.bmobr_general') # exemplo axys\n",
    "df.set_index('date_time',inplace=True)"
   ]
  },
  {
   "cell_type": "code",
   "execution_count": 12,
   "id": "23947f48",
   "metadata": {},
   "outputs": [
    {
     "data": {
      "text/html": [
       "<div>\n",
       "<style scoped>\n",
       "    .dataframe tbody tr th:only-of-type {\n",
       "        vertical-align: middle;\n",
       "    }\n",
       "\n",
       "    .dataframe tbody tr th {\n",
       "        vertical-align: top;\n",
       "    }\n",
       "\n",
       "    .dataframe thead th {\n",
       "        text-align: right;\n",
       "    }\n",
       "</style>\n",
       "<table border=\"1\" class=\"dataframe\">\n",
       "  <thead>\n",
       "    <tr style=\"text-align: right;\">\n",
       "      <th></th>\n",
       "      <th>id</th>\n",
       "      <th>buoy_id</th>\n",
       "      <th>latitude</th>\n",
       "      <th>longitude</th>\n",
       "      <th>geom</th>\n",
       "      <th>battery</th>\n",
       "      <th>temp_datalogger</th>\n",
       "      <th>compass</th>\n",
       "      <th>wspd1</th>\n",
       "      <th>wdir1</th>\n",
       "      <th>...</th>\n",
       "      <th>tsig</th>\n",
       "      <th>h110</th>\n",
       "      <th>t110</th>\n",
       "      <th>tm02</th>\n",
       "      <th>tp_dir</th>\n",
       "      <th>tp_spread</th>\n",
       "      <th>tp5</th>\n",
       "      <th>hm0</th>\n",
       "      <th>te</th>\n",
       "      <th>tm01</th>\n",
       "    </tr>\n",
       "    <tr>\n",
       "      <th>date_time</th>\n",
       "      <th></th>\n",
       "      <th></th>\n",
       "      <th></th>\n",
       "      <th></th>\n",
       "      <th></th>\n",
       "      <th></th>\n",
       "      <th></th>\n",
       "      <th></th>\n",
       "      <th></th>\n",
       "      <th></th>\n",
       "      <th></th>\n",
       "      <th></th>\n",
       "      <th></th>\n",
       "      <th></th>\n",
       "      <th></th>\n",
       "      <th></th>\n",
       "      <th></th>\n",
       "      <th></th>\n",
       "      <th></th>\n",
       "      <th></th>\n",
       "      <th></th>\n",
       "    </tr>\n",
       "  </thead>\n",
       "  <tbody>\n",
       "    <tr>\n",
       "      <th>2022-12-06 20:00:00</th>\n",
       "      <td>10426</td>\n",
       "      <td>36</td>\n",
       "      <td>-22.8855</td>\n",
       "      <td>-43.1353</td>\n",
       "      <td>0101000020E61000000C93A982519145C0A69BC420B0E2...</td>\n",
       "      <td>13.8</td>\n",
       "      <td>27.3</td>\n",
       "      <td>NaN</td>\n",
       "      <td>2.8</td>\n",
       "      <td>245.0</td>\n",
       "      <td>...</td>\n",
       "      <td>NaN</td>\n",
       "      <td>NaN</td>\n",
       "      <td>NaN</td>\n",
       "      <td>NaN</td>\n",
       "      <td>NaN</td>\n",
       "      <td>NaN</td>\n",
       "      <td>NaN</td>\n",
       "      <td>NaN</td>\n",
       "      <td>NaN</td>\n",
       "      <td>NaN</td>\n",
       "    </tr>\n",
       "    <tr>\n",
       "      <th>2022-12-06 21:00:00</th>\n",
       "      <td>10427</td>\n",
       "      <td>36</td>\n",
       "      <td>-22.8854</td>\n",
       "      <td>-43.1356</td>\n",
       "      <td>0101000020E610000036AB3E575B9145C0DFE00B93A9E2...</td>\n",
       "      <td>13.1</td>\n",
       "      <td>26.7</td>\n",
       "      <td>NaN</td>\n",
       "      <td>0.2</td>\n",
       "      <td>226.0</td>\n",
       "      <td>...</td>\n",
       "      <td>NaN</td>\n",
       "      <td>NaN</td>\n",
       "      <td>NaN</td>\n",
       "      <td>NaN</td>\n",
       "      <td>NaN</td>\n",
       "      <td>NaN</td>\n",
       "      <td>NaN</td>\n",
       "      <td>NaN</td>\n",
       "      <td>NaN</td>\n",
       "      <td>NaN</td>\n",
       "    </tr>\n",
       "    <tr>\n",
       "      <th>2022-12-06 22:00:00</th>\n",
       "      <td>10428</td>\n",
       "      <td>36</td>\n",
       "      <td>-22.8854</td>\n",
       "      <td>-43.1356</td>\n",
       "      <td>0101000020E610000036AB3E575B9145C0DFE00B93A9E2...</td>\n",
       "      <td>13.0</td>\n",
       "      <td>26.0</td>\n",
       "      <td>NaN</td>\n",
       "      <td>0.3</td>\n",
       "      <td>218.0</td>\n",
       "      <td>...</td>\n",
       "      <td>NaN</td>\n",
       "      <td>NaN</td>\n",
       "      <td>NaN</td>\n",
       "      <td>NaN</td>\n",
       "      <td>NaN</td>\n",
       "      <td>NaN</td>\n",
       "      <td>NaN</td>\n",
       "      <td>NaN</td>\n",
       "      <td>NaN</td>\n",
       "      <td>NaN</td>\n",
       "    </tr>\n",
       "    <tr>\n",
       "      <th>2022-12-06 23:00:00</th>\n",
       "      <td>10429</td>\n",
       "      <td>36</td>\n",
       "      <td>-22.8854</td>\n",
       "      <td>-43.1356</td>\n",
       "      <td>0101000020E610000036AB3E575B9145C0DFE00B93A9E2...</td>\n",
       "      <td>13.0</td>\n",
       "      <td>25.6</td>\n",
       "      <td>NaN</td>\n",
       "      <td>0.0</td>\n",
       "      <td>185.0</td>\n",
       "      <td>...</td>\n",
       "      <td>NaN</td>\n",
       "      <td>NaN</td>\n",
       "      <td>NaN</td>\n",
       "      <td>NaN</td>\n",
       "      <td>NaN</td>\n",
       "      <td>NaN</td>\n",
       "      <td>NaN</td>\n",
       "      <td>NaN</td>\n",
       "      <td>NaN</td>\n",
       "      <td>NaN</td>\n",
       "    </tr>\n",
       "    <tr>\n",
       "      <th>2022-12-07 00:00:00</th>\n",
       "      <td>10430</td>\n",
       "      <td>36</td>\n",
       "      <td>-22.8854</td>\n",
       "      <td>-43.1356</td>\n",
       "      <td>0101000020E610000036AB3E575B9145C0DFE00B93A9E2...</td>\n",
       "      <td>13.0</td>\n",
       "      <td>25.3</td>\n",
       "      <td>NaN</td>\n",
       "      <td>0.1</td>\n",
       "      <td>32.0</td>\n",
       "      <td>...</td>\n",
       "      <td>NaN</td>\n",
       "      <td>NaN</td>\n",
       "      <td>NaN</td>\n",
       "      <td>NaN</td>\n",
       "      <td>NaN</td>\n",
       "      <td>NaN</td>\n",
       "      <td>NaN</td>\n",
       "      <td>NaN</td>\n",
       "      <td>NaN</td>\n",
       "      <td>NaN</td>\n",
       "    </tr>\n",
       "  </tbody>\n",
       "</table>\n",
       "<p>5 rows × 78 columns</p>\n",
       "</div>"
      ],
      "text/plain": [
       "                        id  buoy_id  latitude  longitude  \\\n",
       "date_time                                                  \n",
       "2022-12-06 20:00:00  10426       36  -22.8855   -43.1353   \n",
       "2022-12-06 21:00:00  10427       36  -22.8854   -43.1356   \n",
       "2022-12-06 22:00:00  10428       36  -22.8854   -43.1356   \n",
       "2022-12-06 23:00:00  10429       36  -22.8854   -43.1356   \n",
       "2022-12-07 00:00:00  10430       36  -22.8854   -43.1356   \n",
       "\n",
       "                                                                  geom  \\\n",
       "date_time                                                                \n",
       "2022-12-06 20:00:00  0101000020E61000000C93A982519145C0A69BC420B0E2...   \n",
       "2022-12-06 21:00:00  0101000020E610000036AB3E575B9145C0DFE00B93A9E2...   \n",
       "2022-12-06 22:00:00  0101000020E610000036AB3E575B9145C0DFE00B93A9E2...   \n",
       "2022-12-06 23:00:00  0101000020E610000036AB3E575B9145C0DFE00B93A9E2...   \n",
       "2022-12-07 00:00:00  0101000020E610000036AB3E575B9145C0DFE00B93A9E2...   \n",
       "\n",
       "                     battery  temp_datalogger  compass  wspd1  wdir1  ...  \\\n",
       "date_time                                                             ...   \n",
       "2022-12-06 20:00:00     13.8             27.3      NaN    2.8  245.0  ...   \n",
       "2022-12-06 21:00:00     13.1             26.7      NaN    0.2  226.0  ...   \n",
       "2022-12-06 22:00:00     13.0             26.0      NaN    0.3  218.0  ...   \n",
       "2022-12-06 23:00:00     13.0             25.6      NaN    0.0  185.0  ...   \n",
       "2022-12-07 00:00:00     13.0             25.3      NaN    0.1   32.0  ...   \n",
       "\n",
       "                     tsig  h110  t110  tm02  tp_dir  tp_spread  tp5  hm0  te  \\\n",
       "date_time                                                                      \n",
       "2022-12-06 20:00:00   NaN   NaN   NaN   NaN     NaN        NaN  NaN  NaN NaN   \n",
       "2022-12-06 21:00:00   NaN   NaN   NaN   NaN     NaN        NaN  NaN  NaN NaN   \n",
       "2022-12-06 22:00:00   NaN   NaN   NaN   NaN     NaN        NaN  NaN  NaN NaN   \n",
       "2022-12-06 23:00:00   NaN   NaN   NaN   NaN     NaN        NaN  NaN  NaN NaN   \n",
       "2022-12-07 00:00:00   NaN   NaN   NaN   NaN     NaN        NaN  NaN  NaN NaN   \n",
       "\n",
       "                     tm01  \n",
       "date_time                  \n",
       "2022-12-06 20:00:00   NaN  \n",
       "2022-12-06 21:00:00   NaN  \n",
       "2022-12-06 22:00:00   NaN  \n",
       "2022-12-06 23:00:00   NaN  \n",
       "2022-12-07 00:00:00   NaN  \n",
       "\n",
       "[5 rows x 78 columns]"
      ]
     },
     "execution_count": 12,
     "metadata": {},
     "output_type": "execute_result"
    }
   ],
   "source": [
    "df.dropna(axis=1,how='all',inplace=True) #retirando as colunas vazias\n",
    "df.head()"
   ]
  },
  {
   "cell_type": "code",
   "execution_count": 14,
   "id": "e21a8664",
   "metadata": {},
   "outputs": [
    {
     "data": {
      "text/plain": [
       "Index(['id', 'buoy_id', 'latitude', 'longitude', 'geom', 'battery',\n",
       "       'temp_datalogger', 'compass', 'wspd1', 'wdir1', 'gust1', 'wspd2',\n",
       "       'wdir2', 'gust2', 'atmp', 'srad', 'rh', 'dewpt', 'pres', 'sst', 'cspd1',\n",
       "       'cdir1', 'cspd2', 'cdir2', 'cspd3', 'cdir3', 'cspd4', 'cdir4', 'cspd5',\n",
       "       'cdir5', 'cspd6', 'cdir6', 'cspd7', 'cdir7', 'cspd8', 'cdir8', 'cspd9',\n",
       "       'cdir9', 'cspd10', 'cdir10', 'cspd11', 'cdir11', 'cspd12', 'cdir12',\n",
       "       'cspd13', 'cdir13', 'cspd14', 'cdir14', 'cspd15', 'cdir15', 'cspd16',\n",
       "       'cdir16', 'cspd17', 'cdir17', 'cspd18', 'cdir18', 'swvht1', 'tp1',\n",
       "       'mxwvht1', 'wvdir1', 'wvspread1', 'swvht2', 'tp2', 'wvdir2', 'avwvht',\n",
       "       'tav', 'tmax', 'pk_crest', 'tsig', 'h110', 't110', 'tm02', 'tp_dir',\n",
       "       'tp_spread', 'tp5', 'hm0', 'te', 'tm01'],\n",
       "      dtype='object')"
      ]
     },
     "execution_count": 14,
     "metadata": {},
     "output_type": "execute_result"
    }
   ],
   "source": [
    "df.columns"
   ]
  },
  {
   "cell_type": "code",
   "execution_count": 15,
   "id": "4665c37b",
   "metadata": {},
   "outputs": [
    {
     "data": {
      "text/plain": [
       "['wspd1',\n",
       " 'wdir1',\n",
       " 'gust1',\n",
       " 'wspd2',\n",
       " 'wdir2',\n",
       " 'gust2',\n",
       " 'atmp',\n",
       " 'srad',\n",
       " 'rh',\n",
       " 'dewpt',\n",
       " 'pres',\n",
       " 'sst',\n",
       " 'cspd1',\n",
       " 'cdir1',\n",
       " 'cspd2',\n",
       " 'cdir2',\n",
       " 'cspd3',\n",
       " 'cdir3',\n",
       " 'cspd4',\n",
       " 'cdir4',\n",
       " 'cspd5',\n",
       " 'cdir5',\n",
       " 'cspd6',\n",
       " 'cdir6',\n",
       " 'cspd7',\n",
       " 'cdir7',\n",
       " 'cspd8',\n",
       " 'cdir8',\n",
       " 'cspd9',\n",
       " 'cdir9',\n",
       " 'cspd10',\n",
       " 'cdir10',\n",
       " 'cspd11',\n",
       " 'cdir11',\n",
       " 'cspd12',\n",
       " 'cdir12',\n",
       " 'cspd13',\n",
       " 'cdir13',\n",
       " 'cspd14',\n",
       " 'cdir14',\n",
       " 'cspd15',\n",
       " 'cdir15',\n",
       " 'cspd16',\n",
       " 'cdir16',\n",
       " 'cspd17',\n",
       " 'cdir17',\n",
       " 'cspd18',\n",
       " 'cdir18',\n",
       " 'swvht1',\n",
       " 'tp1',\n",
       " 'mxwvht1',\n",
       " 'wvdir1',\n",
       " 'wvspread1',\n",
       " 'swvht2',\n",
       " 'tp2',\n",
       " 'wvdir2']"
      ]
     },
     "execution_count": 15,
     "metadata": {},
     "output_type": "execute_result"
    }
   ],
   "source": [
    "# adaptando o variable\n",
    "\n",
    "# para axys\n",
    "# variables = df.drop(columns=['id','buoy_id','geom','compass','longitude', 'latitude', 'battery']).columns.to_list()\n",
    "\n",
    "# para bmobr\n",
    "variables = df.drop(columns=['id','buoy_id','geom','compass','longitude', 'latitude', 'battery','temp_datalogger',\n",
    "                             'avwvht', 'tav', 'tmax', 'pk_crest', 'tsig', 'h110', 't110', 'tm02', 'tp_dir', 'tp_spread', 'tp5', 'hm0', 'te', 'tm01']).columns.to_list()\n",
    "variables"
   ]
  },
  {
   "cell_type": "markdown",
   "id": "364357bf",
   "metadata": {},
   "source": [
    "## Open limits for the data"
   ]
  },
  {
   "cell_type": "code",
   "execution_count": 57,
   "id": "e69d9302",
   "metadata": {},
   "outputs": [],
   "source": [
    "mis_values = pnboia_limits.mis_value_axys_limits\n",
    "limits = pnboia_limits.range_axys_limits\n",
    "fine_limits = pnboia_limits.fine_axys_limits\n",
    "stuck_limit = pnboia_limits.stuck_axys_limits\n",
    "sigma_values = pnboia_limits.sigma_axys_limits\n",
    "height = pnboia_limits.height\n",
    "continuity_limit = pnboia_limits.continuity_axys_limits\n",
    "anem_limits = pnboia_limits.anemometer_ascat"
   ]
  },
  {
   "cell_type": "code",
   "execution_count": 58,
   "id": "2425db13",
   "metadata": {},
   "outputs": [
    {
     "data": {
      "text/plain": [
       "{'rh': [11, -9999, nan],\n",
       " 'cspd1': [409.5, -9999, nan],\n",
       " 'cdir1': [511, -9999, nan],\n",
       " 'cspd2': [409.5, -9999, nan],\n",
       " 'cdir2': [511, -9999, nan],\n",
       " 'cspd3': [409.5, -9999, nan],\n",
       " 'cdir3': [511, -9999, nan],\n",
       " 'dewpt': [-10, -9999, nan],\n",
       " 'atmp': [-10, -9999, nan],\n",
       " 'sst': [40.955, -9999, nan],\n",
       " 'swvht': [20.47, -9999, nan],\n",
       " 'mxwvht': [20.47, -9999, nan],\n",
       " 'tp': [25.5, -9999, nan],\n",
       " 'wvdir': [381, -9999, nan],\n",
       " 'spred': [381, -9999, nan]}"
      ]
     },
     "execution_count": 58,
     "metadata": {},
     "output_type": "execute_result"
    }
   ],
   "source": [
    "mis_values"
   ]
  },
  {
   "cell_type": "code",
   "execution_count": 17,
   "id": "2995c644",
   "metadata": {},
   "outputs": [
    {
     "data": {
      "text/plain": [
       "{'swvht': 6,\n",
       " 'rh': 20,\n",
       " 'pres': 21,\n",
       " 'atmp': 11,\n",
       " 'wspd': 25,\n",
       " 'wspd1': 25,\n",
       " 'wspd2': 25,\n",
       " 'sst': 8.6}"
      ]
     },
     "execution_count": 17,
     "metadata": {},
     "output_type": "execute_result"
    }
   ],
   "source": [
    "sigma_values"
   ]
  },
  {
   "cell_type": "code",
   "execution_count": 6,
   "id": "b53109b0",
   "metadata": {},
   "outputs": [
    {
     "name": "stderr",
     "output_type": "stream",
     "text": [
      "/tmp/ipykernel_24787/1379919562.py:12: UserWarning: pandas only supports SQLAlchemy connectable (engine/connection) or database string URI or sqlite3 DBAPI2 connection. Other DBAPI2 objects are not tested. Please consider using SQLAlchemy.\n",
      "  df = sqlio.read_sql(query, conn)\n"
     ]
    }
   ],
   "source": [
    "# H\n",
    "# O pnboia_limits tem um qc_config artificial. Em teoria a gente puxa direto do banco ne?\n",
    "def extractor_qc(id, table='qualified_data.qualified_data'):\n",
    "    # Connect to your postgres DB\n",
    "    conn = psycopg2.connect(f\"dbname={os.getenv('DB_NAME_LOCAL')} \\\n",
    "                            user={os.getenv('DB_USER')} \\\n",
    "                            password={os.getenv('DB_PASSWORD')} \\\n",
    "                            host=localhost\")\n",
    "\n",
    "    query = f\"SELECT * FROM {table} WHERE buoy_id = {id}\"\n",
    "\n",
    "    df = sqlio.read_sql(query, conn)\n",
    "    conn.close()\n",
    "\n",
    "    return df\n",
    "\n",
    "# qc = extractor_qc(9,table='quality_control.general') # axys\n",
    "qc = extractor_qc(36,table='quality_control.general')\n",
    "qc_config = qc.qc_config[0]"
   ]
  },
  {
   "cell_type": "code",
   "execution_count": 50,
   "id": "713c4081",
   "metadata": {},
   "outputs": [],
   "source": [
    "# para transformar o qc_config do banco nos equivalentes ao do pnboia_limits\n",
    "mis_values = {}\n",
    "limits = {}\n",
    "fine_limits = {}\n",
    "stuck_limit = qc_config['stuck_sensor']['limits']\n",
    "sigma_values = {}\n",
    "height = qc_config['convert_wind']['height']\n",
    "continuity_limit = qc_config['t_continuity']['limits']\n",
    "# anem_limits = ???"
   ]
  },
  {
   "cell_type": "code",
   "execution_count": 51,
   "id": "3e155c04",
   "metadata": {},
   "outputs": [],
   "source": [
    "for param, limit in zip(qc_config['miss_value']['parameters'], qc_config['miss_value']['limits']):\n",
    "    mis_values[param] = limit\n",
    "\n",
    "for param, limit in zip(qc_config['gross_range']['parameters'], qc_config['gross_range']['limits']):\n",
    "    limits[param] = limit\n",
    "\n",
    "for param, limit in zip(qc_config['fine_range']['parameters'], qc_config['fine_range']['limits']):\n",
    "    fine_limits[param] = limit\n",
    "\n",
    "for param, limit in zip(qc_config['t_continuity']['parameters'], qc_config['t_continuity']['sigma']):\n",
    "    sigma_values[param] = limit"
   ]
  },
  {
   "cell_type": "code",
   "execution_count": 8,
   "id": "ed2b901a",
   "metadata": {},
   "outputs": [
    {
     "data": {
      "text/plain": [
       "dict_keys(['miss_value', 'gross_range', 'fine_range', 'stuck_sensor', 'convert_wind', 't_continuity', 'true_north'])"
      ]
     },
     "execution_count": 8,
     "metadata": {},
     "output_type": "execute_result"
    }
   ],
   "source": [
    "qc_config.keys()"
   ]
  },
  {
   "cell_type": "markdown",
   "id": "a61c278b",
   "metadata": {},
   "source": [
    "## Create the class to start the qc tests"
   ]
  },
  {
   "cell_type": "code",
   "execution_count": 61,
   "id": "5848ffda",
   "metadata": {},
   "outputs": [],
   "source": [
    "qc = QCChecks(data=df,\n",
    "              variables=variables,\n",
    "              mis_values=mis_values,\n",
    "              limits=limits,\n",
    "              fine_limits=fine_limits,\n",
    "              stuck_limit=stuck_limit,\n",
    "              sigma_values=sigma_values,\n",
    "              continuity_limit=continuity_limit,\n",
    "              height=height\n",
    "             )"
   ]
  },
  {
   "cell_type": "code",
   "execution_count": 60,
   "id": "20e7a3cd",
   "metadata": {},
   "outputs": [],
   "source": [
    "# help(qc)"
   ]
  },
  {
   "cell_type": "markdown",
   "id": "d4a73e44",
   "metadata": {},
   "source": [
    "## Misvalue test"
   ]
  },
  {
   "cell_type": "code",
   "execution_count": 62,
   "id": "a0f68623",
   "metadata": {},
   "outputs": [
    {
     "name": "stdout",
     "output_type": "stream",
     "text": [
      "rh\n",
      "rh: 1 flagged data\n",
      "cspd1\n",
      "cspd1: 0 flagged data\n",
      "cdir1\n",
      "cdir1: 0 flagged data\n",
      "cspd2\n",
      "cspd2: 0 flagged data\n",
      "cdir2\n",
      "cdir2: 0 flagged data\n",
      "cspd3\n",
      "cspd3: 0 flagged data\n",
      "cdir3\n",
      "cdir3: 0 flagged data\n",
      "dewpt\n",
      "dewpt: 0 flagged data\n",
      "atmp\n",
      "atmp: 0 flagged data\n",
      "sst\n",
      "sst: 0 flagged data\n",
      "swvht\n",
      "No mis_value_limit for swvht\n"
     ]
    },
    {
     "ename": "KeyError",
     "evalue": "'swvht'",
     "output_type": "error",
     "traceback": [
      "\u001b[0;31m---------------------------------------------------------------------------\u001b[0m",
      "\u001b[0;31mKeyError\u001b[0m                                  Traceback (most recent call last)",
      "File \u001b[0;32m~/virtual_envs/env_pnboia_qc/lib/python3.11/site-packages/pandas/core/indexes/base.py:3805\u001b[0m, in \u001b[0;36mIndex.get_loc\u001b[0;34m(self, key)\u001b[0m\n\u001b[1;32m   3804\u001b[0m \u001b[38;5;28;01mtry\u001b[39;00m:\n\u001b[0;32m-> 3805\u001b[0m     \u001b[38;5;28;01mreturn\u001b[39;00m \u001b[38;5;28;43mself\u001b[39;49m\u001b[38;5;241;43m.\u001b[39;49m\u001b[43m_engine\u001b[49m\u001b[38;5;241;43m.\u001b[39;49m\u001b[43mget_loc\u001b[49m\u001b[43m(\u001b[49m\u001b[43mcasted_key\u001b[49m\u001b[43m)\u001b[49m\n\u001b[1;32m   3806\u001b[0m \u001b[38;5;28;01mexcept\u001b[39;00m \u001b[38;5;167;01mKeyError\u001b[39;00m \u001b[38;5;28;01mas\u001b[39;00m err:\n",
      "File \u001b[0;32mindex.pyx:167\u001b[0m, in \u001b[0;36mpandas._libs.index.IndexEngine.get_loc\u001b[0;34m()\u001b[0m\n",
      "File \u001b[0;32mindex.pyx:196\u001b[0m, in \u001b[0;36mpandas._libs.index.IndexEngine.get_loc\u001b[0;34m()\u001b[0m\n",
      "File \u001b[0;32mpandas/_libs/hashtable_class_helper.pxi:7081\u001b[0m, in \u001b[0;36mpandas._libs.hashtable.PyObjectHashTable.get_item\u001b[0;34m()\u001b[0m\n",
      "File \u001b[0;32mpandas/_libs/hashtable_class_helper.pxi:7089\u001b[0m, in \u001b[0;36mpandas._libs.hashtable.PyObjectHashTable.get_item\u001b[0;34m()\u001b[0m\n",
      "\u001b[0;31mKeyError\u001b[0m: 'swvht'",
      "\nThe above exception was the direct cause of the following exception:\n",
      "\u001b[0;31mKeyError\u001b[0m                                  Traceback (most recent call last)",
      "Cell \u001b[0;32mIn[62], line 3\u001b[0m\n\u001b[1;32m      1\u001b[0m \u001b[38;5;28;01mfor\u001b[39;00m parameter \u001b[38;5;129;01min\u001b[39;00m mis_values\u001b[38;5;241m.\u001b[39mkeys():\n\u001b[1;32m      2\u001b[0m     \u001b[38;5;28mprint\u001b[39m(parameter)\n\u001b[0;32m----> 3\u001b[0m     \u001b[43mqc\u001b[49m\u001b[38;5;241;43m.\u001b[39;49m\u001b[43mmis_value\u001b[49m\u001b[43m(\u001b[49m\u001b[43mparameter\u001b[49m\u001b[38;5;241;43m=\u001b[39;49m\u001b[43mparameter\u001b[49m\u001b[43m)\u001b[49m\n",
      "File \u001b[0;32m~/virtual_envs/env_pnboia_qc/lib/python3.11/site-packages/pnboia_qc/qc_checks.py:183\u001b[0m, in \u001b[0;36mQCChecks.mis_value\u001b[0;34m(self, parameter, mis_values)\u001b[0m\n\u001b[1;32m    180\u001b[0m \u001b[38;5;28;01mexcept\u001b[39;00m:\n\u001b[1;32m    181\u001b[0m     \u001b[38;5;28mprint\u001b[39m(\u001b[38;5;124m\"\u001b[39m\u001b[38;5;124mNo mis_value_limit for \u001b[39m\u001b[38;5;124m\"\u001b[39m \u001b[38;5;241m+\u001b[39m parameter)\n\u001b[0;32m--> 183\u001b[0m \u001b[38;5;28mself\u001b[39m\u001b[38;5;241m.\u001b[39mflag\u001b[38;5;241m.\u001b[39mloc[(\u001b[38;5;28;43mself\u001b[39;49m\u001b[38;5;241;43m.\u001b[39;49m\u001b[43mdata\u001b[49m\u001b[43m[\u001b[49m\u001b[43mparameter\u001b[49m\u001b[43m]\u001b[49m \u001b[38;5;241m==\u001b[39m np\u001b[38;5;241m.\u001b[39mnan) \u001b[38;5;241m&\u001b[39m (\u001b[38;5;28mself\u001b[39m\u001b[38;5;241m.\u001b[39mflag[parameter] \u001b[38;5;241m==\u001b[39m \u001b[38;5;241m0\u001b[39m), parameter] \u001b[38;5;241m=\u001b[39m \u001b[38;5;241m1\u001b[39m\n\u001b[1;32m    184\u001b[0m \u001b[38;5;28mprint\u001b[39m(\u001b[38;5;124mf\u001b[39m\u001b[38;5;124m'\u001b[39m\u001b[38;5;132;01m{\u001b[39;00mparameter\u001b[38;5;132;01m}\u001b[39;00m\u001b[38;5;124m: \u001b[39m\u001b[38;5;132;01m{\u001b[39;00m\u001b[38;5;28mself\u001b[39m\u001b[38;5;241m.\u001b[39mflag\u001b[38;5;241m.\u001b[39mloc[\u001b[38;5;28mself\u001b[39m\u001b[38;5;241m.\u001b[39mflag[parameter]\u001b[38;5;250m \u001b[39m\u001b[38;5;241m==\u001b[39m\u001b[38;5;250m \u001b[39m\u001b[38;5;241m1\u001b[39m,\u001b[38;5;250m \u001b[39mparameter]\u001b[38;5;241m.\u001b[39mcount()\u001b[38;5;132;01m}\u001b[39;00m\u001b[38;5;124m flagged data\u001b[39m\u001b[38;5;124m'\u001b[39m)\n",
      "File \u001b[0;32m~/virtual_envs/env_pnboia_qc/lib/python3.11/site-packages/pandas/core/frame.py:4102\u001b[0m, in \u001b[0;36mDataFrame.__getitem__\u001b[0;34m(self, key)\u001b[0m\n\u001b[1;32m   4100\u001b[0m \u001b[38;5;28;01mif\u001b[39;00m \u001b[38;5;28mself\u001b[39m\u001b[38;5;241m.\u001b[39mcolumns\u001b[38;5;241m.\u001b[39mnlevels \u001b[38;5;241m>\u001b[39m \u001b[38;5;241m1\u001b[39m:\n\u001b[1;32m   4101\u001b[0m     \u001b[38;5;28;01mreturn\u001b[39;00m \u001b[38;5;28mself\u001b[39m\u001b[38;5;241m.\u001b[39m_getitem_multilevel(key)\n\u001b[0;32m-> 4102\u001b[0m indexer \u001b[38;5;241m=\u001b[39m \u001b[38;5;28;43mself\u001b[39;49m\u001b[38;5;241;43m.\u001b[39;49m\u001b[43mcolumns\u001b[49m\u001b[38;5;241;43m.\u001b[39;49m\u001b[43mget_loc\u001b[49m\u001b[43m(\u001b[49m\u001b[43mkey\u001b[49m\u001b[43m)\u001b[49m\n\u001b[1;32m   4103\u001b[0m \u001b[38;5;28;01mif\u001b[39;00m is_integer(indexer):\n\u001b[1;32m   4104\u001b[0m     indexer \u001b[38;5;241m=\u001b[39m [indexer]\n",
      "File \u001b[0;32m~/virtual_envs/env_pnboia_qc/lib/python3.11/site-packages/pandas/core/indexes/base.py:3812\u001b[0m, in \u001b[0;36mIndex.get_loc\u001b[0;34m(self, key)\u001b[0m\n\u001b[1;32m   3807\u001b[0m     \u001b[38;5;28;01mif\u001b[39;00m \u001b[38;5;28misinstance\u001b[39m(casted_key, \u001b[38;5;28mslice\u001b[39m) \u001b[38;5;129;01mor\u001b[39;00m (\n\u001b[1;32m   3808\u001b[0m         \u001b[38;5;28misinstance\u001b[39m(casted_key, abc\u001b[38;5;241m.\u001b[39mIterable)\n\u001b[1;32m   3809\u001b[0m         \u001b[38;5;129;01mand\u001b[39;00m \u001b[38;5;28many\u001b[39m(\u001b[38;5;28misinstance\u001b[39m(x, \u001b[38;5;28mslice\u001b[39m) \u001b[38;5;28;01mfor\u001b[39;00m x \u001b[38;5;129;01min\u001b[39;00m casted_key)\n\u001b[1;32m   3810\u001b[0m     ):\n\u001b[1;32m   3811\u001b[0m         \u001b[38;5;28;01mraise\u001b[39;00m InvalidIndexError(key)\n\u001b[0;32m-> 3812\u001b[0m     \u001b[38;5;28;01mraise\u001b[39;00m \u001b[38;5;167;01mKeyError\u001b[39;00m(key) \u001b[38;5;28;01mfrom\u001b[39;00m \u001b[38;5;21;01merr\u001b[39;00m\n\u001b[1;32m   3813\u001b[0m \u001b[38;5;28;01mexcept\u001b[39;00m \u001b[38;5;167;01mTypeError\u001b[39;00m:\n\u001b[1;32m   3814\u001b[0m     \u001b[38;5;66;03m# If we have a listlike key, _check_indexing_error will raise\u001b[39;00m\n\u001b[1;32m   3815\u001b[0m     \u001b[38;5;66;03m#  InvalidIndexError. Otherwise we fall through and re-raise\u001b[39;00m\n\u001b[1;32m   3816\u001b[0m     \u001b[38;5;66;03m#  the TypeError.\u001b[39;00m\n\u001b[1;32m   3817\u001b[0m     \u001b[38;5;28mself\u001b[39m\u001b[38;5;241m.\u001b[39m_check_indexing_error(key)\n",
      "\u001b[0;31mKeyError\u001b[0m: 'swvht'"
     ]
    }
   ],
   "source": [
    "for parameter in mis_values.keys():\n",
    "    print(parameter)\n",
    "    qc.mis_value(parameter=parameter)"
   ]
  },
  {
   "cell_type": "code",
   "execution_count": 56,
   "id": "b27d288b",
   "metadata": {},
   "outputs": [
    {
     "data": {
      "text/plain": [
       "{'wspd1': [-9999, None],\n",
       " 'gust1': [-9999, None],\n",
       " 'wdir1': [-9999, None],\n",
       " 'wspd2': [-9999, None],\n",
       " 'gust2': [-9999, None],\n",
       " 'wdir2': [-9999, None],\n",
       " 'atmp': [-9999, None],\n",
       " 'rh': [-9999, None],\n",
       " 'dewpt': [-9999, None],\n",
       " 'pres': [-9999, None],\n",
       " 'sst': [-9999, None],\n",
       " 'compass': [-9999, None],\n",
       " 'srad': [-9999, None],\n",
       " 'cspd1': [-9999, None],\n",
       " 'cdir1': [-9999, None],\n",
       " 'cspd2': [-9999, None],\n",
       " 'cdir2': [-9999, None],\n",
       " 'cspd3': [-9999, None],\n",
       " 'cdir3': [-9999, None],\n",
       " 'cspd4': [-9999, None],\n",
       " 'cdir4': [-9999, None],\n",
       " 'cspd5': [-9999, None],\n",
       " 'cdir5': [-9999, None],\n",
       " 'cspd6': [-9999, None],\n",
       " 'cdir6': [-9999, None],\n",
       " 'cspd7': [-9999, None],\n",
       " 'cdir7': [-9999, None],\n",
       " 'cspd8': [-9999, None],\n",
       " 'cdir8': [-9999, None],\n",
       " 'cspd9': [-9999, None],\n",
       " 'cdir9': [-9999, None],\n",
       " 'cspd10': [-9999, None],\n",
       " 'cdir10': [-9999, None],\n",
       " 'cspd11': [-9999, None],\n",
       " 'cdir11': [-9999, None],\n",
       " 'cspd12': [-9999, None],\n",
       " 'cdir12': [-9999, None],\n",
       " 'cspd13': [-9999, None],\n",
       " 'cdir13': [-9999, None],\n",
       " 'cspd14': [-9999, None],\n",
       " 'cdir14': [-9999, None],\n",
       " 'cspd15': [-9999, None],\n",
       " 'cdir15': [-9999, None],\n",
       " 'cspd16': [-9999, None],\n",
       " 'cdir16': [-9999, None],\n",
       " 'cspd17': [-9999, None],\n",
       " 'cdir17': [-9999, None],\n",
       " 'cspd18': [-9999, None],\n",
       " 'cdir18': [-9999, None],\n",
       " 'swvht1': [-9999, None],\n",
       " 'tp1': [-9999, None],\n",
       " 'mxwvht1': [-9999, None],\n",
       " 'wvdir1': [-9999, None],\n",
       " 'wvspread1': [-9999, None],\n",
       " 'swvht2': [-9999, None],\n",
       " 'tp2': [-9999, None],\n",
       " 'wvdir2': [-9999, None]}"
      ]
     },
     "execution_count": 56,
     "metadata": {},
     "output_type": "execute_result"
    }
   ],
   "source": [
    "mis_values"
   ]
  },
  {
   "cell_type": "code",
   "execution_count": 42,
   "id": "3a2c8f3d",
   "metadata": {},
   "outputs": [],
   "source": [
    "# qc.flag.wvdir\n",
    "# qc.flag.wvdir1"
   ]
  },
  {
   "cell_type": "markdown",
   "id": "7eefa8f1",
   "metadata": {},
   "source": [
    "## Range test"
   ]
  },
  {
   "cell_type": "code",
   "execution_count": 41,
   "id": "b97e9a4d",
   "metadata": {},
   "outputs": [],
   "source": [
    "# for parameter in limits.keys():\n",
    "#     qc.range(parameter=parameter, test='gross')\n",
    "#     qc.range(parameter=parameter, test='fine')"
   ]
  },
  {
   "cell_type": "markdown",
   "id": "1407da1e",
   "metadata": {},
   "source": [
    "## Comparison between ascat and anemometers\n"
   ]
  },
  {
   "cell_type": "code",
   "execution_count": 40,
   "id": "8c23efce",
   "metadata": {},
   "outputs": [],
   "source": [
    "# qc.ascat_anemometer(limits=anem_limits['portoseguro'])"
   ]
  },
  {
   "cell_type": "markdown",
   "id": "69943020",
   "metadata": {},
   "source": [
    "## Comparison between swvht and mxwvht"
   ]
  },
  {
   "cell_type": "code",
   "execution_count": 39,
   "id": "c0c2d935",
   "metadata": {},
   "outputs": [],
   "source": [
    "# qc.swvht_mxwvht(swvht_name = 'swvht1', mxwvht_name = 'mxwvht1')"
   ]
  },
  {
   "cell_type": "markdown",
   "id": "2cd3aeb3",
   "metadata": {},
   "source": [
    "## Comparison of wind speed and gust"
   ]
  },
  {
   "cell_type": "code",
   "execution_count": 38,
   "id": "ab144fab",
   "metadata": {},
   "outputs": [],
   "source": [
    "# qc.wind_speed_gust(wspd_name='wspd1', gust_name='gust1')\n",
    "# qc.wind_speed_gust(wspd_name='wspd2', gust_name='gust2')"
   ]
  },
  {
   "cell_type": "markdown",
   "id": "67e591fe",
   "metadata": {},
   "source": [
    "## Comparison of Dewpt and Atmp"
   ]
  },
  {
   "cell_type": "code",
   "execution_count": 37,
   "id": "420b70c0",
   "metadata": {},
   "outputs": [],
   "source": [
    "# qc.dewpt_atmp(dewpt_name='dewpt', atmp_name='atmp')"
   ]
  },
  {
   "cell_type": "markdown",
   "id": "b4f8e42e",
   "metadata": {},
   "source": [
    "## Comparison of battery and pressure"
   ]
  },
  {
   "cell_type": "code",
   "execution_count": 36,
   "id": "dc811a69",
   "metadata": {},
   "outputs": [],
   "source": [
    "# qc.battery(battery_name='battery', pres_name='pres')"
   ]
  },
  {
   "cell_type": "markdown",
   "id": "5c88100d",
   "metadata": {},
   "source": [
    "## Stuck sensor test"
   ]
  },
  {
   "cell_type": "code",
   "execution_count": 35,
   "id": "ec209091",
   "metadata": {},
   "outputs": [],
   "source": [
    "# for parameter in variables:\n",
    "#     if parameter != 'battery':\n",
    "#         qc.stuck_sensor(parameter=parameter)"
   ]
  },
  {
   "cell_type": "markdown",
   "id": "baefa80a",
   "metadata": {},
   "source": [
    "## Convert wind to 10 meters"
   ]
  },
  {
   "cell_type": "code",
   "execution_count": 34,
   "id": "6594a559",
   "metadata": {},
   "outputs": [],
   "source": [
    "# qc.convert_wind(wspd_name='wspd1', gust_name='gust1', height=4.7)\n",
    "# qc.convert_wind(wspd_name='wspd2', gust_name='gust2', height=3.4)"
   ]
  },
  {
   "cell_type": "markdown",
   "id": "8fec8430",
   "metadata": {},
   "source": [
    "## Select the best anemometer"
   ]
  },
  {
   "cell_type": "code",
   "execution_count": 33,
   "id": "8098c1f8",
   "metadata": {},
   "outputs": [],
   "source": [
    "# qc.best_sensor(parameters1=['wspd1', 'wdir1', 'gust1'],parameters2=['wspd2','wdir2', 'gust2'])"
   ]
  },
  {
   "cell_type": "markdown",
   "id": "fd1ee719",
   "metadata": {},
   "source": [
    "## Time continuity test"
   ]
  },
  {
   "cell_type": "code",
   "execution_count": 32,
   "id": "7498dac4",
   "metadata": {},
   "outputs": [],
   "source": [
    "# for parameter in sigma_values.keys():\n",
    "#     try:\n",
    "#         qc.t_continuity(parameter=parameter)\n",
    "#     except:\n",
    "#         print('error')"
   ]
  },
  {
   "cell_type": "markdown",
   "id": "71e7d93e",
   "metadata": {},
   "source": [
    "## Front exception tests"
   ]
  },
  {
   "cell_type": "code",
   "execution_count": 31,
   "id": "9e9f924b",
   "metadata": {},
   "outputs": [],
   "source": [
    "# qc.front_except1(wdir_name='wdir1', atmp_name='atmp')"
   ]
  },
  {
   "cell_type": "code",
   "execution_count": 30,
   "id": "15cfbc40",
   "metadata": {},
   "outputs": [],
   "source": [
    "# qc.front_except3(wspd_name='wspd1', atmp_name='atmp')"
   ]
  },
  {
   "cell_type": "code",
   "execution_count": 29,
   "id": "af7d9656",
   "metadata": {},
   "outputs": [],
   "source": [
    "# qc.front_except4(pres_name='pres1', wspd_name='wspd1')"
   ]
  },
  {
   "cell_type": "code",
   "execution_count": 28,
   "id": "783efccd",
   "metadata": {},
   "outputs": [],
   "source": [
    "# qc.front_except5(pres_name='pres')"
   ]
  },
  {
   "cell_type": "code",
   "execution_count": 27,
   "id": "ffa62090",
   "metadata": {},
   "outputs": [],
   "source": [
    "# qc.front_except6(wspd_name='wspd', swvht_name='swvht')"
   ]
  },
  {
   "cell_type": "markdown",
   "id": "51c1bba6",
   "metadata": {},
   "source": [
    "## Plots to compare data"
   ]
  },
  {
   "cell_type": "code",
   "execution_count": 26,
   "id": "74944326",
   "metadata": {},
   "outputs": [],
   "source": [
    "# df"
   ]
  },
  {
   "cell_type": "code",
   "execution_count": 3,
   "id": "0025c6f3",
   "metadata": {},
   "outputs": [],
   "source": [
    "# qc.plot_comparison(parameter='wspd1',ylim=[0,15], start_date='2016-01-01', end_date='2024-02-01')"
   ]
  },
  {
   "cell_type": "code",
   "execution_count": 2,
   "id": "5b5b81f6",
   "metadata": {},
   "outputs": [],
   "source": [
    "# qc.plot_comparison(parameter='wspd1',\n",
    "#                    ylim=[0,15],\n",
    "#                    start_date='2016-01-01',\n",
    "#                    end_date='2024-02-01',\n",
    "#                    plot_type='plotly')"
   ]
  },
  {
   "cell_type": "code",
   "execution_count": 25,
   "id": "fe03b3e6",
   "metadata": {},
   "outputs": [],
   "source": [
    "# mis_values.values()"
   ]
  },
  {
   "cell_type": "code",
   "execution_count": 11,
   "id": "907ad366",
   "metadata": {},
   "outputs": [],
   "source": [
    "anem_test = anem_limits['portoseguro']\n",
    "qc_config = {\n",
    "    'miss_value': {\n",
    "        'parameters': list(mis_values.keys()),\n",
    "        'limits': list(mis_values.values())\n",
    "    },\n",
    "    'gross_range': {\n",
    "        'parameters': list(limits.keys()),\n",
    "        'limits': list(limits.values())\n",
    "    },\n",
    "    'fine_range':{\n",
    "        'parameters': list(fine_limits.keys()),\n",
    "        'limits': list(fine_limits.values())\n",
    "    },\n",
    "    'ascat_anemometer':{\n",
    "        'parameters': [['wspd1', 'wdir1', 'gust1'], ['wspd2','wdir2', 'gust2']],\n",
    "        'limits': anem_test\n",
    "    },\n",
    "    'swvht_mxwvht': {\n",
    "        'parameters': [['swvht', 'mxwvht']]\n",
    "    },\n",
    "    'wind_speed_gust': {\n",
    "        'parameters': [['wspd1', 'gust1'], ['wspd2', 'gust2']]\n",
    "    },\n",
    "    'dewpt_atmp': {\n",
    "        'parameters': [['dewpt', 'atmp']]\n",
    "    },\n",
    "    'battery': {\n",
    "        'parameters': [['battery', 'pres']]\n",
    "    },\n",
    "    'stuck_sensor': {\n",
    "        'parameters': variables, 'limits': stuck_limit},\n",
    "    'convert_wind': {\n",
    "        'parameters': [['wspd1', 'gust1'], ['wspd2', 'gust2']],\n",
    "        'height': [4.7, 3.4]\n",
    "    },\n",
    "    'best_sensor': {\n",
    "        'parameters': [['wspd1', 'wdir1', 'gust1'], ['wspd2','wdir2', 'gust2']]\n",
    "    },\n",
    "    # 't_continuity': {\n",
    "    #     'parameters': list(sigma_values.keys()),\n",
    "    #     'sigma': list(sigma_values.values()),\n",
    "    #     'limits': continuity_limit,\n",
    "    #     'exceptions': [\n",
    "    #         {'test': 1,\n",
    "    #          'parameters': ['wdir', 'atmp']},\n",
    "    #         {'test': 3,\n",
    "    #          'parameters': ['wspd', 'atmp']},\n",
    "    #         {'test': 4,\n",
    "    #          'parameters': ['pres', 'wspd']},\n",
    "    #         {'test': 5,\n",
    "    #          'parameters': 'pres'},\n",
    "    #         {'test': 6,\n",
    "    #          'parameters': ['wspd', 'swvht']}\n",
    "    #     ]\n",
    "    # },\n",
    "    'true_north': {\n",
    "        'parameters': ['wspd1', 'wspd2','cspd1','cdir1','cdir2','cdir3','wvdir'],\n",
    "        'annual_variation': 0.05,\n",
    "        'year_reference': 2010,\n",
    "        'mag_deg': 10.07\n",
    "    }\n",
    "}"
   ]
  },
  {
   "cell_type": "code",
   "execution_count": 24,
   "id": "2ac3828d",
   "metadata": {},
   "outputs": [],
   "source": [
    "# qc_config"
   ]
  },
  {
   "cell_type": "code",
   "execution_count": 23,
   "id": "6ef26430",
   "metadata": {},
   "outputs": [],
   "source": [
    "# qc = QCChecks(data=df,\n",
    "#               variables=variables,\n",
    "#               qc_config=qc_config\n",
    "#              )"
   ]
  },
  {
   "cell_type": "code",
   "execution_count": 22,
   "id": "c26fd3b0",
   "metadata": {},
   "outputs": [],
   "source": [
    "# qc.run()"
   ]
  },
  {
   "cell_type": "code",
   "execution_count": null,
   "id": "14bec59c",
   "metadata": {},
   "outputs": [],
   "source": []
  }
 ],
 "metadata": {
  "kernelspec": {
   "display_name": "Python 3 (ipykernel)",
   "language": "python",
   "name": "python3"
  },
  "language_info": {
   "codemirror_mode": {
    "name": "ipython",
    "version": 3
   },
   "file_extension": ".py",
   "mimetype": "text/x-python",
   "name": "python",
   "nbconvert_exporter": "python",
   "pygments_lexer": "ipython3",
   "version": "3.11.6"
  },
  "toc": {
   "base_numbering": 1,
   "nav_menu": {},
   "number_sections": true,
   "sideBar": true,
   "skip_h1_title": false,
   "title_cell": "Table of Contents",
   "title_sidebar": "Contents",
   "toc_cell": false,
   "toc_position": {},
   "toc_section_display": true,
   "toc_window_display": false
  }
 },
 "nbformat": 4,
 "nbformat_minor": 5
}
