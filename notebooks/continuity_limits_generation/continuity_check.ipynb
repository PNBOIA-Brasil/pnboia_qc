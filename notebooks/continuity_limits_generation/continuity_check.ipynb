{
 "cells": [
  {
   "cell_type": "markdown",
   "id": "82540eca-fe7a-4c7c-80cb-50ad0825a9a6",
   "metadata": {
    "tags": []
   },
   "source": [
    "# Validation SIMCOSTA Data - NOAA Guide"
   ]
  },
  {
   "cell_type": "markdown",
   "id": "60fae6c8-4a43-4e67-814e-c473beff0aa1",
   "metadata": {},
   "source": [
    "- ~Load SIMCOSTA data~\n",
    "- Code for tests using NOAA guide (in remo aplication folder)\n",
    "- Write global code in which an \n",
    "- Compare with QC data for \"validation of validation\"\n",
    "- "
   ]
  },
  {
   "cell_type": "code",
   "execution_count": 1,
   "id": "5b74d45b-d60d-4a1b-9ee5-38cd79f6ab9a",
   "metadata": {},
   "outputs": [],
   "source": [
    "# importando bibliotecas\n",
    "import pandas as pd\n",
    "import xarray as xr\n",
    "import numpy as np\n",
    "import matplotlib.pyplot as plt\n",
    "\n",
    "import os\n",
    "from glob import glob"
   ]
  },
  {
   "cell_type": "markdown",
   "id": "48236a8a-64b2-476e-8dac-ed551f9e66e0",
   "metadata": {
    "tags": []
   },
   "source": [
    "## Loading data"
   ]
  },
  {
   "cell_type": "code",
   "execution_count": 2,
   "id": "485fe4b9-096f-44e7-a7e1-316612c8dd0e",
   "metadata": {
    "tags": []
   },
   "outputs": [],
   "source": [
    "# General folder\n",
    "data_folder_path = 'C:\\\\Users\\\\Thiago\\\\Desktop\\\\Temporary HD Files\\\\mestrado_recuperado\\\\Aplicações Empregos\\\\Bolsa_REMO_observacional\\\\dados'\n",
    "\n",
    "# RIO SIMCOSTA BUOY\n",
    "# loading data\n",
    "os.chdir(data_folder_path) # chdir\n",
    "list_of_files = glob('*.csv') # * means all if need specific format then *.csv\n",
    "latest_file = max(list_of_files, key=os.path.getctime)\n",
    "buoy = pd.read_csv('SIMCOSTA_RJ-4_OCEAN_2017-08-28_2022-03-17.csv',skiprows=35) # load\n",
    "\n",
    "# creating datetime index\n",
    "datetime_cols = ['YEAR', 'MONTH', 'DAY', 'HOUR', 'MINUTE', 'SECOND']\n",
    "buoy['datetime'] = pd.to_datetime(buoy[datetime_cols])\n",
    "buoy.drop(columns=datetime_cols,inplace=True)\n",
    "buoy.set_index('datetime',inplace=True)\n",
    "\n",
    "# creating julian days col\n",
    "jd_2017 = pd.to_datetime('2017-01-01T00:00').to_julian_date()\n",
    "jd_data_start = pd.to_datetime(buoy.index[0]).to_julian_date()\n",
    "buoy['jd_2017'] = buoy.index.to_julian_date() - jd_2017 # julian days from 2017-01-01T00:00\n",
    "buoy['jd_dstart'] = buoy.index.to_julian_date() - jd_data_start # julian days starting at time 0 of the data\n",
    "\n",
    "# selecting relevant data\n",
    "buoy = buoy[['Hsig','TP','Tsig', 'Avg_Wv_Dir','jd_2017', 'jd_dstart']]\n",
    "buoy = buoy.rename(columns={'Hsig':'Hs','TP':'Tp','Tsig':'Ts','Avg_Wv_Dir':'Dm'})\n",
    "\n",
    "# # pre-processing data\n",
    "# buoy['Tp'] = buoy['Tp'].where(buoy['Tp']<30)\n"
   ]
  },
  {
   "cell_type": "code",
   "execution_count": 3,
   "id": "21aad031-cf49-47a3-8eda-b7268670f4ea",
   "metadata": {},
   "outputs": [],
   "source": [
    "def spike_test(data_original, param, threshold=(None,None)):\n",
    "    \n",
    "    data = data_original.copy()\n",
    "    threshold_low = threshold[0]\n",
    "    threshold_high = threshold[1]\n",
    "    \n",
    "    my_func = lambda x: ((x[0] + x[2]) / 2)  \n",
    "    data[f'{param}_spike_test_spk_ref'] = data[param].rolling(3,center=True).apply(my_func)\n",
    "    \n",
    "    data[f'{param}_spike_test_diff'] = np.abs(data[param]-data[f'{param}_spike_test_spk_ref'])\n",
    "    \n",
    "    cond1 = data[f'{param}_spike_test_diff'] < threshold_low\n",
    "    cond2 = data[f'{param}_spike_test_spk_ref'].isna()\n",
    "    cond3 = (data[f'{param}_spike_test_diff'] >= threshold_low) & (data[f'{param}_spike_test_diff'] < threshold_high)\n",
    "    cond4 = data[f'{param}_spike_test_diff'] > threshold_high\n",
    "    \n",
    "    data.loc[cond1,'flag_spk_test'] = 1\n",
    "    data.loc[cond2,'flag_spk_test'] = 2\n",
    "    data.loc[cond3,'flag_spk_test'] = 3\n",
    "    data.loc[cond4,'flag_spk_test'] = 4\n",
    "    data['flag_spk_test'] = data['flag_spk_test'].astype('Int64')\n",
    "    \n",
    "    return data\n"
   ]
  },
  {
   "cell_type": "code",
   "execution_count": 11,
   "id": "8467d7bc-357d-4214-9abe-9607fdeff071",
   "metadata": {},
   "outputs": [],
   "source": [
    "threshold = (0.7,0.9)\n",
    "buoy_spike = spike_test(buoy, 'Hs', threshold=threshold)"
   ]
  },
  {
   "cell_type": "code",
   "execution_count": 7,
   "id": "8387b666-b8ab-4a1b-82d2-5beb5bf3b063",
   "metadata": {},
   "outputs": [
    {
     "data": {
      "image/png": "[encoded data removed]",
      "text/plain": [
       "<Figure size 432x288 with 1 Axes>"
      ]
     },
     "metadata": {
      "needs_background": "light"
     },
     "output_type": "display_data"
    }
   ],
   "source": [
    "buoy_spike['flag_spk_test'].astype(int).plot(marker='.',ls='None');"
   ]
  },
  {
   "cell_type": "code",
   "execution_count": 8,
   "id": "d1a375f1-f773-41e6-9d7b-1e20e9c4e86b",
   "metadata": {},
   "outputs": [],
   "source": [
    "def gross_range_test(data_original, param, sensor_output_range=(None,None),user_output_range=(None,None)):\n",
    "    \n",
    "    data = data_original.copy()\n",
    "    sensor_output_range_low = sensor_output_range[0]\n",
    "    sensor_output_range_high = sensor_output_range[1]\n",
    "    user_output_range_low = user_output_range[0]\n",
    "    user_output_range_high = user_output_range[1]\n",
    "    \n",
    "    cond1 = (data[param] > sensor_output_range_low) & (data[f'{param}'] < sensor_output_range_high) \n",
    "    cond3 = (data[param] < user_output_range_low) | (data[f'{param}'] > user_output_range_high) \n",
    "    cond4 = (data[param] < sensor_output_range_low) | (data[f'{param}'] > sensor_output_range_high) \n",
    "    \n",
    "    data.loc[cond1,'flag_gross_test'] = 1\n",
    "    data.loc[cond3,'flag_gross_test'] = 3\n",
    "    data.loc[cond4,'flag_gross_test'] = 4\n",
    "    data['flag_gross_test'] = data['flag_gross_test'].astype('Int64')\n",
    "    \n",
    "    return data"
   ]
  },
  {
   "cell_type": "code",
   "execution_count": 9,
   "id": "18910c45-3ef5-4053-9921-54d7a7c6cdad",
   "metadata": {},
   "outputs": [],
   "source": [
    "sensor_output_range = (-20,20)\n",
    "user_output_range = (0,10)\n",
    "buoy_gross = gross_range_test(buoy, 'Hs', sensor_output_range=sensor_output_range,user_output_range=user_output_range)"
   ]
  },
  {
   "cell_type": "code",
   "execution_count": 10,
   "id": "cc485062-1e99-4418-bf04-6359d7fe35b6",
   "metadata": {},
   "outputs": [
    {
     "data": {
      "image/png": "[encoded data removed]",
      "text/plain": [
       "<Figure size 432x288 with 1 Axes>"
      ]
     },
     "metadata": {
      "needs_background": "light"
     },
     "output_type": "display_data"
    }
   ],
   "source": [
    "buoy_gross['flag_gross_test'].plot(marker='.',ls='None');"
   ]
  },
  {
   "cell_type": "code",
   "execution_count": 11,
   "id": "c0e13113-08ec-4666-b3a5-b8035d41af8e",
   "metadata": {},
   "outputs": [],
   "source": [
    "def rate_of_change_test(data_original, param, number_stds=3):\n",
    "    \n",
    "    data = data_original.copy()\n",
    "    \n",
    "    data[f'{param}_roc_test_nstd_25h'] = data[param].rolling('25h').std() * number_stds\n",
    "#     time_delta = pd.Timedelta('25h')\n",
    "#     start = data.index[0]\n",
    "#     data.loc[start:start+time_delta] = np.NaN\n",
    "    \n",
    "    data[f'{param}_roc_test_diff'] = np.abs(data[param].diff(-1))\n",
    "\n",
    "    cond1 = data[f'{param}_roc_test_diff'] < data[f'{param}_roc_test_nstd_25h']\n",
    "    cond2 = (data[f'{param}_roc_test_diff'].isna()) | (data[f'{param}_roc_test_nstd_25h'].isna())\n",
    "    cond3 = data[f'{param}_roc_test_diff'] > data[f'{param}_roc_test_nstd_25h']\n",
    "\n",
    "    data.loc[cond1,'flag_roc_test'] = 1\n",
    "    data.loc[cond2,'flag_roc_test'] = 2\n",
    "    data.loc[cond3,'flag_roc_test'] = 3\n",
    "    data['flag_roc_test'] = data['flag_roc_test'].astype('Int64')\n",
    "    \n",
    "    return data"
   ]
  },
  {
   "cell_type": "code",
   "execution_count": 12,
   "id": "f276037e-8df4-4e5f-b6d5-e47c91385ffe",
   "metadata": {},
   "outputs": [],
   "source": [
    "buoy_roc = rate_of_change_test(buoy, 'Hs', number_stds=3)"
   ]
  },
  {
   "cell_type": "code",
   "execution_count": 14,
   "id": "b11824e8-ca5e-481e-b742-def66cb974ee",
   "metadata": {},
   "outputs": [
    {
     "data": {
      "text/plain": [
       "<AxesSubplot:xlabel='datetime'>"
      ]
     },
     "execution_count": 14,
     "metadata": {},
     "output_type": "execute_result"
    },
    {
     "data": {
      "image/png": "[encoded data removed]",
      "text/plain": [
       "<Figure size 432x288 with 1 Axes>"
      ]
     },
     "metadata": {
      "needs_background": "light"
     },
     "output_type": "display_data"
    }
   ],
   "source": [
    "buoy_roc['flag_roc_test'].plot(marker='.',ls='none');"
   ]
  },
  {
   "cell_type": "code",
   "execution_count": 46,
   "id": "69f34e63-73a6-4865-89c1-2a76890f4e11",
   "metadata": {},
   "outputs": [
    {
     "data": {
      "text/plain": [
       "True"
      ]
     },
     "execution_count": 46,
     "metadata": {},
     "output_type": "execute_result"
    }
   ],
   "source": [
    "(0.9 - 0.9) < 0.1"
   ]
  },
  {
   "cell_type": "code",
   "execution_count": 7,
   "id": "f0b2e842-d4c1-4ded-a5f2-7065ea34c8cc",
   "metadata": {},
   "outputs": [],
   "source": [
    "#https://stackoverflow.com/questions/67853520/how-to-apply-rolling-t-test-with-pandas"
   ]
  },
  {
   "cell_type": "code",
   "execution_count": 8,
   "id": "cc405b90-17bd-42f9-92af-498a255e8335",
   "metadata": {},
   "outputs": [],
   "source": [
    "def rolling5_function(x,eps=0.001):\n",
    "    count = 0\n",
    "    for i in range(len(x)):\n",
    "        diff = x[i] - x[i-1]\n",
    "        if diff < eps:\n",
    "            count += 1\n",
    "    if count >= 4:\n",
    "        flag = 4\n",
    "    else:\n",
    "        flag = 1\n",
    "    return flag         "
   ]
  },
  {
   "cell_type": "code",
   "execution_count": 9,
   "id": "656b77e3-6a7a-436d-8b27-098323db83a0",
   "metadata": {},
   "outputs": [],
   "source": [
    "buoy_cut = buoy['Hs'].iloc[0:50]\n",
    "buoy_cut.iloc[6:10] = 0.9"
   ]
  },
  {
   "cell_type": "code",
   "execution_count": 10,
   "id": "b6efdb5a-fd04-4ecb-9e35-d1bb8c4577ef",
   "metadata": {},
   "outputs": [],
   "source": [
    "flat_test = buoy_cut.rolling(5).apply(lambda x: rolling5_function(x,eps=0.001)).shift(periods=-3)\n",
    "buoy_test = pd.concat([buoy['Hs'],flat_test],axis=1)"
   ]
  },
  {
   "cell_type": "code",
   "execution_count": 11,
   "id": "f7f9cee6-473b-47eb-abc4-6a51b045b36b",
   "metadata": {},
   "outputs": [
    {
     "data": {
      "text/html": [
       "<div>\n",
       "<style scoped>\n",
       "    .dataframe tbody tr th:only-of-type {\n",
       "        vertical-align: middle;\n",
       "    }\n",
       "\n",
       "    .dataframe tbody tr th {\n",
       "        vertical-align: top;\n",
       "    }\n",
       "\n",
       "    .dataframe thead th {\n",
       "        text-align: right;\n",
       "    }\n",
       "</style>\n",
       "<table border=\"1\" class=\"dataframe\">\n",
       "  <thead>\n",
       "    <tr style=\"text-align: right;\">\n",
       "      <th></th>\n",
       "      <th>Hs</th>\n",
       "      <th>Hs</th>\n",
       "    </tr>\n",
       "    <tr>\n",
       "      <th>datetime</th>\n",
       "      <th></th>\n",
       "      <th></th>\n",
       "    </tr>\n",
       "  </thead>\n",
       "  <tbody>\n",
       "    <tr>\n",
       "      <th>2017-08-28 13:25:00</th>\n",
       "      <td>0.94</td>\n",
       "      <td>NaN</td>\n",
       "    </tr>\n",
       "    <tr>\n",
       "      <th>2017-08-28 13:55:00</th>\n",
       "      <td>0.96</td>\n",
       "      <td>1.0</td>\n",
       "    </tr>\n",
       "    <tr>\n",
       "      <th>2017-08-28 14:55:00</th>\n",
       "      <td>0.89</td>\n",
       "      <td>1.0</td>\n",
       "    </tr>\n",
       "    <tr>\n",
       "      <th>2017-08-28 15:25:00</th>\n",
       "      <td>0.90</td>\n",
       "      <td>1.0</td>\n",
       "    </tr>\n",
       "    <tr>\n",
       "      <th>2017-08-28 15:55:00</th>\n",
       "      <td>0.91</td>\n",
       "      <td>1.0</td>\n",
       "    </tr>\n",
       "    <tr>\n",
       "      <th>2017-08-28 16:25:00</th>\n",
       "      <td>0.99</td>\n",
       "      <td>1.0</td>\n",
       "    </tr>\n",
       "    <tr>\n",
       "      <th>2017-08-28 16:55:00</th>\n",
       "      <td>0.90</td>\n",
       "      <td>4.0</td>\n",
       "    </tr>\n",
       "    <tr>\n",
       "      <th>2017-08-28 17:25:00</th>\n",
       "      <td>0.90</td>\n",
       "      <td>4.0</td>\n",
       "    </tr>\n",
       "    <tr>\n",
       "      <th>2017-08-28 17:55:00</th>\n",
       "      <td>0.90</td>\n",
       "      <td>1.0</td>\n",
       "    </tr>\n",
       "    <tr>\n",
       "      <th>2017-08-28 18:55:00</th>\n",
       "      <td>0.90</td>\n",
       "      <td>1.0</td>\n",
       "    </tr>\n",
       "    <tr>\n",
       "      <th>2017-08-28 19:55:00</th>\n",
       "      <td>0.85</td>\n",
       "      <td>1.0</td>\n",
       "    </tr>\n",
       "    <tr>\n",
       "      <th>2017-08-28 20:25:00</th>\n",
       "      <td>0.86</td>\n",
       "      <td>1.0</td>\n",
       "    </tr>\n",
       "    <tr>\n",
       "      <th>2017-08-28 21:25:00</th>\n",
       "      <td>0.88</td>\n",
       "      <td>1.0</td>\n",
       "    </tr>\n",
       "    <tr>\n",
       "      <th>2017-08-28 22:25:00</th>\n",
       "      <td>0.87</td>\n",
       "      <td>1.0</td>\n",
       "    </tr>\n",
       "    <tr>\n",
       "      <th>2017-08-28 22:55:00</th>\n",
       "      <td>0.84</td>\n",
       "      <td>1.0</td>\n",
       "    </tr>\n",
       "    <tr>\n",
       "      <th>2017-08-28 23:55:00</th>\n",
       "      <td>0.89</td>\n",
       "      <td>1.0</td>\n",
       "    </tr>\n",
       "    <tr>\n",
       "      <th>2017-08-29 00:25:00</th>\n",
       "      <td>0.93</td>\n",
       "      <td>1.0</td>\n",
       "    </tr>\n",
       "    <tr>\n",
       "      <th>2017-08-29 01:55:00</th>\n",
       "      <td>0.78</td>\n",
       "      <td>1.0</td>\n",
       "    </tr>\n",
       "    <tr>\n",
       "      <th>2017-08-29 02:25:00</th>\n",
       "      <td>0.80</td>\n",
       "      <td>1.0</td>\n",
       "    </tr>\n",
       "    <tr>\n",
       "      <th>2017-08-29 04:25:00</th>\n",
       "      <td>0.82</td>\n",
       "      <td>1.0</td>\n",
       "    </tr>\n",
       "    <tr>\n",
       "      <th>2017-08-29 04:55:00</th>\n",
       "      <td>0.81</td>\n",
       "      <td>1.0</td>\n",
       "    </tr>\n",
       "    <tr>\n",
       "      <th>2017-08-29 05:25:00</th>\n",
       "      <td>0.92</td>\n",
       "      <td>1.0</td>\n",
       "    </tr>\n",
       "    <tr>\n",
       "      <th>2017-08-29 05:55:00</th>\n",
       "      <td>0.81</td>\n",
       "      <td>1.0</td>\n",
       "    </tr>\n",
       "    <tr>\n",
       "      <th>2017-08-29 06:25:00</th>\n",
       "      <td>0.87</td>\n",
       "      <td>1.0</td>\n",
       "    </tr>\n",
       "    <tr>\n",
       "      <th>2017-08-29 06:55:00</th>\n",
       "      <td>0.87</td>\n",
       "      <td>1.0</td>\n",
       "    </tr>\n",
       "    <tr>\n",
       "      <th>2017-08-29 07:55:00</th>\n",
       "      <td>0.91</td>\n",
       "      <td>1.0</td>\n",
       "    </tr>\n",
       "    <tr>\n",
       "      <th>2017-08-29 08:25:00</th>\n",
       "      <td>0.93</td>\n",
       "      <td>1.0</td>\n",
       "    </tr>\n",
       "    <tr>\n",
       "      <th>2017-08-29 08:55:00</th>\n",
       "      <td>0.95</td>\n",
       "      <td>1.0</td>\n",
       "    </tr>\n",
       "    <tr>\n",
       "      <th>2017-08-29 09:25:00</th>\n",
       "      <td>0.89</td>\n",
       "      <td>4.0</td>\n",
       "    </tr>\n",
       "    <tr>\n",
       "      <th>2017-08-29 09:55:00</th>\n",
       "      <td>0.88</td>\n",
       "      <td>4.0</td>\n",
       "    </tr>\n",
       "    <tr>\n",
       "      <th>2017-08-29 10:25:00</th>\n",
       "      <td>0.86</td>\n",
       "      <td>4.0</td>\n",
       "    </tr>\n",
       "    <tr>\n",
       "      <th>2017-08-29 10:55:00</th>\n",
       "      <td>0.84</td>\n",
       "      <td>4.0</td>\n",
       "    </tr>\n",
       "    <tr>\n",
       "      <th>2017-08-29 11:25:00</th>\n",
       "      <td>0.79</td>\n",
       "      <td>1.0</td>\n",
       "    </tr>\n",
       "    <tr>\n",
       "      <th>2017-08-29 11:55:00</th>\n",
       "      <td>0.79</td>\n",
       "      <td>1.0</td>\n",
       "    </tr>\n",
       "    <tr>\n",
       "      <th>2017-08-29 12:25:00</th>\n",
       "      <td>0.76</td>\n",
       "      <td>1.0</td>\n",
       "    </tr>\n",
       "    <tr>\n",
       "      <th>2017-08-29 12:55:00</th>\n",
       "      <td>0.81</td>\n",
       "      <td>1.0</td>\n",
       "    </tr>\n",
       "    <tr>\n",
       "      <th>2017-08-29 13:55:00</th>\n",
       "      <td>0.91</td>\n",
       "      <td>1.0</td>\n",
       "    </tr>\n",
       "    <tr>\n",
       "      <th>2017-08-29 14:25:00</th>\n",
       "      <td>0.81</td>\n",
       "      <td>1.0</td>\n",
       "    </tr>\n",
       "    <tr>\n",
       "      <th>2017-08-29 14:55:00</th>\n",
       "      <td>0.87</td>\n",
       "      <td>1.0</td>\n",
       "    </tr>\n",
       "    <tr>\n",
       "      <th>2017-08-29 15:25:00</th>\n",
       "      <td>0.83</td>\n",
       "      <td>4.0</td>\n",
       "    </tr>\n",
       "  </tbody>\n",
       "</table>\n",
       "</div>"
      ],
      "text/plain": [
       "                       Hs   Hs\n",
       "datetime                      \n",
       "2017-08-28 13:25:00  0.94  NaN\n",
       "2017-08-28 13:55:00  0.96  1.0\n",
       "2017-08-28 14:55:00  0.89  1.0\n",
       "2017-08-28 15:25:00  0.90  1.0\n",
       "2017-08-28 15:55:00  0.91  1.0\n",
       "2017-08-28 16:25:00  0.99  1.0\n",
       "2017-08-28 16:55:00  0.90  4.0\n",
       "2017-08-28 17:25:00  0.90  4.0\n",
       "2017-08-28 17:55:00  0.90  1.0\n",
       "2017-08-28 18:55:00  0.90  1.0\n",
       "2017-08-28 19:55:00  0.85  1.0\n",
       "2017-08-28 20:25:00  0.86  1.0\n",
       "2017-08-28 21:25:00  0.88  1.0\n",
       "2017-08-28 22:25:00  0.87  1.0\n",
       "2017-08-28 22:55:00  0.84  1.0\n",
       "2017-08-28 23:55:00  0.89  1.0\n",
       "2017-08-29 00:25:00  0.93  1.0\n",
       "2017-08-29 01:55:00  0.78  1.0\n",
       "2017-08-29 02:25:00  0.80  1.0\n",
       "2017-08-29 04:25:00  0.82  1.0\n",
       "2017-08-29 04:55:00  0.81  1.0\n",
       "2017-08-29 05:25:00  0.92  1.0\n",
       "2017-08-29 05:55:00  0.81  1.0\n",
       "2017-08-29 06:25:00  0.87  1.0\n",
       "2017-08-29 06:55:00  0.87  1.0\n",
       "2017-08-29 07:55:00  0.91  1.0\n",
       "2017-08-29 08:25:00  0.93  1.0\n",
       "2017-08-29 08:55:00  0.95  1.0\n",
       "2017-08-29 09:25:00  0.89  4.0\n",
       "2017-08-29 09:55:00  0.88  4.0\n",
       "2017-08-29 10:25:00  0.86  4.0\n",
       "2017-08-29 10:55:00  0.84  4.0\n",
       "2017-08-29 11:25:00  0.79  1.0\n",
       "2017-08-29 11:55:00  0.79  1.0\n",
       "2017-08-29 12:25:00  0.76  1.0\n",
       "2017-08-29 12:55:00  0.81  1.0\n",
       "2017-08-29 13:55:00  0.91  1.0\n",
       "2017-08-29 14:25:00  0.81  1.0\n",
       "2017-08-29 14:55:00  0.87  1.0\n",
       "2017-08-29 15:25:00  0.83  4.0"
      ]
     },
     "execution_count": 11,
     "metadata": {},
     "output_type": "execute_result"
    }
   ],
   "source": [
    "buoy_test.head(40)"
   ]
  },
  {
   "cell_type": "code",
   "execution_count": 88,
   "id": "a22df8ca-51cb-4415-9fe9-06859f349b17",
   "metadata": {},
   "outputs": [
    {
     "data": {
      "image/png": "[encoded data removed]",
      "text/plain": [
       "<Figure size 432x288 with 1 Axes>"
      ]
     },
     "metadata": {
      "needs_background": "light"
     },
     "output_type": "display_data"
    }
   ],
   "source": [
    "buoy_test.iloc[:,1].plot(marker='.',ls='None');"
   ]
  },
  {
   "cell_type": "code",
   "execution_count": null,
   "id": "2fa2daf2-88f8-45e2-8e1b-6394152ab3f4",
   "metadata": {},
   "outputs": [],
   "source": [
    "def flat_test_function(data,eps=0.001):\n",
    "    for i in range(len(data))\n",
    "        rol_block = data.iloc[i:i+5].values\n",
    "        count = 0\n",
    "        for i in range(len(rol_block)):\n",
    "            diff = rol_block[i] - rol_block[i-1]\n",
    "            if diff < eps:\n",
    "                count += 1\n",
    "        if count >= 4:\n",
    "            flag = 4\n",
    "        else:\n",
    "            flag = 1\n",
    "    return flag  "
   ]
  },
  {
   "cell_type": "code",
   "execution_count": null,
   "id": "d551c0b4-4093-4d38-b890-a18a5d2bd2a1",
   "metadata": {},
   "outputs": [],
   "source": []
  },
  {
   "cell_type": "code",
   "execution_count": null,
   "id": "fe5a98b0-89f0-4b00-b86a-42dd46f97906",
   "metadata": {},
   "outputs": [],
   "source": []
  },
  {
   "cell_type": "code",
   "execution_count": null,
   "id": "558aa630-be99-4753-bc3a-e7c4649030d7",
   "metadata": {},
   "outputs": [],
   "source": []
  },
  {
   "cell_type": "code",
   "execution_count": null,
   "id": "5db6ba4a-5bbf-4738-a9d2-9df3ffcd2b5d",
   "metadata": {},
   "outputs": [],
   "source": []
  },
  {
   "cell_type": "code",
   "execution_count": null,
   "id": "d49cf97c-4b34-4857-b188-5a4ceb9bbee8",
   "metadata": {},
   "outputs": [],
   "source": []
  },
  {
   "cell_type": "code",
   "execution_count": null,
   "id": "217549bf-118d-4ad4-bfc5-870e1414627c",
   "metadata": {},
   "outputs": [],
   "source": []
  },
  {
   "cell_type": "code",
   "execution_count": 20,
   "id": "24dea089-c090-4e32-bba5-18d9e9b256b9",
   "metadata": {},
   "outputs": [
    {
     "data": {
      "text/plain": [
       "array([0, 1, 2, 3, 4, 5, 6, 7, 8, 9])"
      ]
     },
     "execution_count": 20,
     "metadata": {},
     "output_type": "execute_result"
    }
   ],
   "source": [
    "buoy_cut['Hs']"
   ]
  },
  {
   "cell_type": "code",
   "execution_count": null,
   "id": "110fb821-5bad-4b9b-9c5b-125116ad72a7",
   "metadata": {},
   "outputs": [],
   "source": [
    "EPS = 0.001 meter\n",
    "\n",
    "def flat_line_test(data_original, param, rep_cnt_fail=5,rep_cnt_suspect=3,eps=0.001):\n",
    "    \n",
    "    data = data_original.copy()\n",
    "    \n",
    "    \n",
    "    \n",
    "    \n",
    "    \n",
    "    \n",
    "    data[f'{param}_roc_test_nstd_25h'] = data[param].rolling('25h').std() * number_stds\n",
    "#     time_delta = pd.Timedelta('25h')\n",
    "#     start = data.index[0]\n",
    "#     data.loc[start:start+time_delta] = np.NaN\n",
    "    \n",
    "    data[f'{param}_roc_test_diff'] = np.abs(data[param].diff(-1))\n",
    "\n",
    "    cond1 = data[f'{param}_roc_test_diff'] < data[f'{param}_roc_test_nstd_25h']\n",
    "    cond2 = (data[f'{param}_roc_test_diff'].isna()) | (data[f'{param}_roc_test_nstd_25h'].isna())\n",
    "    cond3 = data[f'{param}_roc_test_diff'] > data[f'{param}_roc_test_nstd_25h']\n",
    "\n",
    "    data.loc[cond1,'flag_roc_test'] = 1\n",
    "    data.loc[cond2,'flag_roc_test'] = 2\n",
    "    data.loc[cond3,'flag_roc_test'] = 3\n",
    "    data['flag_roc_test'] = data['flag_roc_test'].astype('Int64')\n",
    "    \n",
    "    return data"
   ]
  },
  {
   "cell_type": "code",
   "execution_count": null,
   "id": "65dd67cf-b954-461b-9d1d-3e8aec995a79",
   "metadata": {},
   "outputs": [],
   "source": []
  },
  {
   "cell_type": "code",
   "execution_count": null,
   "id": "c517940d-641a-4ed0-90f2-1d70838402eb",
   "metadata": {},
   "outputs": [],
   "source": []
  },
  {
   "cell_type": "code",
   "execution_count": null,
   "id": "afe49a5c-c176-483c-9ddf-cc7d0ae7523a",
   "metadata": {},
   "outputs": [],
   "source": []
  },
  {
   "cell_type": "markdown",
   "id": "28bc689b-2252-404e-a981-0c0c15adc4af",
   "metadata": {},
   "source": [
    "## Overall function"
   ]
  },
  {
   "cell_type": "code",
   "execution_count": 178,
   "id": "70b0e955-9793-420c-a1e7-330688680a8e",
   "metadata": {
    "tags": []
   },
   "outputs": [],
   "source": [
    "hs = buoy['Hs']\n",
    "flag_spk = buoy_spike.filter(regex='flag')\n",
    "flag_gross = buoy_gross.filter(regex='flag')\n",
    "flag_roc = buoy_roc.filter(regex='flag')\n",
    "index = buoy.index\n",
    "\n",
    "hs_QC = pd.concat([hs,flag_spk,flag_gross,flag_roc],axis=1)"
   ]
  },
  {
   "cell_type": "code",
   "execution_count": null,
   "id": "f0829f4c-57ac-4dfe-ab8c-46fe37584fa9",
   "metadata": {},
   "outputs": [],
   "source": [
    "def QC_function(data,param,\n",
    "               threshold_spk_test=(None,None),\n",
    "               sensor_output_range_gross_test=(None,None),user_output_range=(None,None),)"
   ]
  }
 ],
 "metadata": {
  "kernelspec": {
   "display_name": "Python 3 (ipykernel)",
   "language": "python",
   "name": "python3"
  },
  "language_info": {
   "codemirror_mode": {
    "name": "ipython",
    "version": 3
   },
   "file_extension": ".py",
   "mimetype": "text/x-python",
   "name": "python",
   "nbconvert_exporter": "python",
   "pygments_lexer": "ipython3",
   "version": "3.10.2"
  }
 },
 "nbformat": 4,
 "nbformat_minor": 5
}
