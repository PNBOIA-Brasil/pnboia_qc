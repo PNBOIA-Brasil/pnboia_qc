{
 "cells": [
  {
   "cell_type": "markdown",
   "id": "f1c56460",
   "metadata": {},
   "source": [
    "# Quality control routines for PNBOIA - ioos_qc"
   ]
  },
  {
   "cell_type": "markdown",
   "id": "6afa4601",
   "metadata": {},
   "source": [
    "## Import libs"
   ]
  },
  {
   "cell_type": "code",
   "execution_count": 6,
   "id": "eee3fb56",
   "metadata": {},
   "outputs": [
    {
     "name": "stdout",
     "output_type": "stream",
     "text": [
      "The autoreload extension is already loaded. To reload it, use:\n",
      "  %reload_ext autoreload\n"
     ]
    }
   ],
   "source": [
    "import numpy as np\n",
    "import pandas as pd\n",
    "idx = pd.IndexSlice\n",
    "%load_ext autoreload\n",
    "%autoreload 2\n",
    "import ioos_qc\n",
    "from ioos_qc.config import QcConfig\n",
    "import pnboia_qc.pnboia_limits as pnboia_limits"
   ]
  },
  {
   "cell_type": "markdown",
   "id": "e097f62a",
   "metadata": {},
   "source": [
    "## Load PNBOIA data"
   ]
  },
  {
   "cell_type": "code",
   "execution_count": 2,
   "id": "7e7e92b2",
   "metadata": {},
   "outputs": [],
   "source": [
    "buoys_df = pd.read_csv('../raw_data/pnboia_raw_data.csv',parse_dates=True,index_col=['buoy','Datetime'])\n",
    "buoys_df.rename(columns={'humi':'rh', # variables temporarily renamed to match QCChecks limits naming\n",
    "                        'dewp':'dewpt',\n",
    "                        'wtmp':'sst',\n",
    "                        'cvel1':'cspd1',\n",
    "                        'cvel2':'cspd2',\n",
    "                        'cvel3':'cspd3',\n",
    "                        'wvht':'swvht',\n",
    "                        'wmax':'mxwvht',\n",
    "                        'dpd':'tp',\n",
    "                        'mwd':'wvdir'}, inplace=True)\n",
    "buoys_df.drop(columns=['lat','lon'],inplace=True)"
   ]
  },
  {
   "cell_type": "code",
   "execution_count": 5,
   "id": "dd9e5d63",
   "metadata": {},
   "outputs": [],
   "source": [
    "config = {\n",
    "    'qartod': {\n",
    "        'gross_range_test': {\n",
    "            'suspect_span': [1, 11],\n",
    "            'fail_span': [0, 12],\n",
    "        }\n",
    "    }\n",
    "}\n",
    "c = QcConfig(config)"
   ]
  },
  {
   "cell_type": "markdown",
   "id": "364357bf",
   "metadata": {},
   "source": [
    "## Open limits for the data"
   ]
  },
  {
   "cell_type": "code",
   "execution_count": 3,
   "id": "e69d9302",
   "metadata": {},
   "outputs": [],
   "source": [
    "mis_values = pnboia_limits.mis_value_axys_limits\n",
    "limits = pnboia_limits.range_axys_limits\n",
    "climate_limits = pnboia_limits.climate_axys_limits\n",
    "stuck_limits = pnboia_limits.stuck_axys_limits\n",
    "sigma_values = pnboia_limits.sigma_axys_limits\n",
    "height = pnboia_limits.height\n",
    "continuity_limit = pnboia_limits.continuity_axys_limits"
   ]
  },
  {
   "cell_type": "markdown",
   "id": "a61c278b",
   "metadata": {},
   "source": [
    "## Create the class to start the qc tests"
   ]
  },
  {
   "cell_type": "code",
   "execution_count": 4,
   "id": "5848ffda",
   "metadata": {},
   "outputs": [
    {
     "name": "stdout",
     "output_type": "stream",
     "text": [
      "qc object created successfully for cf\n",
      "qc object created successfully for cf2\n",
      "qc object created successfully for fo\n",
      "qc object created successfully for it\n",
      "qc object created successfully for itaguai\n",
      "qc object created successfully for itaoca\n",
      "qc object created successfully for minuano\n",
      "qc object created successfully for ni\n",
      "qc object created successfully for ocas\n",
      "qc object created successfully for po\n",
      "qc object created successfully for re\n",
      "qc object created successfully for rg\n",
      "qc object created successfully for sa\n",
      "qc object created successfully for vi\n"
     ]
    }
   ],
   "source": [
    "# Testing QCChecks for each buoy in the global DataFrame (buoys_df)\n",
    "buoys = buoys_df.index.levels[0].unique()\n",
    "for buoy in buoys:\n",
    "    buoy_sel = buoys_df.loc[buoy].dropna(how='all',axis=1)\n",
    "    variables = buoy_sel.columns.to_list()\n",
    "    QCChecks(data=buoy_sel,\n",
    "            variables=variables,\n",
    "            mis_values=mis_values,\n",
    "            limits=limits,\n",
    "            climate_limits=climate_limits,\n",
    "            stuck_limit=stuck_limits,\n",
    "            sigma_values=sigma_values,\n",
    "            continuity_limit=continuity_limit,\n",
    "            height=height\n",
    "            )\n",
    "    print(f'qc object created successfully for {buoy}')\n",
    "    "
   ]
  },
  {
   "cell_type": "markdown",
   "id": "4c4667c5",
   "metadata": {},
   "source": [
    "## Filtered Data Generation"
   ]
  },
  {
   "cell_type": "code",
   "execution_count": 37,
   "id": "bedce20f",
   "metadata": {},
   "outputs": [],
   "source": [
    "def filter_data(buoy_name:str):\n",
    "    buoy_df = buoys_df.loc[buoy_name]\n",
    "    variables = buoy_df.columns.to_list()\n",
    "\n",
    "    qc = QCChecks(data=buoy_df,\n",
    "        variables=variables,\n",
    "        mis_values=mis_values,\n",
    "        limits=limits,\n",
    "        climate_limits=climate_limits,\n",
    "        stuck_limit=stuck_limits,\n",
    "        sigma_values=sigma_values,\n",
    "        continuity_limit=continuity_limit,\n",
    "        height=height\n",
    "        )\n",
    "\n",
    "        # Missvalue test\n",
    "    for parameter in mis_values.keys():\n",
    "        qc.mis_value_check(parameter=parameter)\n",
    "\n",
    "    # Range test\n",
    "    for parameter in limits.keys():\n",
    "        qc.range_check(parameter=parameter)\n",
    "\n",
    "    # Climate range test\n",
    "    for parameter in climate_limits.keys():\n",
    "        qc.range_check_climate(parameter=parameter)\n",
    "\n",
    "    # Comparison between swvht and mxwvht\n",
    "    qc.swvht_mxwvht_check(swvht_name = 'swvht', mxwvht_name = 'mxwvht')\n",
    "\n",
    "    # Comparison of wind speed and gust\n",
    "    qc.wind_speed_gust_check(wspd_name='wspd1', gust_name='gust1')\n",
    "    qc.wind_speed_gust_check(wspd_name='wspd2', gust_name='gust2')\n",
    "\n",
    "    # Comparison of Dewpt and Atmp\n",
    "    qc.dewpt_atmp_check(dewpt_name='dewpt', atmp_name='atmp')\n",
    "\n",
    "    # Comparison of battery and pressure\n",
    "    qc.bat_sensor_check(battery_name='battery', pres_name='pres')\n",
    "\n",
    "    # Stuck sensor test\n",
    "    for parameter in variables:\n",
    "        if parameter != 'battery':\n",
    "            print(parameter)\n",
    "            qc.stuck_sensor_check(parameter=parameter)\n",
    "\n",
    "    # Convert wind to 10 meters\n",
    "    qc.convert_10_meters(wspd_name='wspd1', gust_name='gust1')\n",
    "    qc.convert_10_meters(wspd_name='wspd2', gust_name='gust2')\n",
    "\n",
    "    # Select the best anemometer\n",
    "    qc.related_meas_check(parameters=['wspd1', 'wspd2', 'wdir1', 'wdir2', 'gust1', 'gust2'])\n",
    "\n",
    "    # Time continuity test\n",
    "    for parameter in sigma_values.keys():\n",
    "        print(parameter)\n",
    "        qc.t_continuity_check(parameter=parameter)\n",
    "\n",
    "    # Front exception tests\n",
    "    qc.front_except_check1(wdir_name='wdir', atmp_name='atmp')\n",
    "    qc.front_except_check3(wspd_name='wspd', atmp_name='atmp')\n",
    "    qc.front_except_check4(pres_name='pres', wspd_name='wspd')\n",
    "    qc.front_except_check5(pres_name='pres')\n",
    "    qc.front_except_check6(wspd_name='wspd', swvht_name='swvht')\n",
    "\n",
    "    def filter_data_dataframe(qc_object):\n",
    "        filtered_bad_data = pd.DataFrame(index=qc_object.data.index,columns=qc_object.data.columns)\n",
    "        bool_array_2 = np.logical_and(qc_object.flag>0, qc_object.flag<100)\n",
    "        filtered_bad_data = qc_object.data[~bool_array_2]\n",
    "\n",
    "        return filtered_bad_data\n",
    "\n",
    "    filtered_data = filter_data_dataframe(qc)\n",
    "    filtered_data.to_csv(f'{buoy_name}_filtered.csv')\n",
    "\n",
    "    return filtered_data"
   ]
  },
  {
   "cell_type": "code",
   "execution_count": 39,
   "id": "c52e830e",
   "metadata": {},
   "outputs": [
    {
     "name": "stderr",
     "output_type": "stream",
     "text": [
      "/home/remobs-dados/pnboia_qc/pnboia_qc/qc_checks.py:268: SettingWithCopyWarning: \n",
      "A value is trying to be set on a copy of a slice from a DataFrame\n",
      "\n",
      "See the caveats in the documentation: https://pandas.pydata.org/pandas-docs/stable/user_guide/indexing.html#returning-a-view-versus-a-copy\n",
      "  self.data.loc[(self.flag[dewpt_name] == 51), dewpt_name] = self.data[atmp_name]\n"
     ]
    },
    {
     "name": "stdout",
     "output_type": "stream",
     "text": [
      "wspd1\n",
      "gust1\n",
      "wdir1\n",
      "wspd2\n",
      "gust2\n",
      "wdir2\n",
      "atmp\n",
      "rh\n",
      "dewpt\n",
      "pres\n",
      "sst\n",
      "bhead\n",
      "arad\n",
      "cspd1\n",
      "cdir1\n",
      "cspd2\n",
      "cdir2\n",
      "cspd3\n",
      "cdir3\n",
      "swvht\n",
      "mxwvht\n",
      "tp\n",
      "wvdir\n",
      "spred\n"
     ]
    },
    {
     "name": "stderr",
     "output_type": "stream",
     "text": [
      "/home/remobs-dados/pnboia_qc/pnboia_qc/qc_checks.py:340: SettingWithCopyWarning: \n",
      "A value is trying to be set on a copy of a slice from a DataFrame\n",
      "\n",
      "See the caveats in the documentation: https://pandas.pydata.org/pandas-docs/stable/user_guide/indexing.html#returning-a-view-versus-a-copy\n",
      "  self.data.loc[(self.flag[wspd_name] == 0), wspd_name] = self.data[wspd_name] * (10 / height) ** 0.11\n",
      "/home/remobs-dados/pnboia_qc/pnboia_qc/qc_checks.py:342: SettingWithCopyWarning: \n",
      "A value is trying to be set on a copy of a slice from a DataFrame\n",
      "\n",
      "See the caveats in the documentation: https://pandas.pydata.org/pandas-docs/stable/user_guide/indexing.html#returning-a-view-versus-a-copy\n",
      "  self.data.loc[(self.flag[gust_name] == 0), gust_name] = self.data[gust_name] * (10 / height) ** 0.11\n",
      "/home/remobs-dados/pnboia_qc/pnboia_qc/qc_checks.py:361: SettingWithCopyWarning: \n",
      "A value is trying to be set on a copy of a slice from a DataFrame.\n",
      "Try using .loc[row_indexer,col_indexer] = value instead\n",
      "\n",
      "See the caveats in the documentation: https://pandas.pydata.org/pandas-docs/stable/user_guide/indexing.html#returning-a-view-versus-a-copy\n",
      "  self.data[\"wspd\"] = self.data[parameters[0]]\n",
      "/home/remobs-dados/pnboia_qc/pnboia_qc/qc_checks.py:362: SettingWithCopyWarning: \n",
      "A value is trying to be set on a copy of a slice from a DataFrame.\n",
      "Try using .loc[row_indexer,col_indexer] = value instead\n",
      "\n",
      "See the caveats in the documentation: https://pandas.pydata.org/pandas-docs/stable/user_guide/indexing.html#returning-a-view-versus-a-copy\n",
      "  self.data[\"wdir\"] = self.data[parameters[2]]\n",
      "/home/remobs-dados/pnboia_qc/pnboia_qc/qc_checks.py:363: SettingWithCopyWarning: \n",
      "A value is trying to be set on a copy of a slice from a DataFrame.\n",
      "Try using .loc[row_indexer,col_indexer] = value instead\n",
      "\n",
      "See the caveats in the documentation: https://pandas.pydata.org/pandas-docs/stable/user_guide/indexing.html#returning-a-view-versus-a-copy\n",
      "  self.data[\"gust\"] = self.data[parameters[4]]\n"
     ]
    },
    {
     "name": "stdout",
     "output_type": "stream",
     "text": [
      "swvht\n",
      "rh\n",
      "pres\n",
      "atmp\n",
      "wspd\n",
      "sst\n"
     ]
    }
   ],
   "source": [
    "minuano_filtered = filter_data(buoy_name='minuano')"
   ]
  },
  {
   "cell_type": "code",
   "execution_count": 40,
   "id": "2d4ca62a",
   "metadata": {},
   "outputs": [
    {
     "name": "stderr",
     "output_type": "stream",
     "text": [
      "/home/remobs-dados/pnboia_qc/pnboia_qc/qc_checks.py:268: SettingWithCopyWarning: \n",
      "A value is trying to be set on a copy of a slice from a DataFrame\n",
      "\n",
      "See the caveats in the documentation: https://pandas.pydata.org/pandas-docs/stable/user_guide/indexing.html#returning-a-view-versus-a-copy\n",
      "  self.data.loc[(self.flag[dewpt_name] == 51), dewpt_name] = self.data[atmp_name]\n"
     ]
    },
    {
     "name": "stdout",
     "output_type": "stream",
     "text": [
      "wspd1\n",
      "gust1\n",
      "wdir1\n",
      "wspd2\n",
      "gust2\n",
      "wdir2\n",
      "atmp\n",
      "rh\n",
      "dewpt\n",
      "pres\n",
      "sst\n",
      "bhead\n",
      "arad\n",
      "cspd1\n",
      "cdir1\n",
      "cspd2\n",
      "cdir2\n",
      "cspd3\n",
      "cdir3\n",
      "swvht\n",
      "mxwvht\n",
      "tp\n",
      "wvdir\n",
      "spred\n"
     ]
    },
    {
     "name": "stderr",
     "output_type": "stream",
     "text": [
      "/home/remobs-dados/pnboia_qc/pnboia_qc/qc_checks.py:340: SettingWithCopyWarning: \n",
      "A value is trying to be set on a copy of a slice from a DataFrame\n",
      "\n",
      "See the caveats in the documentation: https://pandas.pydata.org/pandas-docs/stable/user_guide/indexing.html#returning-a-view-versus-a-copy\n",
      "  self.data.loc[(self.flag[wspd_name] == 0), wspd_name] = self.data[wspd_name] * (10 / height) ** 0.11\n",
      "/home/remobs-dados/pnboia_qc/pnboia_qc/qc_checks.py:342: SettingWithCopyWarning: \n",
      "A value is trying to be set on a copy of a slice from a DataFrame\n",
      "\n",
      "See the caveats in the documentation: https://pandas.pydata.org/pandas-docs/stable/user_guide/indexing.html#returning-a-view-versus-a-copy\n",
      "  self.data.loc[(self.flag[gust_name] == 0), gust_name] = self.data[gust_name] * (10 / height) ** 0.11\n",
      "/home/remobs-dados/pnboia_qc/pnboia_qc/qc_checks.py:361: SettingWithCopyWarning: \n",
      "A value is trying to be set on a copy of a slice from a DataFrame.\n",
      "Try using .loc[row_indexer,col_indexer] = value instead\n",
      "\n",
      "See the caveats in the documentation: https://pandas.pydata.org/pandas-docs/stable/user_guide/indexing.html#returning-a-view-versus-a-copy\n",
      "  self.data[\"wspd\"] = self.data[parameters[0]]\n",
      "/home/remobs-dados/pnboia_qc/pnboia_qc/qc_checks.py:362: SettingWithCopyWarning: \n",
      "A value is trying to be set on a copy of a slice from a DataFrame.\n",
      "Try using .loc[row_indexer,col_indexer] = value instead\n",
      "\n",
      "See the caveats in the documentation: https://pandas.pydata.org/pandas-docs/stable/user_guide/indexing.html#returning-a-view-versus-a-copy\n",
      "  self.data[\"wdir\"] = self.data[parameters[2]]\n",
      "/home/remobs-dados/pnboia_qc/pnboia_qc/qc_checks.py:363: SettingWithCopyWarning: \n",
      "A value is trying to be set on a copy of a slice from a DataFrame.\n",
      "Try using .loc[row_indexer,col_indexer] = value instead\n",
      "\n",
      "See the caveats in the documentation: https://pandas.pydata.org/pandas-docs/stable/user_guide/indexing.html#returning-a-view-versus-a-copy\n",
      "  self.data[\"gust\"] = self.data[parameters[4]]\n"
     ]
    },
    {
     "name": "stdout",
     "output_type": "stream",
     "text": [
      "swvht\n",
      "rh\n",
      "pres\n",
      "atmp\n",
      "wspd\n",
      "sst\n"
     ]
    }
   ],
   "source": [
    "vi_filtered = filter_data(buoy_name='vi')"
   ]
  },
  {
   "cell_type": "code",
   "execution_count": 41,
   "id": "bfca9e9e",
   "metadata": {},
   "outputs": [
    {
     "name": "stderr",
     "output_type": "stream",
     "text": [
      "/home/remobs-dados/pnboia_qc/pnboia_qc/qc_checks.py:268: SettingWithCopyWarning: \n",
      "A value is trying to be set on a copy of a slice from a DataFrame\n",
      "\n",
      "See the caveats in the documentation: https://pandas.pydata.org/pandas-docs/stable/user_guide/indexing.html#returning-a-view-versus-a-copy\n",
      "  self.data.loc[(self.flag[dewpt_name] == 51), dewpt_name] = self.data[atmp_name]\n"
     ]
    },
    {
     "name": "stdout",
     "output_type": "stream",
     "text": [
      "wspd1\n",
      "gust1\n",
      "wdir1\n",
      "wspd2\n",
      "gust2\n",
      "wdir2\n",
      "atmp\n",
      "rh\n",
      "dewpt\n",
      "pres\n",
      "sst\n",
      "bhead\n",
      "arad\n",
      "cspd1\n",
      "cdir1\n",
      "cspd2\n",
      "cdir2\n",
      "cspd3\n",
      "cdir3\n",
      "swvht\n",
      "mxwvht\n",
      "tp\n",
      "wvdir\n",
      "spred\n"
     ]
    },
    {
     "name": "stderr",
     "output_type": "stream",
     "text": [
      "/home/remobs-dados/pnboia_qc/pnboia_qc/qc_checks.py:340: SettingWithCopyWarning: \n",
      "A value is trying to be set on a copy of a slice from a DataFrame\n",
      "\n",
      "See the caveats in the documentation: https://pandas.pydata.org/pandas-docs/stable/user_guide/indexing.html#returning-a-view-versus-a-copy\n",
      "  self.data.loc[(self.flag[wspd_name] == 0), wspd_name] = self.data[wspd_name] * (10 / height) ** 0.11\n",
      "/home/remobs-dados/pnboia_qc/pnboia_qc/qc_checks.py:342: SettingWithCopyWarning: \n",
      "A value is trying to be set on a copy of a slice from a DataFrame\n",
      "\n",
      "See the caveats in the documentation: https://pandas.pydata.org/pandas-docs/stable/user_guide/indexing.html#returning-a-view-versus-a-copy\n",
      "  self.data.loc[(self.flag[gust_name] == 0), gust_name] = self.data[gust_name] * (10 / height) ** 0.11\n",
      "/home/remobs-dados/pnboia_qc/pnboia_qc/qc_checks.py:361: SettingWithCopyWarning: \n",
      "A value is trying to be set on a copy of a slice from a DataFrame.\n",
      "Try using .loc[row_indexer,col_indexer] = value instead\n",
      "\n",
      "See the caveats in the documentation: https://pandas.pydata.org/pandas-docs/stable/user_guide/indexing.html#returning-a-view-versus-a-copy\n",
      "  self.data[\"wspd\"] = self.data[parameters[0]]\n",
      "/home/remobs-dados/pnboia_qc/pnboia_qc/qc_checks.py:362: SettingWithCopyWarning: \n",
      "A value is trying to be set on a copy of a slice from a DataFrame.\n",
      "Try using .loc[row_indexer,col_indexer] = value instead\n",
      "\n",
      "See the caveats in the documentation: https://pandas.pydata.org/pandas-docs/stable/user_guide/indexing.html#returning-a-view-versus-a-copy\n",
      "  self.data[\"wdir\"] = self.data[parameters[2]]\n",
      "/home/remobs-dados/pnboia_qc/pnboia_qc/qc_checks.py:363: SettingWithCopyWarning: \n",
      "A value is trying to be set on a copy of a slice from a DataFrame.\n",
      "Try using .loc[row_indexer,col_indexer] = value instead\n",
      "\n",
      "See the caveats in the documentation: https://pandas.pydata.org/pandas-docs/stable/user_guide/indexing.html#returning-a-view-versus-a-copy\n",
      "  self.data[\"gust\"] = self.data[parameters[4]]\n"
     ]
    },
    {
     "name": "stdout",
     "output_type": "stream",
     "text": [
      "swvht\n",
      "rh\n",
      "pres\n",
      "atmp\n",
      "wspd\n",
      "sst\n"
     ]
    },
    {
     "name": "stderr",
     "output_type": "stream",
     "text": [
      "/home/remobs-dados/pnboia_qc/pnboia_qc/qc_checks.py:509: SettingWithCopyWarning: \n",
      "A value is trying to be set on a copy of a slice from a DataFrame.\n",
      "Try using .loc[row_indexer,col_indexer] = value instead\n",
      "\n",
      "See the caveats in the documentation: https://pandas.pydata.org/pandas-docs/stable/user_guide/indexing.html#returning-a-view-versus-a-copy\n",
      "  select_value[\"pres_new\"] = select_value_2[\"pres\"]\n",
      "/home/remobs-dados/pnboia_qc/pnboia_qc/qc_checks.py:549: SettingWithCopyWarning: \n",
      "A value is trying to be set on a copy of a slice from a DataFrame.\n",
      "Try using .loc[row_indexer,col_indexer] = value instead\n",
      "\n",
      "See the caveats in the documentation: https://pandas.pydata.org/pandas-docs/stable/user_guide/indexing.html#returning-a-view-versus-a-copy\n",
      "  select_value[\"pres_new\"] = select_value_2[\"pres\"]\n"
     ]
    }
   ],
   "source": [
    "cf2_filtered = filter_data(buoy_name='cf2')"
   ]
  },
  {
   "cell_type": "code",
   "execution_count": 42,
   "id": "dfbd0d0f",
   "metadata": {},
   "outputs": [
    {
     "name": "stderr",
     "output_type": "stream",
     "text": [
      "/home/remobs-dados/pnboia_qc/pnboia_qc/qc_checks.py:268: SettingWithCopyWarning: \n",
      "A value is trying to be set on a copy of a slice from a DataFrame\n",
      "\n",
      "See the caveats in the documentation: https://pandas.pydata.org/pandas-docs/stable/user_guide/indexing.html#returning-a-view-versus-a-copy\n",
      "  self.data.loc[(self.flag[dewpt_name] == 51), dewpt_name] = self.data[atmp_name]\n"
     ]
    },
    {
     "name": "stdout",
     "output_type": "stream",
     "text": [
      "wspd1\n",
      "gust1\n",
      "wdir1\n",
      "wspd2\n",
      "gust2\n",
      "wdir2\n",
      "atmp\n",
      "rh\n",
      "dewpt\n",
      "pres\n",
      "sst\n",
      "bhead\n",
      "arad\n",
      "cspd1\n",
      "cdir1\n",
      "cspd2\n",
      "cdir2\n",
      "cspd3\n",
      "cdir3\n",
      "swvht\n",
      "mxwvht\n",
      "tp\n",
      "wvdir\n",
      "spred\n"
     ]
    },
    {
     "name": "stderr",
     "output_type": "stream",
     "text": [
      "/home/remobs-dados/pnboia_qc/pnboia_qc/qc_checks.py:340: SettingWithCopyWarning: \n",
      "A value is trying to be set on a copy of a slice from a DataFrame\n",
      "\n",
      "See the caveats in the documentation: https://pandas.pydata.org/pandas-docs/stable/user_guide/indexing.html#returning-a-view-versus-a-copy\n",
      "  self.data.loc[(self.flag[wspd_name] == 0), wspd_name] = self.data[wspd_name] * (10 / height) ** 0.11\n",
      "/home/remobs-dados/pnboia_qc/pnboia_qc/qc_checks.py:342: SettingWithCopyWarning: \n",
      "A value is trying to be set on a copy of a slice from a DataFrame\n",
      "\n",
      "See the caveats in the documentation: https://pandas.pydata.org/pandas-docs/stable/user_guide/indexing.html#returning-a-view-versus-a-copy\n",
      "  self.data.loc[(self.flag[gust_name] == 0), gust_name] = self.data[gust_name] * (10 / height) ** 0.11\n",
      "/home/remobs-dados/pnboia_qc/pnboia_qc/qc_checks.py:361: SettingWithCopyWarning: \n",
      "A value is trying to be set on a copy of a slice from a DataFrame.\n",
      "Try using .loc[row_indexer,col_indexer] = value instead\n",
      "\n",
      "See the caveats in the documentation: https://pandas.pydata.org/pandas-docs/stable/user_guide/indexing.html#returning-a-view-versus-a-copy\n",
      "  self.data[\"wspd\"] = self.data[parameters[0]]\n",
      "/home/remobs-dados/pnboia_qc/pnboia_qc/qc_checks.py:362: SettingWithCopyWarning: \n",
      "A value is trying to be set on a copy of a slice from a DataFrame.\n",
      "Try using .loc[row_indexer,col_indexer] = value instead\n",
      "\n",
      "See the caveats in the documentation: https://pandas.pydata.org/pandas-docs/stable/user_guide/indexing.html#returning-a-view-versus-a-copy\n",
      "  self.data[\"wdir\"] = self.data[parameters[2]]\n",
      "/home/remobs-dados/pnboia_qc/pnboia_qc/qc_checks.py:363: SettingWithCopyWarning: \n",
      "A value is trying to be set on a copy of a slice from a DataFrame.\n",
      "Try using .loc[row_indexer,col_indexer] = value instead\n",
      "\n",
      "See the caveats in the documentation: https://pandas.pydata.org/pandas-docs/stable/user_guide/indexing.html#returning-a-view-versus-a-copy\n",
      "  self.data[\"gust\"] = self.data[parameters[4]]\n"
     ]
    },
    {
     "name": "stdout",
     "output_type": "stream",
     "text": [
      "swvht\n",
      "rh\n",
      "pres\n",
      "atmp\n",
      "wspd\n",
      "sst\n"
     ]
    },
    {
     "name": "stderr",
     "output_type": "stream",
     "text": [
      "/home/remobs-dados/pnboia_qc/pnboia_qc/qc_checks.py:509: SettingWithCopyWarning: \n",
      "A value is trying to be set on a copy of a slice from a DataFrame.\n",
      "Try using .loc[row_indexer,col_indexer] = value instead\n",
      "\n",
      "See the caveats in the documentation: https://pandas.pydata.org/pandas-docs/stable/user_guide/indexing.html#returning-a-view-versus-a-copy\n",
      "  select_value[\"pres_new\"] = select_value_2[\"pres\"]\n",
      "/home/remobs-dados/pnboia_qc/pnboia_qc/qc_checks.py:549: SettingWithCopyWarning: \n",
      "A value is trying to be set on a copy of a slice from a DataFrame.\n",
      "Try using .loc[row_indexer,col_indexer] = value instead\n",
      "\n",
      "See the caveats in the documentation: https://pandas.pydata.org/pandas-docs/stable/user_guide/indexing.html#returning-a-view-versus-a-copy\n",
      "  select_value[\"pres_new\"] = select_value_2[\"pres\"]\n"
     ]
    }
   ],
   "source": [
    "itaguai_filtered = filter_data(buoy_name='itaguai')"
   ]
  },
  {
   "cell_type": "code",
   "execution_count": 43,
   "id": "44d97e73",
   "metadata": {},
   "outputs": [
    {
     "name": "stderr",
     "output_type": "stream",
     "text": [
      "/home/remobs-dados/pnboia_qc/pnboia_qc/qc_checks.py:268: SettingWithCopyWarning: \n",
      "A value is trying to be set on a copy of a slice from a DataFrame\n",
      "\n",
      "See the caveats in the documentation: https://pandas.pydata.org/pandas-docs/stable/user_guide/indexing.html#returning-a-view-versus-a-copy\n",
      "  self.data.loc[(self.flag[dewpt_name] == 51), dewpt_name] = self.data[atmp_name]\n"
     ]
    },
    {
     "name": "stdout",
     "output_type": "stream",
     "text": [
      "wspd1\n",
      "gust1\n",
      "wdir1\n",
      "wspd2\n",
      "gust2\n",
      "wdir2\n",
      "atmp\n",
      "rh\n",
      "dewpt\n",
      "pres\n",
      "sst\n",
      "bhead\n",
      "arad\n",
      "cspd1\n",
      "cdir1\n",
      "cspd2\n",
      "cdir2\n",
      "cspd3\n",
      "cdir3\n",
      "swvht\n",
      "mxwvht\n",
      "tp\n",
      "wvdir\n",
      "spred\n"
     ]
    },
    {
     "name": "stderr",
     "output_type": "stream",
     "text": [
      "/home/remobs-dados/pnboia_qc/pnboia_qc/qc_checks.py:340: SettingWithCopyWarning: \n",
      "A value is trying to be set on a copy of a slice from a DataFrame\n",
      "\n",
      "See the caveats in the documentation: https://pandas.pydata.org/pandas-docs/stable/user_guide/indexing.html#returning-a-view-versus-a-copy\n",
      "  self.data.loc[(self.flag[wspd_name] == 0), wspd_name] = self.data[wspd_name] * (10 / height) ** 0.11\n",
      "/home/remobs-dados/pnboia_qc/pnboia_qc/qc_checks.py:342: SettingWithCopyWarning: \n",
      "A value is trying to be set on a copy of a slice from a DataFrame\n",
      "\n",
      "See the caveats in the documentation: https://pandas.pydata.org/pandas-docs/stable/user_guide/indexing.html#returning-a-view-versus-a-copy\n",
      "  self.data.loc[(self.flag[gust_name] == 0), gust_name] = self.data[gust_name] * (10 / height) ** 0.11\n",
      "/home/remobs-dados/pnboia_qc/pnboia_qc/qc_checks.py:361: SettingWithCopyWarning: \n",
      "A value is trying to be set on a copy of a slice from a DataFrame.\n",
      "Try using .loc[row_indexer,col_indexer] = value instead\n",
      "\n",
      "See the caveats in the documentation: https://pandas.pydata.org/pandas-docs/stable/user_guide/indexing.html#returning-a-view-versus-a-copy\n",
      "  self.data[\"wspd\"] = self.data[parameters[0]]\n",
      "/home/remobs-dados/pnboia_qc/pnboia_qc/qc_checks.py:362: SettingWithCopyWarning: \n",
      "A value is trying to be set on a copy of a slice from a DataFrame.\n",
      "Try using .loc[row_indexer,col_indexer] = value instead\n",
      "\n",
      "See the caveats in the documentation: https://pandas.pydata.org/pandas-docs/stable/user_guide/indexing.html#returning-a-view-versus-a-copy\n",
      "  self.data[\"wdir\"] = self.data[parameters[2]]\n",
      "/home/remobs-dados/pnboia_qc/pnboia_qc/qc_checks.py:363: SettingWithCopyWarning: \n",
      "A value is trying to be set on a copy of a slice from a DataFrame.\n",
      "Try using .loc[row_indexer,col_indexer] = value instead\n",
      "\n",
      "See the caveats in the documentation: https://pandas.pydata.org/pandas-docs/stable/user_guide/indexing.html#returning-a-view-versus-a-copy\n",
      "  self.data[\"gust\"] = self.data[parameters[4]]\n"
     ]
    },
    {
     "name": "stdout",
     "output_type": "stream",
     "text": [
      "swvht\n",
      "rh\n",
      "pres\n",
      "atmp\n",
      "wspd\n",
      "sst\n"
     ]
    },
    {
     "name": "stderr",
     "output_type": "stream",
     "text": [
      "/home/remobs-dados/pnboia_qc/pnboia_qc/qc_checks.py:509: SettingWithCopyWarning: \n",
      "A value is trying to be set on a copy of a slice from a DataFrame.\n",
      "Try using .loc[row_indexer,col_indexer] = value instead\n",
      "\n",
      "See the caveats in the documentation: https://pandas.pydata.org/pandas-docs/stable/user_guide/indexing.html#returning-a-view-versus-a-copy\n",
      "  select_value[\"pres_new\"] = select_value_2[\"pres\"]\n",
      "/home/remobs-dados/pnboia_qc/pnboia_qc/qc_checks.py:549: SettingWithCopyWarning: \n",
      "A value is trying to be set on a copy of a slice from a DataFrame.\n",
      "Try using .loc[row_indexer,col_indexer] = value instead\n",
      "\n",
      "See the caveats in the documentation: https://pandas.pydata.org/pandas-docs/stable/user_guide/indexing.html#returning-a-view-versus-a-copy\n",
      "  select_value[\"pres_new\"] = select_value_2[\"pres\"]\n"
     ]
    }
   ],
   "source": [
    "it_filtered = filter_data(buoy_name='it')"
   ]
  },
  {
   "cell_type": "code",
   "execution_count": 44,
   "id": "67ee2383",
   "metadata": {},
   "outputs": [
    {
     "name": "stderr",
     "output_type": "stream",
     "text": [
      "/home/remobs-dados/pnboia_qc/pnboia_qc/qc_checks.py:268: SettingWithCopyWarning: \n",
      "A value is trying to be set on a copy of a slice from a DataFrame\n",
      "\n",
      "See the caveats in the documentation: https://pandas.pydata.org/pandas-docs/stable/user_guide/indexing.html#returning-a-view-versus-a-copy\n",
      "  self.data.loc[(self.flag[dewpt_name] == 51), dewpt_name] = self.data[atmp_name]\n"
     ]
    },
    {
     "name": "stdout",
     "output_type": "stream",
     "text": [
      "wspd1\n",
      "gust1\n",
      "wdir1\n",
      "wspd2\n",
      "gust2\n",
      "wdir2\n",
      "atmp\n",
      "rh\n",
      "dewpt\n",
      "pres\n",
      "sst\n",
      "bhead\n",
      "arad\n",
      "cspd1\n",
      "cdir1\n",
      "cspd2\n",
      "cdir2\n",
      "cspd3\n",
      "cdir3\n",
      "swvht\n",
      "mxwvht\n",
      "tp\n",
      "wvdir\n",
      "spred\n"
     ]
    },
    {
     "name": "stderr",
     "output_type": "stream",
     "text": [
      "/home/remobs-dados/pnboia_qc/pnboia_qc/qc_checks.py:340: SettingWithCopyWarning: \n",
      "A value is trying to be set on a copy of a slice from a DataFrame\n",
      "\n",
      "See the caveats in the documentation: https://pandas.pydata.org/pandas-docs/stable/user_guide/indexing.html#returning-a-view-versus-a-copy\n",
      "  self.data.loc[(self.flag[wspd_name] == 0), wspd_name] = self.data[wspd_name] * (10 / height) ** 0.11\n",
      "/home/remobs-dados/pnboia_qc/pnboia_qc/qc_checks.py:342: SettingWithCopyWarning: \n",
      "A value is trying to be set on a copy of a slice from a DataFrame\n",
      "\n",
      "See the caveats in the documentation: https://pandas.pydata.org/pandas-docs/stable/user_guide/indexing.html#returning-a-view-versus-a-copy\n",
      "  self.data.loc[(self.flag[gust_name] == 0), gust_name] = self.data[gust_name] * (10 / height) ** 0.11\n",
      "/home/remobs-dados/pnboia_qc/pnboia_qc/qc_checks.py:361: SettingWithCopyWarning: \n",
      "A value is trying to be set on a copy of a slice from a DataFrame.\n",
      "Try using .loc[row_indexer,col_indexer] = value instead\n",
      "\n",
      "See the caveats in the documentation: https://pandas.pydata.org/pandas-docs/stable/user_guide/indexing.html#returning-a-view-versus-a-copy\n",
      "  self.data[\"wspd\"] = self.data[parameters[0]]\n",
      "/home/remobs-dados/pnboia_qc/pnboia_qc/qc_checks.py:362: SettingWithCopyWarning: \n",
      "A value is trying to be set on a copy of a slice from a DataFrame.\n",
      "Try using .loc[row_indexer,col_indexer] = value instead\n",
      "\n",
      "See the caveats in the documentation: https://pandas.pydata.org/pandas-docs/stable/user_guide/indexing.html#returning-a-view-versus-a-copy\n",
      "  self.data[\"wdir\"] = self.data[parameters[2]]\n",
      "/home/remobs-dados/pnboia_qc/pnboia_qc/qc_checks.py:363: SettingWithCopyWarning: \n",
      "A value is trying to be set on a copy of a slice from a DataFrame.\n",
      "Try using .loc[row_indexer,col_indexer] = value instead\n",
      "\n",
      "See the caveats in the documentation: https://pandas.pydata.org/pandas-docs/stable/user_guide/indexing.html#returning-a-view-versus-a-copy\n",
      "  self.data[\"gust\"] = self.data[parameters[4]]\n"
     ]
    },
    {
     "name": "stdout",
     "output_type": "stream",
     "text": [
      "swvht\n",
      "rh\n",
      "pres\n",
      "atmp\n",
      "wspd\n",
      "sst\n"
     ]
    },
    {
     "name": "stderr",
     "output_type": "stream",
     "text": [
      "/home/remobs-dados/pnboia_qc/pnboia_qc/qc_checks.py:509: SettingWithCopyWarning: \n",
      "A value is trying to be set on a copy of a slice from a DataFrame.\n",
      "Try using .loc[row_indexer,col_indexer] = value instead\n",
      "\n",
      "See the caveats in the documentation: https://pandas.pydata.org/pandas-docs/stable/user_guide/indexing.html#returning-a-view-versus-a-copy\n",
      "  select_value[\"pres_new\"] = select_value_2[\"pres\"]\n",
      "/home/remobs-dados/pnboia_qc/pnboia_qc/qc_checks.py:549: SettingWithCopyWarning: \n",
      "A value is trying to be set on a copy of a slice from a DataFrame.\n",
      "Try using .loc[row_indexer,col_indexer] = value instead\n",
      "\n",
      "See the caveats in the documentation: https://pandas.pydata.org/pandas-docs/stable/user_guide/indexing.html#returning-a-view-versus-a-copy\n",
      "  select_value[\"pres_new\"] = select_value_2[\"pres\"]\n"
     ]
    }
   ],
   "source": [
    "ocas_filtered = filter_data(buoy_name='ocas')"
   ]
  },
  {
   "cell_type": "code",
   "execution_count": 45,
   "id": "2ba6dee4",
   "metadata": {},
   "outputs": [
    {
     "name": "stderr",
     "output_type": "stream",
     "text": [
      "/home/remobs-dados/pnboia_qc/pnboia_qc/qc_checks.py:268: SettingWithCopyWarning: \n",
      "A value is trying to be set on a copy of a slice from a DataFrame\n",
      "\n",
      "See the caveats in the documentation: https://pandas.pydata.org/pandas-docs/stable/user_guide/indexing.html#returning-a-view-versus-a-copy\n",
      "  self.data.loc[(self.flag[dewpt_name] == 51), dewpt_name] = self.data[atmp_name]\n"
     ]
    },
    {
     "name": "stdout",
     "output_type": "stream",
     "text": [
      "wspd1\n",
      "gust1\n",
      "wdir1\n",
      "wspd2\n",
      "gust2\n",
      "wdir2\n",
      "atmp\n",
      "rh\n",
      "dewpt\n",
      "pres\n",
      "sst\n",
      "bhead\n",
      "arad\n",
      "cspd1\n",
      "cdir1\n",
      "cspd2\n",
      "cdir2\n",
      "cspd3\n",
      "cdir3\n",
      "swvht\n",
      "mxwvht\n",
      "tp\n",
      "wvdir\n",
      "spred\n"
     ]
    },
    {
     "name": "stderr",
     "output_type": "stream",
     "text": [
      "/home/remobs-dados/pnboia_qc/pnboia_qc/qc_checks.py:340: SettingWithCopyWarning: \n",
      "A value is trying to be set on a copy of a slice from a DataFrame\n",
      "\n",
      "See the caveats in the documentation: https://pandas.pydata.org/pandas-docs/stable/user_guide/indexing.html#returning-a-view-versus-a-copy\n",
      "  self.data.loc[(self.flag[wspd_name] == 0), wspd_name] = self.data[wspd_name] * (10 / height) ** 0.11\n",
      "/home/remobs-dados/pnboia_qc/pnboia_qc/qc_checks.py:342: SettingWithCopyWarning: \n",
      "A value is trying to be set on a copy of a slice from a DataFrame\n",
      "\n",
      "See the caveats in the documentation: https://pandas.pydata.org/pandas-docs/stable/user_guide/indexing.html#returning-a-view-versus-a-copy\n",
      "  self.data.loc[(self.flag[gust_name] == 0), gust_name] = self.data[gust_name] * (10 / height) ** 0.11\n",
      "/home/remobs-dados/pnboia_qc/pnboia_qc/qc_checks.py:361: SettingWithCopyWarning: \n",
      "A value is trying to be set on a copy of a slice from a DataFrame.\n",
      "Try using .loc[row_indexer,col_indexer] = value instead\n",
      "\n",
      "See the caveats in the documentation: https://pandas.pydata.org/pandas-docs/stable/user_guide/indexing.html#returning-a-view-versus-a-copy\n",
      "  self.data[\"wspd\"] = self.data[parameters[0]]\n",
      "/home/remobs-dados/pnboia_qc/pnboia_qc/qc_checks.py:362: SettingWithCopyWarning: \n",
      "A value is trying to be set on a copy of a slice from a DataFrame.\n",
      "Try using .loc[row_indexer,col_indexer] = value instead\n",
      "\n",
      "See the caveats in the documentation: https://pandas.pydata.org/pandas-docs/stable/user_guide/indexing.html#returning-a-view-versus-a-copy\n",
      "  self.data[\"wdir\"] = self.data[parameters[2]]\n",
      "/home/remobs-dados/pnboia_qc/pnboia_qc/qc_checks.py:363: SettingWithCopyWarning: \n",
      "A value is trying to be set on a copy of a slice from a DataFrame.\n",
      "Try using .loc[row_indexer,col_indexer] = value instead\n",
      "\n",
      "See the caveats in the documentation: https://pandas.pydata.org/pandas-docs/stable/user_guide/indexing.html#returning-a-view-versus-a-copy\n",
      "  self.data[\"gust\"] = self.data[parameters[4]]\n"
     ]
    },
    {
     "name": "stdout",
     "output_type": "stream",
     "text": [
      "swvht\n",
      "rh\n",
      "pres\n",
      "atmp\n",
      "wspd\n",
      "sst\n"
     ]
    },
    {
     "name": "stderr",
     "output_type": "stream",
     "text": [
      "/home/remobs-dados/pnboia_qc/pnboia_qc/qc_checks.py:509: SettingWithCopyWarning: \n",
      "A value is trying to be set on a copy of a slice from a DataFrame.\n",
      "Try using .loc[row_indexer,col_indexer] = value instead\n",
      "\n",
      "See the caveats in the documentation: https://pandas.pydata.org/pandas-docs/stable/user_guide/indexing.html#returning-a-view-versus-a-copy\n",
      "  select_value[\"pres_new\"] = select_value_2[\"pres\"]\n",
      "/home/remobs-dados/pnboia_qc/pnboia_qc/qc_checks.py:549: SettingWithCopyWarning: \n",
      "A value is trying to be set on a copy of a slice from a DataFrame.\n",
      "Try using .loc[row_indexer,col_indexer] = value instead\n",
      "\n",
      "See the caveats in the documentation: https://pandas.pydata.org/pandas-docs/stable/user_guide/indexing.html#returning-a-view-versus-a-copy\n",
      "  select_value[\"pres_new\"] = select_value_2[\"pres\"]\n"
     ]
    }
   ],
   "source": [
    "po_filtered = filter_data(buoy_name='po')"
   ]
  },
  {
   "cell_type": "code",
   "execution_count": 46,
   "id": "f3b924fd",
   "metadata": {},
   "outputs": [
    {
     "name": "stderr",
     "output_type": "stream",
     "text": [
      "/home/remobs-dados/pnboia_qc/pnboia_qc/qc_checks.py:268: SettingWithCopyWarning: \n",
      "A value is trying to be set on a copy of a slice from a DataFrame\n",
      "\n",
      "See the caveats in the documentation: https://pandas.pydata.org/pandas-docs/stable/user_guide/indexing.html#returning-a-view-versus-a-copy\n",
      "  self.data.loc[(self.flag[dewpt_name] == 51), dewpt_name] = self.data[atmp_name]\n"
     ]
    },
    {
     "name": "stdout",
     "output_type": "stream",
     "text": [
      "wspd1\n",
      "gust1\n",
      "wdir1\n",
      "wspd2\n",
      "gust2\n",
      "wdir2\n",
      "atmp\n",
      "rh\n",
      "dewpt\n",
      "pres\n",
      "sst\n",
      "bhead\n",
      "arad\n",
      "cspd1\n",
      "cdir1\n",
      "cspd2\n",
      "cdir2\n",
      "cspd3\n",
      "cdir3\n",
      "swvht\n",
      "mxwvht\n",
      "tp\n",
      "wvdir\n",
      "spred\n"
     ]
    },
    {
     "name": "stderr",
     "output_type": "stream",
     "text": [
      "/home/remobs-dados/pnboia_qc/pnboia_qc/qc_checks.py:340: SettingWithCopyWarning: \n",
      "A value is trying to be set on a copy of a slice from a DataFrame\n",
      "\n",
      "See the caveats in the documentation: https://pandas.pydata.org/pandas-docs/stable/user_guide/indexing.html#returning-a-view-versus-a-copy\n",
      "  self.data.loc[(self.flag[wspd_name] == 0), wspd_name] = self.data[wspd_name] * (10 / height) ** 0.11\n",
      "/home/remobs-dados/pnboia_qc/pnboia_qc/qc_checks.py:342: SettingWithCopyWarning: \n",
      "A value is trying to be set on a copy of a slice from a DataFrame\n",
      "\n",
      "See the caveats in the documentation: https://pandas.pydata.org/pandas-docs/stable/user_guide/indexing.html#returning-a-view-versus-a-copy\n",
      "  self.data.loc[(self.flag[gust_name] == 0), gust_name] = self.data[gust_name] * (10 / height) ** 0.11\n",
      "/home/remobs-dados/pnboia_qc/pnboia_qc/qc_checks.py:361: SettingWithCopyWarning: \n",
      "A value is trying to be set on a copy of a slice from a DataFrame.\n",
      "Try using .loc[row_indexer,col_indexer] = value instead\n",
      "\n",
      "See the caveats in the documentation: https://pandas.pydata.org/pandas-docs/stable/user_guide/indexing.html#returning-a-view-versus-a-copy\n",
      "  self.data[\"wspd\"] = self.data[parameters[0]]\n",
      "/home/remobs-dados/pnboia_qc/pnboia_qc/qc_checks.py:362: SettingWithCopyWarning: \n",
      "A value is trying to be set on a copy of a slice from a DataFrame.\n",
      "Try using .loc[row_indexer,col_indexer] = value instead\n",
      "\n",
      "See the caveats in the documentation: https://pandas.pydata.org/pandas-docs/stable/user_guide/indexing.html#returning-a-view-versus-a-copy\n",
      "  self.data[\"wdir\"] = self.data[parameters[2]]\n",
      "/home/remobs-dados/pnboia_qc/pnboia_qc/qc_checks.py:363: SettingWithCopyWarning: \n",
      "A value is trying to be set on a copy of a slice from a DataFrame.\n",
      "Try using .loc[row_indexer,col_indexer] = value instead\n",
      "\n",
      "See the caveats in the documentation: https://pandas.pydata.org/pandas-docs/stable/user_guide/indexing.html#returning-a-view-versus-a-copy\n",
      "  self.data[\"gust\"] = self.data[parameters[4]]\n"
     ]
    },
    {
     "name": "stdout",
     "output_type": "stream",
     "text": [
      "swvht\n",
      "rh\n",
      "pres\n",
      "atmp\n",
      "wspd\n",
      "sst\n"
     ]
    },
    {
     "name": "stderr",
     "output_type": "stream",
     "text": [
      "/home/remobs-dados/pnboia_qc/pnboia_qc/qc_checks.py:509: SettingWithCopyWarning: \n",
      "A value is trying to be set on a copy of a slice from a DataFrame.\n",
      "Try using .loc[row_indexer,col_indexer] = value instead\n",
      "\n",
      "See the caveats in the documentation: https://pandas.pydata.org/pandas-docs/stable/user_guide/indexing.html#returning-a-view-versus-a-copy\n",
      "  select_value[\"pres_new\"] = select_value_2[\"pres\"]\n",
      "/home/remobs-dados/pnboia_qc/pnboia_qc/qc_checks.py:549: SettingWithCopyWarning: \n",
      "A value is trying to be set on a copy of a slice from a DataFrame.\n",
      "Try using .loc[row_indexer,col_indexer] = value instead\n",
      "\n",
      "See the caveats in the documentation: https://pandas.pydata.org/pandas-docs/stable/user_guide/indexing.html#returning-a-view-versus-a-copy\n",
      "  select_value[\"pres_new\"] = select_value_2[\"pres\"]\n"
     ]
    }
   ],
   "source": [
    "rg_filtered = filter_data(buoy_name='rg')"
   ]
  },
  {
   "cell_type": "code",
   "execution_count": 47,
   "id": "324da4b8",
   "metadata": {},
   "outputs": [
    {
     "name": "stderr",
     "output_type": "stream",
     "text": [
      "/home/remobs-dados/pnboia_qc/pnboia_qc/qc_checks.py:268: SettingWithCopyWarning: \n",
      "A value is trying to be set on a copy of a slice from a DataFrame\n",
      "\n",
      "See the caveats in the documentation: https://pandas.pydata.org/pandas-docs/stable/user_guide/indexing.html#returning-a-view-versus-a-copy\n",
      "  self.data.loc[(self.flag[dewpt_name] == 51), dewpt_name] = self.data[atmp_name]\n"
     ]
    },
    {
     "name": "stdout",
     "output_type": "stream",
     "text": [
      "wspd1\n",
      "gust1\n",
      "wdir1\n",
      "wspd2\n",
      "gust2\n",
      "wdir2\n",
      "atmp\n",
      "rh\n",
      "dewpt\n",
      "pres\n",
      "sst\n",
      "bhead\n",
      "arad\n",
      "cspd1\n",
      "cdir1\n",
      "cspd2\n",
      "cdir2\n",
      "cspd3\n",
      "cdir3\n",
      "swvht\n",
      "mxwvht\n",
      "tp\n",
      "wvdir\n",
      "spred\n"
     ]
    },
    {
     "name": "stderr",
     "output_type": "stream",
     "text": [
      "/home/remobs-dados/pnboia_qc/pnboia_qc/qc_checks.py:340: SettingWithCopyWarning: \n",
      "A value is trying to be set on a copy of a slice from a DataFrame\n",
      "\n",
      "See the caveats in the documentation: https://pandas.pydata.org/pandas-docs/stable/user_guide/indexing.html#returning-a-view-versus-a-copy\n",
      "  self.data.loc[(self.flag[wspd_name] == 0), wspd_name] = self.data[wspd_name] * (10 / height) ** 0.11\n",
      "/home/remobs-dados/pnboia_qc/pnboia_qc/qc_checks.py:342: SettingWithCopyWarning: \n",
      "A value is trying to be set on a copy of a slice from a DataFrame\n",
      "\n",
      "See the caveats in the documentation: https://pandas.pydata.org/pandas-docs/stable/user_guide/indexing.html#returning-a-view-versus-a-copy\n",
      "  self.data.loc[(self.flag[gust_name] == 0), gust_name] = self.data[gust_name] * (10 / height) ** 0.11\n",
      "/home/remobs-dados/pnboia_qc/pnboia_qc/qc_checks.py:361: SettingWithCopyWarning: \n",
      "A value is trying to be set on a copy of a slice from a DataFrame.\n",
      "Try using .loc[row_indexer,col_indexer] = value instead\n",
      "\n",
      "See the caveats in the documentation: https://pandas.pydata.org/pandas-docs/stable/user_guide/indexing.html#returning-a-view-versus-a-copy\n",
      "  self.data[\"wspd\"] = self.data[parameters[0]]\n",
      "/home/remobs-dados/pnboia_qc/pnboia_qc/qc_checks.py:362: SettingWithCopyWarning: \n",
      "A value is trying to be set on a copy of a slice from a DataFrame.\n",
      "Try using .loc[row_indexer,col_indexer] = value instead\n",
      "\n",
      "See the caveats in the documentation: https://pandas.pydata.org/pandas-docs/stable/user_guide/indexing.html#returning-a-view-versus-a-copy\n",
      "  self.data[\"wdir\"] = self.data[parameters[2]]\n",
      "/home/remobs-dados/pnboia_qc/pnboia_qc/qc_checks.py:363: SettingWithCopyWarning: \n",
      "A value is trying to be set on a copy of a slice from a DataFrame.\n",
      "Try using .loc[row_indexer,col_indexer] = value instead\n",
      "\n",
      "See the caveats in the documentation: https://pandas.pydata.org/pandas-docs/stable/user_guide/indexing.html#returning-a-view-versus-a-copy\n",
      "  self.data[\"gust\"] = self.data[parameters[4]]\n"
     ]
    },
    {
     "name": "stdout",
     "output_type": "stream",
     "text": [
      "swvht\n",
      "rh\n",
      "pres\n",
      "atmp\n",
      "wspd\n",
      "sst\n"
     ]
    },
    {
     "name": "stderr",
     "output_type": "stream",
     "text": [
      "/home/remobs-dados/pnboia_qc/pnboia_qc/qc_checks.py:509: SettingWithCopyWarning: \n",
      "A value is trying to be set on a copy of a slice from a DataFrame.\n",
      "Try using .loc[row_indexer,col_indexer] = value instead\n",
      "\n",
      "See the caveats in the documentation: https://pandas.pydata.org/pandas-docs/stable/user_guide/indexing.html#returning-a-view-versus-a-copy\n",
      "  select_value[\"pres_new\"] = select_value_2[\"pres\"]\n"
     ]
    }
   ],
   "source": [
    "sa_filtered = filter_data(buoy_name='sa')"
   ]
  },
  {
   "cell_type": "code",
   "execution_count": 48,
   "id": "1fa989b4",
   "metadata": {},
   "outputs": [
    {
     "name": "stderr",
     "output_type": "stream",
     "text": [
      "/home/remobs-dados/pnboia_qc/pnboia_qc/qc_checks.py:268: SettingWithCopyWarning: \n",
      "A value is trying to be set on a copy of a slice from a DataFrame\n",
      "\n",
      "See the caveats in the documentation: https://pandas.pydata.org/pandas-docs/stable/user_guide/indexing.html#returning-a-view-versus-a-copy\n",
      "  self.data.loc[(self.flag[dewpt_name] == 51), dewpt_name] = self.data[atmp_name]\n"
     ]
    },
    {
     "name": "stdout",
     "output_type": "stream",
     "text": [
      "wspd1\n",
      "gust1\n",
      "wdir1\n",
      "wspd2\n",
      "gust2\n",
      "wdir2\n",
      "atmp\n",
      "rh\n",
      "dewpt\n",
      "pres\n",
      "sst\n",
      "bhead\n",
      "arad\n",
      "cspd1\n",
      "cdir1\n",
      "cspd2\n",
      "cdir2\n",
      "cspd3\n",
      "cdir3\n",
      "swvht\n",
      "mxwvht\n",
      "tp\n",
      "wvdir\n",
      "spred\n"
     ]
    },
    {
     "name": "stderr",
     "output_type": "stream",
     "text": [
      "/home/remobs-dados/pnboia_qc/pnboia_qc/qc_checks.py:340: SettingWithCopyWarning: \n",
      "A value is trying to be set on a copy of a slice from a DataFrame\n",
      "\n",
      "See the caveats in the documentation: https://pandas.pydata.org/pandas-docs/stable/user_guide/indexing.html#returning-a-view-versus-a-copy\n",
      "  self.data.loc[(self.flag[wspd_name] == 0), wspd_name] = self.data[wspd_name] * (10 / height) ** 0.11\n",
      "/home/remobs-dados/pnboia_qc/pnboia_qc/qc_checks.py:342: SettingWithCopyWarning: \n",
      "A value is trying to be set on a copy of a slice from a DataFrame\n",
      "\n",
      "See the caveats in the documentation: https://pandas.pydata.org/pandas-docs/stable/user_guide/indexing.html#returning-a-view-versus-a-copy\n",
      "  self.data.loc[(self.flag[gust_name] == 0), gust_name] = self.data[gust_name] * (10 / height) ** 0.11\n",
      "/home/remobs-dados/pnboia_qc/pnboia_qc/qc_checks.py:361: SettingWithCopyWarning: \n",
      "A value is trying to be set on a copy of a slice from a DataFrame.\n",
      "Try using .loc[row_indexer,col_indexer] = value instead\n",
      "\n",
      "See the caveats in the documentation: https://pandas.pydata.org/pandas-docs/stable/user_guide/indexing.html#returning-a-view-versus-a-copy\n",
      "  self.data[\"wspd\"] = self.data[parameters[0]]\n",
      "/home/remobs-dados/pnboia_qc/pnboia_qc/qc_checks.py:362: SettingWithCopyWarning: \n",
      "A value is trying to be set on a copy of a slice from a DataFrame.\n",
      "Try using .loc[row_indexer,col_indexer] = value instead\n",
      "\n",
      "See the caveats in the documentation: https://pandas.pydata.org/pandas-docs/stable/user_guide/indexing.html#returning-a-view-versus-a-copy\n",
      "  self.data[\"wdir\"] = self.data[parameters[2]]\n",
      "/home/remobs-dados/pnboia_qc/pnboia_qc/qc_checks.py:363: SettingWithCopyWarning: \n",
      "A value is trying to be set on a copy of a slice from a DataFrame.\n",
      "Try using .loc[row_indexer,col_indexer] = value instead\n",
      "\n",
      "See the caveats in the documentation: https://pandas.pydata.org/pandas-docs/stable/user_guide/indexing.html#returning-a-view-versus-a-copy\n",
      "  self.data[\"gust\"] = self.data[parameters[4]]\n"
     ]
    },
    {
     "name": "stdout",
     "output_type": "stream",
     "text": [
      "swvht\n",
      "rh\n",
      "pres\n",
      "atmp\n",
      "wspd\n",
      "sst\n"
     ]
    },
    {
     "name": "stderr",
     "output_type": "stream",
     "text": [
      "/home/remobs-dados/pnboia_qc/pnboia_qc/qc_checks.py:509: SettingWithCopyWarning: \n",
      "A value is trying to be set on a copy of a slice from a DataFrame.\n",
      "Try using .loc[row_indexer,col_indexer] = value instead\n",
      "\n",
      "See the caveats in the documentation: https://pandas.pydata.org/pandas-docs/stable/user_guide/indexing.html#returning-a-view-versus-a-copy\n",
      "  select_value[\"pres_new\"] = select_value_2[\"pres\"]\n",
      "/home/remobs-dados/pnboia_qc/pnboia_qc/qc_checks.py:549: SettingWithCopyWarning: \n",
      "A value is trying to be set on a copy of a slice from a DataFrame.\n",
      "Try using .loc[row_indexer,col_indexer] = value instead\n",
      "\n",
      "See the caveats in the documentation: https://pandas.pydata.org/pandas-docs/stable/user_guide/indexing.html#returning-a-view-versus-a-copy\n",
      "  select_value[\"pres_new\"] = select_value_2[\"pres\"]\n"
     ]
    }
   ],
   "source": [
    "cf2_filtered = filter_data(buoy_name='cf2')"
   ]
  },
  {
   "cell_type": "code",
   "execution_count": null,
   "id": "08d8eb36",
   "metadata": {},
   "outputs": [],
   "source": []
  },
  {
   "cell_type": "code",
   "execution_count": null,
   "id": "b3719fc0",
   "metadata": {},
   "outputs": [],
   "source": []
  },
  {
   "cell_type": "code",
   "execution_count": null,
   "id": "027cfc39",
   "metadata": {},
   "outputs": [],
   "source": []
  },
  {
   "cell_type": "markdown",
   "id": "c2e72005",
   "metadata": {},
   "source": [
    "## 1. Boia Cabofrio"
   ]
  },
  {
   "cell_type": "code",
   "execution_count": 7,
   "id": "8621ab23",
   "metadata": {},
   "outputs": [],
   "source": [
    "buoy = 'cf'\n",
    "buoy_df = buoys_df.loc[buoy]\n",
    "variables = buoy_df.columns.to_list()\n",
    "\n",
    "qc_cf = QCChecks(data=buoy_df,\n",
    "        variables=variables,\n",
    "        mis_values=mis_values,\n",
    "        limits=limits,\n",
    "        climate_limits=climate_limits,\n",
    "        stuck_limit=stuck_limits,\n",
    "        sigma_values=sigma_values,\n",
    "        continuity_limit=continuity_limit,\n",
    "        height=height\n",
    "        )"
   ]
  },
  {
   "cell_type": "markdown",
   "id": "d4a73e44",
   "metadata": {},
   "source": [
    "### All tests"
   ]
  },
  {
   "cell_type": "code",
   "execution_count": 8,
   "id": "a0f68623",
   "metadata": {},
   "outputs": [
    {
     "name": "stderr",
     "output_type": "stream",
     "text": [
      "/home/remobs-dados/pnboia_qc/pnboia_qc/qc_checks.py:268: SettingWithCopyWarning: \n",
      "A value is trying to be set on a copy of a slice from a DataFrame\n",
      "\n",
      "See the caveats in the documentation: https://pandas.pydata.org/pandas-docs/stable/user_guide/indexing.html#returning-a-view-versus-a-copy\n",
      "  self.data.loc[(self.flag[dewpt_name] == 51), dewpt_name] = self.data[atmp_name]\n"
     ]
    },
    {
     "name": "stdout",
     "output_type": "stream",
     "text": [
      "wspd1\n",
      "gust1\n",
      "wdir1\n",
      "wspd2\n",
      "gust2\n",
      "wdir2\n",
      "atmp\n",
      "rh\n",
      "dewpt\n",
      "pres\n",
      "sst\n",
      "bhead\n",
      "arad\n",
      "cspd1\n",
      "cdir1\n",
      "cspd2\n",
      "cdir2\n",
      "cspd3\n",
      "cdir3\n",
      "swvht\n",
      "mxwvht\n",
      "tp\n",
      "wvdir\n",
      "spred\n"
     ]
    },
    {
     "name": "stderr",
     "output_type": "stream",
     "text": [
      "/home/remobs-dados/pnboia_qc/pnboia_qc/qc_checks.py:340: SettingWithCopyWarning: \n",
      "A value is trying to be set on a copy of a slice from a DataFrame\n",
      "\n",
      "See the caveats in the documentation: https://pandas.pydata.org/pandas-docs/stable/user_guide/indexing.html#returning-a-view-versus-a-copy\n",
      "  self.data.loc[(self.flag[wspd_name] == 0), wspd_name] = self.data[wspd_name] * (10 / height) ** 0.11\n",
      "/home/remobs-dados/pnboia_qc/pnboia_qc/qc_checks.py:342: SettingWithCopyWarning: \n",
      "A value is trying to be set on a copy of a slice from a DataFrame\n",
      "\n",
      "See the caveats in the documentation: https://pandas.pydata.org/pandas-docs/stable/user_guide/indexing.html#returning-a-view-versus-a-copy\n",
      "  self.data.loc[(self.flag[gust_name] == 0), gust_name] = self.data[gust_name] * (10 / height) ** 0.11\n",
      "/home/remobs-dados/pnboia_qc/pnboia_qc/qc_checks.py:361: SettingWithCopyWarning: \n",
      "A value is trying to be set on a copy of a slice from a DataFrame.\n",
      "Try using .loc[row_indexer,col_indexer] = value instead\n",
      "\n",
      "See the caveats in the documentation: https://pandas.pydata.org/pandas-docs/stable/user_guide/indexing.html#returning-a-view-versus-a-copy\n",
      "  self.data[\"wspd\"] = self.data[parameters[0]]\n",
      "/home/remobs-dados/pnboia_qc/pnboia_qc/qc_checks.py:362: SettingWithCopyWarning: \n",
      "A value is trying to be set on a copy of a slice from a DataFrame.\n",
      "Try using .loc[row_indexer,col_indexer] = value instead\n",
      "\n",
      "See the caveats in the documentation: https://pandas.pydata.org/pandas-docs/stable/user_guide/indexing.html#returning-a-view-versus-a-copy\n",
      "  self.data[\"wdir\"] = self.data[parameters[2]]\n",
      "/home/remobs-dados/pnboia_qc/pnboia_qc/qc_checks.py:363: SettingWithCopyWarning: \n",
      "A value is trying to be set on a copy of a slice from a DataFrame.\n",
      "Try using .loc[row_indexer,col_indexer] = value instead\n",
      "\n",
      "See the caveats in the documentation: https://pandas.pydata.org/pandas-docs/stable/user_guide/indexing.html#returning-a-view-versus-a-copy\n",
      "  self.data[\"gust\"] = self.data[parameters[4]]\n"
     ]
    },
    {
     "name": "stdout",
     "output_type": "stream",
     "text": [
      "swvht\n",
      "rh\n",
      "pres\n",
      "atmp\n",
      "wspd\n",
      "sst\n"
     ]
    },
    {
     "name": "stderr",
     "output_type": "stream",
     "text": [
      "/home/remobs-dados/pnboia_qc/pnboia_qc/qc_checks.py:509: SettingWithCopyWarning: \n",
      "A value is trying to be set on a copy of a slice from a DataFrame.\n",
      "Try using .loc[row_indexer,col_indexer] = value instead\n",
      "\n",
      "See the caveats in the documentation: https://pandas.pydata.org/pandas-docs/stable/user_guide/indexing.html#returning-a-view-versus-a-copy\n",
      "  select_value[\"pres_new\"] = select_value_2[\"pres\"]\n"
     ]
    },
    {
     "ename": "AttributeError",
     "evalue": "'QCChecks' object has no attribute 'frbont_except_check6'",
     "output_type": "error",
     "traceback": [
      "\u001b[0;31m---------------------------------------------------------------------------\u001b[0m",
      "\u001b[0;31mAttributeError\u001b[0m                            Traceback (most recent call last)",
      "\u001b[1;32m/home/remobs-dados/pnboia_qc/notebooks/test_qc_checks_v2.ipynb Cell 13'\u001b[0m in \u001b[0;36m<cell line: 49>\u001b[0;34m()\u001b[0m\n\u001b[1;32m     <a href='vscode-notebook-cell:/home/remobs-dados/pnboia_qc/notebooks/test_qc_checks_v2.ipynb#ch0000012?line=46'>47</a>\u001b[0m qc_cf\u001b[39m.\u001b[39mfront_except_check4(pres_name\u001b[39m=\u001b[39m\u001b[39m'\u001b[39m\u001b[39mpres\u001b[39m\u001b[39m'\u001b[39m, wspd_name\u001b[39m=\u001b[39m\u001b[39m'\u001b[39m\u001b[39mwspd\u001b[39m\u001b[39m'\u001b[39m)\n\u001b[1;32m     <a href='vscode-notebook-cell:/home/remobs-dados/pnboia_qc/notebooks/test_qc_checks_v2.ipynb#ch0000012?line=47'>48</a>\u001b[0m qc_cf\u001b[39m.\u001b[39mfront_except_check5(pres_name\u001b[39m=\u001b[39m\u001b[39m'\u001b[39m\u001b[39mpres\u001b[39m\u001b[39m'\u001b[39m)\n\u001b[0;32m---> <a href='vscode-notebook-cell:/home/remobs-dados/pnboia_qc/notebooks/test_qc_checks_v2.ipynb#ch0000012?line=48'>49</a>\u001b[0m qc_cf\u001b[39m.\u001b[39;49mfrbont_except_check6(wspd_name\u001b[39m=\u001b[39m\u001b[39m'\u001b[39m\u001b[39mwspd\u001b[39m\u001b[39m'\u001b[39m, swvht_name\u001b[39m=\u001b[39m\u001b[39m'\u001b[39m\u001b[39mswvht\u001b[39m\u001b[39m'\u001b[39m)\n",
      "\u001b[0;31mAttributeError\u001b[0m: 'QCChecks' object has no attribute 'frbont_except_check6'"
     ]
    }
   ],
   "source": [
    "# Missvalue test\n",
    "for parameter in mis_values.keys():\n",
    "    qc_cf.mis_value_check(parameter=parameter)\n",
    "\n",
    "# Range test\n",
    "for parameter in limits.keys():\n",
    "    qc_cf.range_check(parameter=parameter)\n",
    "\n",
    "# Climate range test\n",
    "for parameter in climate_limits.keys():\n",
    "    qc_cf.range_check_climate(parameter=parameter)\n",
    "\n",
    "# Comparison between swvht and mxwvht\n",
    "qc_cf.swvht_mxwvht_check(swvht_name = 'swvht', mxwvht_name = 'mxwvht')\n",
    "\n",
    "# Comparison of wind speed and gust\n",
    "qc_cf.wind_speed_gust_check(wspd_name='wspd1', gust_name='gust1')\n",
    "qc_cf.wind_speed_gust_check(wspd_name='wspd2', gust_name='gust2')\n",
    "\n",
    "# Comparison of Dewpt and Atmp\n",
    "qc_cf.dewpt_atmp_check(dewpt_name='dewpt', atmp_name='atmp')\n",
    "\n",
    "# Comparison of battery and pressure\n",
    "qc_cf.bat_sensor_check(battery_name='battery', pres_name='pres')\n",
    "\n",
    "# Stuck sensor test\n",
    "for parameter in variables:\n",
    "    if parameter != 'battery':\n",
    "        print(parameter)\n",
    "        qc_cf.stuck_sensor_check(parameter=parameter)\n",
    "\n",
    "# Convert wind to 10 meters\n",
    "qc_cf.convert_10_meters(wspd_name='wspd1', gust_name='gust1')\n",
    "qc_cf.convert_10_meters(wspd_name='wspd2', gust_name='gust2')\n",
    "\n",
    "# Select the best anemometer\n",
    "qc_cf.related_meas_check(parameters=['wspd1', 'wspd2', 'wdir1', 'wdir2', 'gust1', 'gust2'])\n",
    "\n",
    "# Time continuity test\n",
    "for parameter in sigma_values.keys():\n",
    "    print(parameter)\n",
    "    qc_cf.t_continuity_check(parameter=parameter)\n",
    "\n",
    "# Front exception tests\n",
    "qc_cf.front_except_check1(wdir_name='wdir', atmp_name='atmp')\n",
    "qc_cf.front_except_check3(wspd_name='wspd', atmp_name='atmp')\n",
    "qc_cf.front_except_check4(pres_name='pres', wspd_name='wspd')\n",
    "qc_cf.front_except_check5(pres_name='pres')\n",
    "qc_cf.front_except_check6(wspd_name='wspd', swvht_name='swvht')"
   ]
  },
  {
   "cell_type": "code",
   "execution_count": 11,
   "id": "537fbd18",
   "metadata": {},
   "outputs": [
    {
     "data": {
      "text/html": [
       "<div>\n",
       "<style scoped>\n",
       "    .dataframe tbody tr th:only-of-type {\n",
       "        vertical-align: middle;\n",
       "    }\n",
       "\n",
       "    .dataframe tbody tr th {\n",
       "        vertical-align: top;\n",
       "    }\n",
       "\n",
       "    .dataframe thead th {\n",
       "        text-align: right;\n",
       "    }\n",
       "</style>\n",
       "<table border=\"1\" class=\"dataframe\">\n",
       "  <thead>\n",
       "    <tr style=\"text-align: right;\">\n",
       "      <th></th>\n",
       "      <th>battery</th>\n",
       "      <th>wspd1</th>\n",
       "      <th>gust1</th>\n",
       "      <th>wdir1</th>\n",
       "      <th>wspd2</th>\n",
       "      <th>gust2</th>\n",
       "      <th>wdir2</th>\n",
       "      <th>atmp</th>\n",
       "      <th>rh</th>\n",
       "      <th>dewpt</th>\n",
       "      <th>...</th>\n",
       "      <th>cspd3</th>\n",
       "      <th>cdir3</th>\n",
       "      <th>swvht</th>\n",
       "      <th>mxwvht</th>\n",
       "      <th>tp</th>\n",
       "      <th>wvdir</th>\n",
       "      <th>spred</th>\n",
       "      <th>wspd</th>\n",
       "      <th>wdir</th>\n",
       "      <th>gust</th>\n",
       "    </tr>\n",
       "    <tr>\n",
       "      <th>Datetime</th>\n",
       "      <th></th>\n",
       "      <th></th>\n",
       "      <th></th>\n",
       "      <th></th>\n",
       "      <th></th>\n",
       "      <th></th>\n",
       "      <th></th>\n",
       "      <th></th>\n",
       "      <th></th>\n",
       "      <th></th>\n",
       "      <th></th>\n",
       "      <th></th>\n",
       "      <th></th>\n",
       "      <th></th>\n",
       "      <th></th>\n",
       "      <th></th>\n",
       "      <th></th>\n",
       "      <th></th>\n",
       "      <th></th>\n",
       "      <th></th>\n",
       "      <th></th>\n",
       "    </tr>\n",
       "  </thead>\n",
       "  <tbody>\n",
       "    <tr>\n",
       "      <th>2009-06-24 15:00:00</th>\n",
       "      <td>0</td>\n",
       "      <td>0</td>\n",
       "      <td>0</td>\n",
       "      <td>0</td>\n",
       "      <td>0</td>\n",
       "      <td>0</td>\n",
       "      <td>0</td>\n",
       "      <td>0</td>\n",
       "      <td>0</td>\n",
       "      <td>0</td>\n",
       "      <td>...</td>\n",
       "      <td>0</td>\n",
       "      <td>0</td>\n",
       "      <td>0</td>\n",
       "      <td>0</td>\n",
       "      <td>0</td>\n",
       "      <td>0</td>\n",
       "      <td>0</td>\n",
       "      <td>0</td>\n",
       "      <td>0</td>\n",
       "      <td>0</td>\n",
       "    </tr>\n",
       "    <tr>\n",
       "      <th>2009-06-24 16:00:00</th>\n",
       "      <td>0</td>\n",
       "      <td>0</td>\n",
       "      <td>0</td>\n",
       "      <td>0</td>\n",
       "      <td>0</td>\n",
       "      <td>0</td>\n",
       "      <td>0</td>\n",
       "      <td>0</td>\n",
       "      <td>0</td>\n",
       "      <td>0</td>\n",
       "      <td>...</td>\n",
       "      <td>0</td>\n",
       "      <td>0</td>\n",
       "      <td>0</td>\n",
       "      <td>0</td>\n",
       "      <td>0</td>\n",
       "      <td>0</td>\n",
       "      <td>0</td>\n",
       "      <td>0</td>\n",
       "      <td>0</td>\n",
       "      <td>0</td>\n",
       "    </tr>\n",
       "    <tr>\n",
       "      <th>2009-06-24 17:00:00</th>\n",
       "      <td>0</td>\n",
       "      <td>0</td>\n",
       "      <td>0</td>\n",
       "      <td>0</td>\n",
       "      <td>0</td>\n",
       "      <td>0</td>\n",
       "      <td>0</td>\n",
       "      <td>0</td>\n",
       "      <td>0</td>\n",
       "      <td>0</td>\n",
       "      <td>...</td>\n",
       "      <td>0</td>\n",
       "      <td>0</td>\n",
       "      <td>0</td>\n",
       "      <td>0</td>\n",
       "      <td>0</td>\n",
       "      <td>0</td>\n",
       "      <td>0</td>\n",
       "      <td>0</td>\n",
       "      <td>0</td>\n",
       "      <td>0</td>\n",
       "    </tr>\n",
       "    <tr>\n",
       "      <th>2009-06-24 18:00:00</th>\n",
       "      <td>0</td>\n",
       "      <td>0</td>\n",
       "      <td>0</td>\n",
       "      <td>0</td>\n",
       "      <td>0</td>\n",
       "      <td>0</td>\n",
       "      <td>0</td>\n",
       "      <td>0</td>\n",
       "      <td>0</td>\n",
       "      <td>0</td>\n",
       "      <td>...</td>\n",
       "      <td>0</td>\n",
       "      <td>0</td>\n",
       "      <td>0</td>\n",
       "      <td>0</td>\n",
       "      <td>0</td>\n",
       "      <td>0</td>\n",
       "      <td>0</td>\n",
       "      <td>0</td>\n",
       "      <td>0</td>\n",
       "      <td>0</td>\n",
       "    </tr>\n",
       "    <tr>\n",
       "      <th>2009-06-24 19:00:00</th>\n",
       "      <td>0</td>\n",
       "      <td>0</td>\n",
       "      <td>0</td>\n",
       "      <td>0</td>\n",
       "      <td>0</td>\n",
       "      <td>0</td>\n",
       "      <td>0</td>\n",
       "      <td>0</td>\n",
       "      <td>8</td>\n",
       "      <td>0</td>\n",
       "      <td>...</td>\n",
       "      <td>0</td>\n",
       "      <td>0</td>\n",
       "      <td>0</td>\n",
       "      <td>0</td>\n",
       "      <td>0</td>\n",
       "      <td>0</td>\n",
       "      <td>0</td>\n",
       "      <td>0</td>\n",
       "      <td>0</td>\n",
       "      <td>0</td>\n",
       "    </tr>\n",
       "  </tbody>\n",
       "</table>\n",
       "<p>5 rows × 28 columns</p>\n",
       "</div>"
      ],
      "text/plain": [
       "                     battery  wspd1  gust1  wdir1  wspd2  gust2  wdir2  atmp  \\\n",
       "Datetime                                                                       \n",
       "2009-06-24 15:00:00        0      0      0      0      0      0      0     0   \n",
       "2009-06-24 16:00:00        0      0      0      0      0      0      0     0   \n",
       "2009-06-24 17:00:00        0      0      0      0      0      0      0     0   \n",
       "2009-06-24 18:00:00        0      0      0      0      0      0      0     0   \n",
       "2009-06-24 19:00:00        0      0      0      0      0      0      0     0   \n",
       "\n",
       "                     rh  dewpt  ...  cspd3  cdir3  swvht  mxwvht  tp  wvdir  \\\n",
       "Datetime                        ...                                           \n",
       "2009-06-24 15:00:00   0      0  ...      0      0      0       0   0      0   \n",
       "2009-06-24 16:00:00   0      0  ...      0      0      0       0   0      0   \n",
       "2009-06-24 17:00:00   0      0  ...      0      0      0       0   0      0   \n",
       "2009-06-24 18:00:00   0      0  ...      0      0      0       0   0      0   \n",
       "2009-06-24 19:00:00   8      0  ...      0      0      0       0   0      0   \n",
       "\n",
       "                     spred  wspd  wdir  gust  \n",
       "Datetime                                      \n",
       "2009-06-24 15:00:00      0     0     0     0  \n",
       "2009-06-24 16:00:00      0     0     0     0  \n",
       "2009-06-24 17:00:00      0     0     0     0  \n",
       "2009-06-24 18:00:00      0     0     0     0  \n",
       "2009-06-24 19:00:00      0     0     0     0  \n",
       "\n",
       "[5 rows x 28 columns]"
      ]
     },
     "execution_count": 11,
     "metadata": {},
     "output_type": "execute_result"
    }
   ],
   "source": [
    "qc_cf.flag.head()"
   ]
  },
  {
   "cell_type": "code",
   "execution_count": 16,
   "id": "442c6f20",
   "metadata": {},
   "outputs": [],
   "source": [
    "def filter_data(qc_object):\n",
    "    filtered_bad_data = pd.DataFrame(index=qc_object.data.index,columns=qc_object.data.columns)\n",
    "    bool_array_2 = np.logical_and(qc_object.flag>0, qc_object.flag<100)\n",
    "    filtered_bad_data = qc_object.data[~bool_array_2]\n",
    "\n",
    "    return filtered_bad_data\n"
   ]
  },
  {
   "cell_type": "code",
   "execution_count": 19,
   "id": "64cbad8e",
   "metadata": {},
   "outputs": [],
   "source": [
    "cf_filtered = filter_data(qc_cf)\n",
    "cf_filtered.to_csv('cf_filtered.csv')"
   ]
  },
  {
   "cell_type": "markdown",
   "id": "d3437ac6",
   "metadata": {},
   "source": [
    "## 6. Boia Niteroi"
   ]
  },
  {
   "cell_type": "code",
   "execution_count": 12,
   "id": "8621ab23",
   "metadata": {},
   "outputs": [],
   "source": [
    "buoy = 'ni'\n",
    "buoy_df = buoys_df.loc[buoy]\n",
    "variables = buoy_df.columns.to_list()\n",
    "\n",
    "qc_ni = QCChecks(data=buoy_df,\n",
    "        variables=variables,\n",
    "        mis_values=mis_values,\n",
    "        limits=limits,\n",
    "        climate_limits=climate_limits,\n",
    "        stuck_limit=stuck_limits,\n",
    "        sigma_values=sigma_values,\n",
    "        continuity_limit=continuity_limit,\n",
    "        height=height\n",
    "        )"
   ]
  },
  {
   "cell_type": "markdown",
   "id": "d4a73e44",
   "metadata": {},
   "source": [
    "### All tests"
   ]
  },
  {
   "cell_type": "code",
   "execution_count": 13,
   "id": "a0f68623",
   "metadata": {},
   "outputs": [
    {
     "name": "stderr",
     "output_type": "stream",
     "text": [
      "/home/remobs-dados/pnboia_qc/pnboia_qc/qc_checks.py:268: SettingWithCopyWarning: \n",
      "A value is trying to be set on a copy of a slice from a DataFrame\n",
      "\n",
      "See the caveats in the documentation: https://pandas.pydata.org/pandas-docs/stable/user_guide/indexing.html#returning-a-view-versus-a-copy\n",
      "  self.data.loc[(self.flag[dewpt_name] == 51), dewpt_name] = self.data[atmp_name]\n"
     ]
    },
    {
     "name": "stdout",
     "output_type": "stream",
     "text": [
      "wspd1\n",
      "gust1\n",
      "wdir1\n",
      "wspd2\n",
      "gust2\n",
      "wdir2\n",
      "atmp\n",
      "rh\n",
      "dewpt\n",
      "pres\n",
      "sst\n",
      "bhead\n",
      "arad\n",
      "cspd1\n",
      "cdir1\n",
      "cspd2\n",
      "cdir2\n",
      "cspd3\n",
      "cdir3\n",
      "swvht\n",
      "mxwvht\n",
      "tp\n",
      "wvdir\n",
      "spred\n"
     ]
    },
    {
     "name": "stderr",
     "output_type": "stream",
     "text": [
      "/home/remobs-dados/pnboia_qc/pnboia_qc/qc_checks.py:340: SettingWithCopyWarning: \n",
      "A value is trying to be set on a copy of a slice from a DataFrame\n",
      "\n",
      "See the caveats in the documentation: https://pandas.pydata.org/pandas-docs/stable/user_guide/indexing.html#returning-a-view-versus-a-copy\n",
      "  self.data.loc[(self.flag[wspd_name] == 0), wspd_name] = self.data[wspd_name] * (10 / height) ** 0.11\n",
      "/home/remobs-dados/pnboia_qc/pnboia_qc/qc_checks.py:342: SettingWithCopyWarning: \n",
      "A value is trying to be set on a copy of a slice from a DataFrame\n",
      "\n",
      "See the caveats in the documentation: https://pandas.pydata.org/pandas-docs/stable/user_guide/indexing.html#returning-a-view-versus-a-copy\n",
      "  self.data.loc[(self.flag[gust_name] == 0), gust_name] = self.data[gust_name] * (10 / height) ** 0.11\n",
      "/home/remobs-dados/pnboia_qc/pnboia_qc/qc_checks.py:361: SettingWithCopyWarning: \n",
      "A value is trying to be set on a copy of a slice from a DataFrame.\n",
      "Try using .loc[row_indexer,col_indexer] = value instead\n",
      "\n",
      "See the caveats in the documentation: https://pandas.pydata.org/pandas-docs/stable/user_guide/indexing.html#returning-a-view-versus-a-copy\n",
      "  self.data[\"wspd\"] = self.data[parameters[0]]\n",
      "/home/remobs-dados/pnboia_qc/pnboia_qc/qc_checks.py:362: SettingWithCopyWarning: \n",
      "A value is trying to be set on a copy of a slice from a DataFrame.\n",
      "Try using .loc[row_indexer,col_indexer] = value instead\n",
      "\n",
      "See the caveats in the documentation: https://pandas.pydata.org/pandas-docs/stable/user_guide/indexing.html#returning-a-view-versus-a-copy\n",
      "  self.data[\"wdir\"] = self.data[parameters[2]]\n",
      "/home/remobs-dados/pnboia_qc/pnboia_qc/qc_checks.py:363: SettingWithCopyWarning: \n",
      "A value is trying to be set on a copy of a slice from a DataFrame.\n",
      "Try using .loc[row_indexer,col_indexer] = value instead\n",
      "\n",
      "See the caveats in the documentation: https://pandas.pydata.org/pandas-docs/stable/user_guide/indexing.html#returning-a-view-versus-a-copy\n",
      "  self.data[\"gust\"] = self.data[parameters[4]]\n"
     ]
    },
    {
     "name": "stdout",
     "output_type": "stream",
     "text": [
      "swvht\n",
      "rh\n",
      "pres\n",
      "atmp\n",
      "wspd\n",
      "sst\n"
     ]
    },
    {
     "name": "stderr",
     "output_type": "stream",
     "text": [
      "/home/remobs-dados/pnboia_qc/pnboia_qc/qc_checks.py:509: SettingWithCopyWarning: \n",
      "A value is trying to be set on a copy of a slice from a DataFrame.\n",
      "Try using .loc[row_indexer,col_indexer] = value instead\n",
      "\n",
      "See the caveats in the documentation: https://pandas.pydata.org/pandas-docs/stable/user_guide/indexing.html#returning-a-view-versus-a-copy\n",
      "  select_value[\"pres_new\"] = select_value_2[\"pres\"]\n",
      "/home/remobs-dados/pnboia_qc/pnboia_qc/qc_checks.py:549: SettingWithCopyWarning: \n",
      "A value is trying to be set on a copy of a slice from a DataFrame.\n",
      "Try using .loc[row_indexer,col_indexer] = value instead\n",
      "\n",
      "See the caveats in the documentation: https://pandas.pydata.org/pandas-docs/stable/user_guide/indexing.html#returning-a-view-versus-a-copy\n",
      "  select_value[\"pres_new\"] = select_value_2[\"pres\"]\n"
     ]
    }
   ],
   "source": [
    "# Missvalue test\n",
    "for parameter in mis_values.keys():\n",
    "    qc_ni.mis_value_check(parameter=parameter)\n",
    "\n",
    "# Range test\n",
    "for parameter in limits.keys():\n",
    "    qc_ni.range_check(parameter=parameter)\n",
    "\n",
    "# Climate range test\n",
    "for parameter in climate_limits.keys():\n",
    "    qc_ni.range_check_climate(parameter=parameter)\n",
    "\n",
    "# Comparison between swvht and mxwvht\n",
    "qc_ni.swvht_mxwvht_check(swvht_name = 'swvht', mxwvht_name = 'mxwvht')\n",
    "\n",
    "# Comparison of wind speed and gust\n",
    "qc_ni.wind_speed_gust_check(wspd_name='wspd1', gust_name='gust1')\n",
    "qc_ni.wind_speed_gust_check(wspd_name='wspd2', gust_name='gust2')\n",
    "\n",
    "# Comparison of Dewpt and Atmp\n",
    "qc_ni.dewpt_atmp_check(dewpt_name='dewpt', atmp_name='atmp')\n",
    "\n",
    "# Comparison of battery and pressure\n",
    "qc_ni.bat_sensor_check(battery_name='battery', pres_name='pres')\n",
    "\n",
    "# Stuck sensor test\n",
    "for parameter in variables:\n",
    "    if parameter != 'battery':\n",
    "        print(parameter)\n",
    "        qc_ni.stuck_sensor_check(parameter=parameter)\n",
    "\n",
    "# Convert wind to 10 meters\n",
    "qc_ni.convert_10_meters(wspd_name='wspd1', gust_name='gust1')\n",
    "qc_ni.convert_10_meters(wspd_name='wspd2', gust_name='gust2')\n",
    "\n",
    "# Select the best anemometer\n",
    "qc_ni.related_meas_check(parameters=['wspd1', 'wspd2', 'wdir1', 'wdir2', 'gust1', 'gust2'])\n",
    "\n",
    "# Time continuity test\n",
    "for parameter in sigma_values.keys():\n",
    "    print(parameter)\n",
    "    qc_ni.t_continuity_check(parameter=parameter)\n",
    "\n",
    "# Front exception tests\n",
    "qc_ni.front_except_check1(wdir_name='wdir', atmp_name='atmp')\n",
    "qc_ni.front_except_check3(wspd_name='wspd', atmp_name='atmp')\n",
    "qc_ni.front_except_check4(pres_name='pres', wspd_name='wspd')\n",
    "qc_ni.front_except_check5(pres_name='pres')\n",
    "qc_ni.front_except_check6(wspd_name='wspd', swvht_name='swvht')"
   ]
  },
  {
   "cell_type": "code",
   "execution_count": 21,
   "id": "64cbad8e",
   "metadata": {},
   "outputs": [],
   "source": [
    "ni_filtered = filter_data(qc_ni)\n",
    "ni_filtered.to_csv('ni_filtered.csv')"
   ]
  },
  {
   "cell_type": "markdown",
   "id": "d3437ac6",
   "metadata": {},
   "source": [
    "## 10. Boia Fortaleza"
   ]
  },
  {
   "cell_type": "code",
   "execution_count": 14,
   "id": "8621ab23",
   "metadata": {},
   "outputs": [],
   "source": [
    "buoy = 'fo'\n",
    "buoy_df = buoys_df.loc[buoy]\n",
    "variables = buoy_df.columns.to_list()\n",
    "\n",
    "qc_fo = QCChecks(data=buoy_df,\n",
    "        variables=variables,\n",
    "        mis_values=mis_values,\n",
    "        limits=limits,\n",
    "        climate_limits=climate_limits,\n",
    "        stuck_limit=stuck_limits,\n",
    "        sigma_values=sigma_values,\n",
    "        continuity_limit=continuity_limit,\n",
    "        height=height\n",
    "        )"
   ]
  },
  {
   "cell_type": "markdown",
   "id": "d4a73e44",
   "metadata": {},
   "source": [
    "### All tests"
   ]
  },
  {
   "cell_type": "code",
   "execution_count": 15,
   "id": "a0f68623",
   "metadata": {},
   "outputs": [
    {
     "name": "stderr",
     "output_type": "stream",
     "text": [
      "/home/remobs-dados/pnboia_qc/pnboia_qc/qc_checks.py:268: SettingWithCopyWarning: \n",
      "A value is trying to be set on a copy of a slice from a DataFrame\n",
      "\n",
      "See the caveats in the documentation: https://pandas.pydata.org/pandas-docs/stable/user_guide/indexing.html#returning-a-view-versus-a-copy\n",
      "  self.data.loc[(self.flag[dewpt_name] == 51), dewpt_name] = self.data[atmp_name]\n"
     ]
    },
    {
     "name": "stdout",
     "output_type": "stream",
     "text": [
      "wspd1\n",
      "gust1\n",
      "wdir1\n",
      "wspd2\n",
      "gust2\n",
      "wdir2\n",
      "atmp\n",
      "rh\n",
      "dewpt\n",
      "pres\n",
      "sst\n",
      "bhead\n",
      "arad\n",
      "cspd1\n",
      "cdir1\n",
      "cspd2\n",
      "cdir2\n",
      "cspd3\n",
      "cdir3\n",
      "swvht\n",
      "mxwvht\n",
      "tp\n",
      "wvdir\n",
      "spred\n"
     ]
    },
    {
     "name": "stderr",
     "output_type": "stream",
     "text": [
      "/home/remobs-dados/pnboia_qc/pnboia_qc/qc_checks.py:340: SettingWithCopyWarning: \n",
      "A value is trying to be set on a copy of a slice from a DataFrame\n",
      "\n",
      "See the caveats in the documentation: https://pandas.pydata.org/pandas-docs/stable/user_guide/indexing.html#returning-a-view-versus-a-copy\n",
      "  self.data.loc[(self.flag[wspd_name] == 0), wspd_name] = self.data[wspd_name] * (10 / height) ** 0.11\n",
      "/home/remobs-dados/pnboia_qc/pnboia_qc/qc_checks.py:342: SettingWithCopyWarning: \n",
      "A value is trying to be set on a copy of a slice from a DataFrame\n",
      "\n",
      "See the caveats in the documentation: https://pandas.pydata.org/pandas-docs/stable/user_guide/indexing.html#returning-a-view-versus-a-copy\n",
      "  self.data.loc[(self.flag[gust_name] == 0), gust_name] = self.data[gust_name] * (10 / height) ** 0.11\n",
      "/home/remobs-dados/pnboia_qc/pnboia_qc/qc_checks.py:361: SettingWithCopyWarning: \n",
      "A value is trying to be set on a copy of a slice from a DataFrame.\n",
      "Try using .loc[row_indexer,col_indexer] = value instead\n",
      "\n",
      "See the caveats in the documentation: https://pandas.pydata.org/pandas-docs/stable/user_guide/indexing.html#returning-a-view-versus-a-copy\n",
      "  self.data[\"wspd\"] = self.data[parameters[0]]\n",
      "/home/remobs-dados/pnboia_qc/pnboia_qc/qc_checks.py:362: SettingWithCopyWarning: \n",
      "A value is trying to be set on a copy of a slice from a DataFrame.\n",
      "Try using .loc[row_indexer,col_indexer] = value instead\n",
      "\n",
      "See the caveats in the documentation: https://pandas.pydata.org/pandas-docs/stable/user_guide/indexing.html#returning-a-view-versus-a-copy\n",
      "  self.data[\"wdir\"] = self.data[parameters[2]]\n",
      "/home/remobs-dados/pnboia_qc/pnboia_qc/qc_checks.py:363: SettingWithCopyWarning: \n",
      "A value is trying to be set on a copy of a slice from a DataFrame.\n",
      "Try using .loc[row_indexer,col_indexer] = value instead\n",
      "\n",
      "See the caveats in the documentation: https://pandas.pydata.org/pandas-docs/stable/user_guide/indexing.html#returning-a-view-versus-a-copy\n",
      "  self.data[\"gust\"] = self.data[parameters[4]]\n"
     ]
    },
    {
     "name": "stdout",
     "output_type": "stream",
     "text": [
      "swvht\n",
      "rh\n",
      "pres\n",
      "atmp\n",
      "wspd\n",
      "sst\n"
     ]
    }
   ],
   "source": [
    "# Missvalue test\n",
    "for parameter in mis_values.keys():\n",
    "    qc_fo.mis_value_check(parameter=parameter)\n",
    "\n",
    "# Range test\n",
    "for parameter in limits.keys():\n",
    "    qc_fo.range_check(parameter=parameter)\n",
    "\n",
    "# Climate range test\n",
    "for parameter in climate_limits.keys():\n",
    "    qc_fo.range_check_climate(parameter=parameter)\n",
    "\n",
    "# Comparison between swvht and mxwvht\n",
    "qc_fo.swvht_mxwvht_check(swvht_name = 'swvht', mxwvht_name = 'mxwvht')\n",
    "\n",
    "# Comparison of wind speed and gust\n",
    "qc_fo.wind_speed_gust_check(wspd_name='wspd1', gust_name='gust1')\n",
    "qc_fo.wind_speed_gust_check(wspd_name='wspd2', gust_name='gust2')\n",
    "\n",
    "# Comparison of Dewpt and Atmp\n",
    "qc_fo.dewpt_atmp_check(dewpt_name='dewpt', atmp_name='atmp')\n",
    "\n",
    "# Comparison of battery and pressure\n",
    "qc_fo.bat_sensor_check(battery_name='battery', pres_name='pres')\n",
    "\n",
    "# Stuck sensor test\n",
    "for parameter in variables:\n",
    "    if parameter != 'battery':\n",
    "        print(parameter)\n",
    "        qc_fo.stuck_sensor_check(parameter=parameter)\n",
    "\n",
    "# Convert wind to 10 meters\n",
    "qc_fo.convert_10_meters(wspd_name='wspd1', gust_name='gust1')\n",
    "qc_fo.convert_10_meters(wspd_name='wspd2', gust_name='gust2')\n",
    "\n",
    "# Select the best anemometer\n",
    "qc_fo.related_meas_check(parameters=['wspd1', 'wspd2', 'wdir1', 'wdir2', 'gust1', 'gust2'])\n",
    "\n",
    "# Time continuity test\n",
    "for parameter in sigma_values.keys():\n",
    "    print(parameter)\n",
    "    qc_fo.t_continuity_check(parameter=parameter)\n",
    "\n",
    "# Front exception tests\n",
    "qc_fo.front_except_check1(wdir_name='wdir', atmp_name='atmp')\n",
    "qc_fo.front_except_check3(wspd_name='wspd', atmp_name='atmp')\n",
    "qc_fo.front_except_check4(pres_name='pres', wspd_name='wspd')\n",
    "qc_fo.front_except_check5(pres_name='pres')\n",
    "qc_fo.front_except_check6(wspd_name='wspd', swvht_name='swvht')"
   ]
  },
  {
   "cell_type": "code",
   "execution_count": 22,
   "id": "64cbad8e",
   "metadata": {},
   "outputs": [],
   "source": [
    "fo_filtered = filter_data(qc_fo)\n",
    "fo_filtered.to_csv('fo_filtered.csv')"
   ]
  },
  {
   "cell_type": "markdown",
   "id": "d3437ac6",
   "metadata": {},
   "source": [
    "## 10. Boia Itaoca"
   ]
  },
  {
   "cell_type": "code",
   "execution_count": 23,
   "id": "8621ab23",
   "metadata": {},
   "outputs": [],
   "source": [
    "buoy = 'itaoca'\n",
    "buoy_df = buoys_df.loc[buoy]\n",
    "variables = buoy_df.columns.to_list()\n",
    "\n",
    "qc_itaoca = QCChecks(data=buoy_df,\n",
    "        variables=variables,\n",
    "        mis_values=mis_values,\n",
    "        limits=limits,\n",
    "        climate_limits=climate_limits,\n",
    "        stuck_limit=stuck_limits,\n",
    "        sigma_values=sigma_values,\n",
    "        continuity_limit=continuity_limit,\n",
    "        height=height\n",
    "        )"
   ]
  },
  {
   "cell_type": "markdown",
   "id": "d4a73e44",
   "metadata": {},
   "source": [
    "### All tests"
   ]
  },
  {
   "cell_type": "code",
   "execution_count": 24,
   "id": "a0f68623",
   "metadata": {},
   "outputs": [
    {
     "name": "stderr",
     "output_type": "stream",
     "text": [
      "/home/remobs-dados/pnboia_qc/pnboia_qc/qc_checks.py:268: SettingWithCopyWarning: \n",
      "A value is trying to be set on a copy of a slice from a DataFrame\n",
      "\n",
      "See the caveats in the documentation: https://pandas.pydata.org/pandas-docs/stable/user_guide/indexing.html#returning-a-view-versus-a-copy\n",
      "  self.data.loc[(self.flag[dewpt_name] == 51), dewpt_name] = self.data[atmp_name]\n"
     ]
    },
    {
     "name": "stdout",
     "output_type": "stream",
     "text": [
      "wspd1\n",
      "gust1\n",
      "wdir1\n",
      "wspd2\n",
      "gust2\n",
      "wdir2\n",
      "atmp\n",
      "rh\n",
      "dewpt\n",
      "pres\n",
      "sst\n",
      "bhead\n",
      "arad\n",
      "cspd1\n",
      "cdir1\n",
      "cspd2\n",
      "cdir2\n",
      "cspd3\n",
      "cdir3\n",
      "swvht\n",
      "mxwvht\n",
      "tp\n",
      "wvdir\n",
      "spred\n"
     ]
    },
    {
     "name": "stderr",
     "output_type": "stream",
     "text": [
      "/home/remobs-dados/pnboia_qc/pnboia_qc/qc_checks.py:340: SettingWithCopyWarning: \n",
      "A value is trying to be set on a copy of a slice from a DataFrame\n",
      "\n",
      "See the caveats in the documentation: https://pandas.pydata.org/pandas-docs/stable/user_guide/indexing.html#returning-a-view-versus-a-copy\n",
      "  self.data.loc[(self.flag[wspd_name] == 0), wspd_name] = self.data[wspd_name] * (10 / height) ** 0.11\n",
      "/home/remobs-dados/pnboia_qc/pnboia_qc/qc_checks.py:342: SettingWithCopyWarning: \n",
      "A value is trying to be set on a copy of a slice from a DataFrame\n",
      "\n",
      "See the caveats in the documentation: https://pandas.pydata.org/pandas-docs/stable/user_guide/indexing.html#returning-a-view-versus-a-copy\n",
      "  self.data.loc[(self.flag[gust_name] == 0), gust_name] = self.data[gust_name] * (10 / height) ** 0.11\n",
      "/home/remobs-dados/pnboia_qc/pnboia_qc/qc_checks.py:361: SettingWithCopyWarning: \n",
      "A value is trying to be set on a copy of a slice from a DataFrame.\n",
      "Try using .loc[row_indexer,col_indexer] = value instead\n",
      "\n",
      "See the caveats in the documentation: https://pandas.pydata.org/pandas-docs/stable/user_guide/indexing.html#returning-a-view-versus-a-copy\n",
      "  self.data[\"wspd\"] = self.data[parameters[0]]\n",
      "/home/remobs-dados/pnboia_qc/pnboia_qc/qc_checks.py:362: SettingWithCopyWarning: \n",
      "A value is trying to be set on a copy of a slice from a DataFrame.\n",
      "Try using .loc[row_indexer,col_indexer] = value instead\n",
      "\n",
      "See the caveats in the documentation: https://pandas.pydata.org/pandas-docs/stable/user_guide/indexing.html#returning-a-view-versus-a-copy\n",
      "  self.data[\"wdir\"] = self.data[parameters[2]]\n",
      "/home/remobs-dados/pnboia_qc/pnboia_qc/qc_checks.py:363: SettingWithCopyWarning: \n",
      "A value is trying to be set on a copy of a slice from a DataFrame.\n",
      "Try using .loc[row_indexer,col_indexer] = value instead\n",
      "\n",
      "See the caveats in the documentation: https://pandas.pydata.org/pandas-docs/stable/user_guide/indexing.html#returning-a-view-versus-a-copy\n",
      "  self.data[\"gust\"] = self.data[parameters[4]]\n"
     ]
    },
    {
     "name": "stdout",
     "output_type": "stream",
     "text": [
      "swvht\n",
      "rh\n",
      "pres\n",
      "atmp\n",
      "wspd\n",
      "sst\n"
     ]
    }
   ],
   "source": [
    "# Missvalue test\n",
    "for parameter in mis_values.keys():\n",
    "    qc_itaoca.mis_value_check(parameter=parameter)\n",
    "\n",
    "# Range test\n",
    "for parameter in limits.keys():\n",
    "    qc_itaoca.range_check(parameter=parameter)\n",
    "\n",
    "# Climate range test\n",
    "for parameter in climate_limits.keys():\n",
    "    qc_itaoca.range_check_climate(parameter=parameter)\n",
    "\n",
    "# Comparison between swvht and mxwvht\n",
    "qc_itaoca.swvht_mxwvht_check(swvht_name = 'swvht', mxwvht_name = 'mxwvht')\n",
    "\n",
    "# Comparison of wind speed and gust\n",
    "qc_itaoca.wind_speed_gust_check(wspd_name='wspd1', gust_name='gust1')\n",
    "qc_itaoca.wind_speed_gust_check(wspd_name='wspd2', gust_name='gust2')\n",
    "\n",
    "# Comparison of Dewpt and Atmp\n",
    "qc_itaoca.dewpt_atmp_check(dewpt_name='dewpt', atmp_name='atmp')\n",
    "\n",
    "# Comparison of battery and pressure\n",
    "qc_itaoca.bat_sensor_check(battery_name='battery', pres_name='pres')\n",
    "\n",
    "# Stuck sensor test\n",
    "for parameter in variables:\n",
    "    if parameter != 'battery':\n",
    "        print(parameter)\n",
    "        qc_itaoca.stuck_sensor_check(parameter=parameter)\n",
    "\n",
    "# Convert wind to 10 meters\n",
    "qc_itaoca.convert_10_meters(wspd_name='wspd1', gust_name='gust1')\n",
    "qc_itaoca.convert_10_meters(wspd_name='wspd2', gust_name='gust2')\n",
    "\n",
    "# Select the best anemometer\n",
    "qc_itaoca.related_meas_check(parameters=['wspd1', 'wspd2', 'wdir1', 'wdir2', 'gust1', 'gust2'])\n",
    "\n",
    "# Time continuity test\n",
    "for parameter in sigma_values.keys():\n",
    "    print(parameter)\n",
    "    qc_itaoca.t_continuity_check(parameter=parameter)\n",
    "\n",
    "# Front exception tests\n",
    "qc_itaoca.front_except_check1(wdir_name='wdir', atmp_name='atmp')\n",
    "qc_itaoca.front_except_check3(wspd_name='wspd', atmp_name='atmp')\n",
    "qc_itaoca.front_except_check4(pres_name='pres', wspd_name='wspd')\n",
    "qc_itaoca.front_except_check5(pres_name='pres')\n",
    "qc_itaoca.front_except_check6(wspd_name='wspd', swvht_name='swvht')"
   ]
  },
  {
   "cell_type": "code",
   "execution_count": 27,
   "id": "64cbad8e",
   "metadata": {},
   "outputs": [],
   "source": [
    "itaoca_filtered = filter_data(qc_itaoca)\n",
    "itaoca_filtered.to_csv('itaoca_filtered.csv')"
   ]
  },
  {
   "cell_type": "markdown",
   "id": "d3437ac6",
   "metadata": {},
   "source": [
    "## 11. Boia Itajaí"
   ]
  },
  {
   "cell_type": "code",
   "execution_count": 25,
   "id": "8621ab23",
   "metadata": {},
   "outputs": [],
   "source": [
    "buoy = 'it'\n",
    "buoy_df = buoys_df.loc[buoy]\n",
    "variables = buoy_df.columns.to_list()\n",
    "\n",
    "qc_it = QCChecks(data=buoy_df,\n",
    "        variables=variables,\n",
    "        mis_values=mis_values,\n",
    "        limits=limits,\n",
    "        climate_limits=climate_limits,\n",
    "        stuck_limit=stuck_limits,\n",
    "        sigma_values=sigma_values,\n",
    "        continuity_limit=continuity_limit,\n",
    "        height=height\n",
    "        )"
   ]
  },
  {
   "cell_type": "markdown",
   "id": "d4a73e44",
   "metadata": {},
   "source": [
    "### All tests"
   ]
  },
  {
   "cell_type": "code",
   "execution_count": 26,
   "id": "a0f68623",
   "metadata": {},
   "outputs": [
    {
     "name": "stderr",
     "output_type": "stream",
     "text": [
      "/home/remobs-dados/pnboia_qc/pnboia_qc/qc_checks.py:268: SettingWithCopyWarning: \n",
      "A value is trying to be set on a copy of a slice from a DataFrame\n",
      "\n",
      "See the caveats in the documentation: https://pandas.pydata.org/pandas-docs/stable/user_guide/indexing.html#returning-a-view-versus-a-copy\n",
      "  self.data.loc[(self.flag[dewpt_name] == 51), dewpt_name] = self.data[atmp_name]\n"
     ]
    },
    {
     "name": "stdout",
     "output_type": "stream",
     "text": [
      "wspd1\n",
      "gust1\n",
      "wdir1\n",
      "wspd2\n",
      "gust2\n",
      "wdir2\n",
      "atmp\n",
      "rh\n",
      "dewpt\n",
      "pres\n",
      "sst\n",
      "bhead\n",
      "arad\n",
      "cspd1\n",
      "cdir1\n",
      "cspd2\n",
      "cdir2\n",
      "cspd3\n",
      "cdir3\n",
      "swvht\n",
      "mxwvht\n",
      "tp\n",
      "wvdir\n",
      "spred\n"
     ]
    },
    {
     "name": "stderr",
     "output_type": "stream",
     "text": [
      "/home/remobs-dados/pnboia_qc/pnboia_qc/qc_checks.py:340: SettingWithCopyWarning: \n",
      "A value is trying to be set on a copy of a slice from a DataFrame\n",
      "\n",
      "See the caveats in the documentation: https://pandas.pydata.org/pandas-docs/stable/user_guide/indexing.html#returning-a-view-versus-a-copy\n",
      "  self.data.loc[(self.flag[wspd_name] == 0), wspd_name] = self.data[wspd_name] * (10 / height) ** 0.11\n",
      "/home/remobs-dados/pnboia_qc/pnboia_qc/qc_checks.py:342: SettingWithCopyWarning: \n",
      "A value is trying to be set on a copy of a slice from a DataFrame\n",
      "\n",
      "See the caveats in the documentation: https://pandas.pydata.org/pandas-docs/stable/user_guide/indexing.html#returning-a-view-versus-a-copy\n",
      "  self.data.loc[(self.flag[gust_name] == 0), gust_name] = self.data[gust_name] * (10 / height) ** 0.11\n",
      "/home/remobs-dados/pnboia_qc/pnboia_qc/qc_checks.py:361: SettingWithCopyWarning: \n",
      "A value is trying to be set on a copy of a slice from a DataFrame.\n",
      "Try using .loc[row_indexer,col_indexer] = value instead\n",
      "\n",
      "See the caveats in the documentation: https://pandas.pydata.org/pandas-docs/stable/user_guide/indexing.html#returning-a-view-versus-a-copy\n",
      "  self.data[\"wspd\"] = self.data[parameters[0]]\n",
      "/home/remobs-dados/pnboia_qc/pnboia_qc/qc_checks.py:362: SettingWithCopyWarning: \n",
      "A value is trying to be set on a copy of a slice from a DataFrame.\n",
      "Try using .loc[row_indexer,col_indexer] = value instead\n",
      "\n",
      "See the caveats in the documentation: https://pandas.pydata.org/pandas-docs/stable/user_guide/indexing.html#returning-a-view-versus-a-copy\n",
      "  self.data[\"wdir\"] = self.data[parameters[2]]\n",
      "/home/remobs-dados/pnboia_qc/pnboia_qc/qc_checks.py:363: SettingWithCopyWarning: \n",
      "A value is trying to be set on a copy of a slice from a DataFrame.\n",
      "Try using .loc[row_indexer,col_indexer] = value instead\n",
      "\n",
      "See the caveats in the documentation: https://pandas.pydata.org/pandas-docs/stable/user_guide/indexing.html#returning-a-view-versus-a-copy\n",
      "  self.data[\"gust\"] = self.data[parameters[4]]\n"
     ]
    },
    {
     "name": "stdout",
     "output_type": "stream",
     "text": [
      "swvht\n",
      "rh\n",
      "pres\n",
      "atmp\n",
      "wspd\n",
      "sst\n"
     ]
    },
    {
     "name": "stderr",
     "output_type": "stream",
     "text": [
      "/home/remobs-dados/pnboia_qc/pnboia_qc/qc_checks.py:509: SettingWithCopyWarning: \n",
      "A value is trying to be set on a copy of a slice from a DataFrame.\n",
      "Try using .loc[row_indexer,col_indexer] = value instead\n",
      "\n",
      "See the caveats in the documentation: https://pandas.pydata.org/pandas-docs/stable/user_guide/indexing.html#returning-a-view-versus-a-copy\n",
      "  select_value[\"pres_new\"] = select_value_2[\"pres\"]\n",
      "/home/remobs-dados/pnboia_qc/pnboia_qc/qc_checks.py:549: SettingWithCopyWarning: \n",
      "A value is trying to be set on a copy of a slice from a DataFrame.\n",
      "Try using .loc[row_indexer,col_indexer] = value instead\n",
      "\n",
      "See the caveats in the documentation: https://pandas.pydata.org/pandas-docs/stable/user_guide/indexing.html#returning-a-view-versus-a-copy\n",
      "  select_value[\"pres_new\"] = select_value_2[\"pres\"]\n"
     ]
    }
   ],
   "source": [
    "# Missvalue test\n",
    "for parameter in mis_values.keys():\n",
    "    qc_it.mis_value_check(parameter=parameter)\n",
    "\n",
    "# Range test\n",
    "for parameter in limits.keys():\n",
    "    qc_it.range_check(parameter=parameter)\n",
    "\n",
    "# Climate range test\n",
    "for parameter in climate_limits.keys():\n",
    "    qc_it.range_check_climate(parameter=parameter)\n",
    "\n",
    "# Comparison between swvht and mxwvht\n",
    "qc_it.swvht_mxwvht_check(swvht_name = 'swvht', mxwvht_name = 'mxwvht')\n",
    "\n",
    "# Comparison of wind speed and gust\n",
    "qc_it.wind_speed_gust_check(wspd_name='wspd1', gust_name='gust1')\n",
    "qc_it.wind_speed_gust_check(wspd_name='wspd2', gust_name='gust2')\n",
    "\n",
    "# Comparison of Dewpt and Atmp\n",
    "qc_it.dewpt_atmp_check(dewpt_name='dewpt', atmp_name='atmp')\n",
    "\n",
    "# Comparison of battery and pressure\n",
    "qc_it.bat_sensor_check(battery_name='battery', pres_name='pres')\n",
    "\n",
    "# Stuck sensor test\n",
    "for parameter in variables:\n",
    "    if parameter != 'battery':\n",
    "        print(parameter)\n",
    "        qc_it.stuck_sensor_check(parameter=parameter)\n",
    "\n",
    "# Convert wind to 10 meters\n",
    "qc_it.convert_10_meters(wspd_name='wspd1', gust_name='gust1')\n",
    "qc_it.convert_10_meters(wspd_name='wspd2', gust_name='gust2')\n",
    "\n",
    "# Select the best anemometer\n",
    "qc_it.related_meas_check(parameters=['wspd1', 'wspd2', 'wdir1', 'wdir2', 'gust1', 'gust2'])\n",
    "\n",
    "# Time continuity test\n",
    "for parameter in sigma_values.keys():\n",
    "    print(parameter)\n",
    "    qc_it.t_continuity_check(parameter=parameter)\n",
    "\n",
    "# Front exception tests\n",
    "qc_it.front_except_check1(wdir_name='wdir', atmp_name='atmp')\n",
    "qc_it.front_except_check3(wspd_name='wspd', atmp_name='atmp')\n",
    "qc_it.front_except_check4(pres_name='pres', wspd_name='wspd')\n",
    "qc_it.front_except_check5(pres_name='pres')\n",
    "qc_it.front_except_check6(wspd_name='wspd', swvht_name='swvht')"
   ]
  },
  {
   "cell_type": "code",
   "execution_count": null,
   "id": "7bb54c31",
   "metadata": {},
   "outputs": [],
   "source": []
  },
  {
   "cell_type": "markdown",
   "id": "d3437ac6",
   "metadata": {},
   "source": [
    "## 11. Boia Recife"
   ]
  },
  {
   "cell_type": "code",
   "execution_count": 28,
   "id": "8621ab23",
   "metadata": {},
   "outputs": [],
   "source": [
    "buoy = 're'\n",
    "buoy_df = buoys_df.loc[buoy]\n",
    "variables = buoy_df.columns.to_list()\n",
    "\n",
    "qc_re = QCChecks(data=buoy_df,\n",
    "        variables=variables,\n",
    "        mis_values=mis_values,\n",
    "        limits=limits,\n",
    "        climate_limits=climate_limits,\n",
    "        stuck_limit=stuck_limits,\n",
    "        sigma_values=sigma_values,\n",
    "        continuity_limit=continuity_limit,\n",
    "        height=height\n",
    "        )"
   ]
  },
  {
   "cell_type": "markdown",
   "id": "d4a73e44",
   "metadata": {},
   "source": [
    "### All tests"
   ]
  },
  {
   "cell_type": "code",
   "execution_count": 29,
   "id": "a0f68623",
   "metadata": {},
   "outputs": [
    {
     "name": "stderr",
     "output_type": "stream",
     "text": [
      "/home/remobs-dados/pnboia_qc/pnboia_qc/qc_checks.py:268: SettingWithCopyWarning: \n",
      "A value is trying to be set on a copy of a slice from a DataFrame\n",
      "\n",
      "See the caveats in the documentation: https://pandas.pydata.org/pandas-docs/stable/user_guide/indexing.html#returning-a-view-versus-a-copy\n",
      "  self.data.loc[(self.flag[dewpt_name] == 51), dewpt_name] = self.data[atmp_name]\n"
     ]
    },
    {
     "name": "stdout",
     "output_type": "stream",
     "text": [
      "wspd1\n",
      "gust1\n",
      "wdir1\n",
      "wspd2\n",
      "gust2\n",
      "wdir2\n",
      "atmp\n",
      "rh\n",
      "dewpt\n",
      "pres\n",
      "sst\n",
      "bhead\n",
      "arad\n",
      "cspd1\n",
      "cdir1\n",
      "cspd2\n",
      "cdir2\n",
      "cspd3\n",
      "cdir3\n",
      "swvht\n",
      "mxwvht\n",
      "tp\n",
      "wvdir\n",
      "spred\n"
     ]
    },
    {
     "name": "stderr",
     "output_type": "stream",
     "text": [
      "/home/remobs-dados/pnboia_qc/pnboia_qc/qc_checks.py:340: SettingWithCopyWarning: \n",
      "A value is trying to be set on a copy of a slice from a DataFrame\n",
      "\n",
      "See the caveats in the documentation: https://pandas.pydata.org/pandas-docs/stable/user_guide/indexing.html#returning-a-view-versus-a-copy\n",
      "  self.data.loc[(self.flag[wspd_name] == 0), wspd_name] = self.data[wspd_name] * (10 / height) ** 0.11\n",
      "/home/remobs-dados/pnboia_qc/pnboia_qc/qc_checks.py:342: SettingWithCopyWarning: \n",
      "A value is trying to be set on a copy of a slice from a DataFrame\n",
      "\n",
      "See the caveats in the documentation: https://pandas.pydata.org/pandas-docs/stable/user_guide/indexing.html#returning-a-view-versus-a-copy\n",
      "  self.data.loc[(self.flag[gust_name] == 0), gust_name] = self.data[gust_name] * (10 / height) ** 0.11\n",
      "/home/remobs-dados/pnboia_qc/pnboia_qc/qc_checks.py:361: SettingWithCopyWarning: \n",
      "A value is trying to be set on a copy of a slice from a DataFrame.\n",
      "Try using .loc[row_indexer,col_indexer] = value instead\n",
      "\n",
      "See the caveats in the documentation: https://pandas.pydata.org/pandas-docs/stable/user_guide/indexing.html#returning-a-view-versus-a-copy\n",
      "  self.data[\"wspd\"] = self.data[parameters[0]]\n",
      "/home/remobs-dados/pnboia_qc/pnboia_qc/qc_checks.py:362: SettingWithCopyWarning: \n",
      "A value is trying to be set on a copy of a slice from a DataFrame.\n",
      "Try using .loc[row_indexer,col_indexer] = value instead\n",
      "\n",
      "See the caveats in the documentation: https://pandas.pydata.org/pandas-docs/stable/user_guide/indexing.html#returning-a-view-versus-a-copy\n",
      "  self.data[\"wdir\"] = self.data[parameters[2]]\n",
      "/home/remobs-dados/pnboia_qc/pnboia_qc/qc_checks.py:363: SettingWithCopyWarning: \n",
      "A value is trying to be set on a copy of a slice from a DataFrame.\n",
      "Try using .loc[row_indexer,col_indexer] = value instead\n",
      "\n",
      "See the caveats in the documentation: https://pandas.pydata.org/pandas-docs/stable/user_guide/indexing.html#returning-a-view-versus-a-copy\n",
      "  self.data[\"gust\"] = self.data[parameters[4]]\n"
     ]
    },
    {
     "name": "stdout",
     "output_type": "stream",
     "text": [
      "swvht\n",
      "rh\n",
      "pres\n",
      "atmp\n",
      "wspd\n",
      "sst\n"
     ]
    },
    {
     "name": "stderr",
     "output_type": "stream",
     "text": [
      "/home/remobs-dados/pnboia_qc/pnboia_qc/qc_checks.py:509: SettingWithCopyWarning: \n",
      "A value is trying to be set on a copy of a slice from a DataFrame.\n",
      "Try using .loc[row_indexer,col_indexer] = value instead\n",
      "\n",
      "See the caveats in the documentation: https://pandas.pydata.org/pandas-docs/stable/user_guide/indexing.html#returning-a-view-versus-a-copy\n",
      "  select_value[\"pres_new\"] = select_value_2[\"pres\"]\n",
      "/home/remobs-dados/pnboia_qc/pnboia_qc/qc_checks.py:549: SettingWithCopyWarning: \n",
      "A value is trying to be set on a copy of a slice from a DataFrame.\n",
      "Try using .loc[row_indexer,col_indexer] = value instead\n",
      "\n",
      "See the caveats in the documentation: https://pandas.pydata.org/pandas-docs/stable/user_guide/indexing.html#returning-a-view-versus-a-copy\n",
      "  select_value[\"pres_new\"] = select_value_2[\"pres\"]\n"
     ]
    }
   ],
   "source": [
    "# Missvalue test\n",
    "for parameter in mis_values.keys():\n",
    "    qc_re.mis_value_check(parameter=parameter)\n",
    "\n",
    "# Range test\n",
    "for parameter in limits.keys():\n",
    "    qc_re.range_check(parameter=parameter)\n",
    "\n",
    "# Climate range test\n",
    "for parameter in climate_limits.keys():\n",
    "    qc_re.range_check_climate(parameter=parameter)\n",
    "\n",
    "# Comparison between swvht and mxwvht\n",
    "qc_re.swvht_mxwvht_check(swvht_name = 'swvht', mxwvht_name = 'mxwvht')\n",
    "\n",
    "# Comparison of wind speed and gust\n",
    "qc_re.wind_speed_gust_check(wspd_name='wspd1', gust_name='gust1')\n",
    "qc_re.wind_speed_gust_check(wspd_name='wspd2', gust_name='gust2')\n",
    "\n",
    "# Comparison of Dewpt and Atmp\n",
    "qc_re.dewpt_atmp_check(dewpt_name='dewpt', atmp_name='atmp')\n",
    "\n",
    "# Comparison of battery and pressure\n",
    "qc_re.bat_sensor_check(battery_name='battery', pres_name='pres')\n",
    "\n",
    "# Stuck sensor test\n",
    "for parameter in variables:\n",
    "    if parameter != 'battery':\n",
    "        print(parameter)\n",
    "        qc_re.stuck_sensor_check(parameter=parameter)\n",
    "\n",
    "# Convert wind to 10 meters\n",
    "qc_re.convert_10_meters(wspd_name='wspd1', gust_name='gust1')\n",
    "qc_re.convert_10_meters(wspd_name='wspd2', gust_name='gust2')\n",
    "\n",
    "# Select the best anemometer\n",
    "qc_re.related_meas_check(parameters=['wspd1', 'wspd2', 'wdir1', 'wdir2', 'gust1', 'gust2'])\n",
    "\n",
    "# Time continuity test\n",
    "for parameter in sigma_values.keys():\n",
    "    print(parameter)\n",
    "    qc_re.t_continuity_check(parameter=parameter)\n",
    "\n",
    "# Front exception tests\n",
    "qc_re.front_except_check1(wdir_name='wdir', atmp_name='atmp')\n",
    "qc_re.front_except_check3(wspd_name='wspd', atmp_name='atmp')\n",
    "qc_re.front_except_check4(pres_name='pres', wspd_name='wspd')\n",
    "qc_re.front_except_check5(pres_name='pres')\n",
    "qc_re.front_except_check6(wspd_name='wspd', swvht_name='swvht')"
   ]
  },
  {
   "cell_type": "code",
   "execution_count": 30,
   "id": "64cbad8e",
   "metadata": {},
   "outputs": [],
   "source": [
    "re_filtered = filter_data(qc_re)\n",
    "re_filtered.to_csv('re_filtered.csv')"
   ]
  },
  {
   "cell_type": "code",
   "execution_count": null,
   "id": "7bb54c31",
   "metadata": {},
   "outputs": [],
   "source": []
  }
 ],
 "metadata": {
  "kernelspec": {
   "display_name": "Python 3 (ipykernel)",
   "language": "python",
   "name": "python3"
  },
  "language_info": {
   "codemirror_mode": {
    "name": "ipython",
    "version": 3
   },
   "file_extension": ".py",
   "mimetype": "text/x-python",
   "name": "python",
   "nbconvert_exporter": "python",
   "pygments_lexer": "ipython3",
   "version": "3.8.12"
  },
  "toc": {
   "base_numbering": 1,
   "nav_menu": {},
   "number_sections": true,
   "sideBar": true,
   "skip_h1_title": false,
   "title_cell": "Table of Contents",
   "title_sidebar": "Contents",
   "toc_cell": false,
   "toc_position": {},
   "toc_section_display": true,
   "toc_window_display": false
  }
 },
 "nbformat": 4,
 "nbformat_minor": 5
}
