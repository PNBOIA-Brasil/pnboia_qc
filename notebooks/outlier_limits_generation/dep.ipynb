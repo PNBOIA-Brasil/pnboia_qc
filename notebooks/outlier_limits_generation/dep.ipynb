{
 "cells": [
  {
   "cell_type": "code",
   "execution_count": null,
   "metadata": {},
   "outputs": [],
   "source": []
  },
  {
   "cell_type": "code",
   "execution_count": null,
   "id": "d48ebd4e",
   "metadata": {},
   "outputs": [],
   "source": [
    "out_lims_df = gen_outlier_lim(buoys_df_site,std_factor=6).loc[ref_buoys]\n",
    "cont_lims_df = gen_cont_lims(buoys_df_site,std_factor=3.).loc[ref_buoys]"
   ]
  },
  {
   "cell_type": "code",
   "execution_count": null,
   "id": "c7163ba1",
   "metadata": {},
   "outputs": [
    {
     "data": {
      "text/plain": [
       "Index(['Condutividade', 'arad', 'atmp', 'cspd1', 'cspd2', 'cspd3', 'dewpt',\n",
       "       'gust1', 'mxwvht', 'mxwvht1', 'pres', 'rh', 'sss', 'sst', 'swvht',\n",
       "       'swvht1', 'swvht2', 'tp', 'tp1', 'tp2', 'wspd1', 'wtmp', 'wvdir2',\n",
       "       'wvspread1'],\n",
       "      dtype='object', name='param')"
      ]
     },
     "metadata": {},
     "output_type": "display_data"
    }
   ],
   "source": [
    "out_lims_df.index.levels[1].unique()"
   ]
  },
  {
   "cell_type": "markdown",
   "id": "6d30b3c5",
   "metadata": {},
   "source": [
    "## Tests"
   ]
  },
  {
   "cell_type": "code",
   "execution_count": null,
   "id": "54cf11f3",
   "metadata": {},
   "outputs": [
    {
     "name": "stdout",
     "output_type": "stream",
     "text": [
      "mis_value_check done.\n",
      "range_check done.\n",
      "range_check_climate done.\n"
     ]
    }
   ],
   "source": [
    "test = filter_data(data=buoys_df_raw,\n",
    "                    buoy='santos',\n",
    "                    limits=santos_lims)"
   ]
  },
  {
   "cell_type": "code",
   "execution_count": null,
   "id": "83b6d4dd",
   "metadata": {},
   "outputs": [
    {
     "data": {
      "text/plain": [
       "Index(['battery', 'wspd1', 'gust1', 'wdir1', 'wspd2', 'gust2', 'wdir2', 'atmp',\n",
       "       'rh', 'dewpt', 'pres', 'sst', 'bhead', 'arad', 'cspd1', 'cdir1',\n",
       "       'cspd2', 'cdir2', 'cspd3', 'cdir3', 'swvht', 'mxwvht', 'tp', 'wvdir',\n",
       "       'wvspread'],\n",
       "      dtype='object')"
      ]
     },
     "metadata": {},
     "output_type": "display_data"
    }
   ],
   "source": [
    "buoys_df_raw.columns"
   ]
  },
  {
   "cell_type": "code",
   "execution_count": null,
   "id": "8f786331",
   "metadata": {},
   "outputs": [
    {
     "data": {
      "text/plain": [
       "Index(['Condutividade', 'arad', 'atmp', 'cspd1', 'cspd2', 'cspd3', 'dewpt',\n",
       "       'gust1', 'mxwvht', 'mxwvht1', 'pres', 'rh', 'sss', 'sst', 'swvht',\n",
       "       'swvht1', 'swvht2', 'tp', 'tp1', 'tp2', 'wspd1', 'wtmp', 'wvdir2',\n",
       "       'wvspread1'],\n",
       "      dtype='object', name='param')"
      ]
     },
     "metadata": {},
     "output_type": "display_data"
    }
   ],
   "source": [
    "out_lims_df.index.levels[1].unique()"
   ]
  },
  {
   "cell_type": "code",
   "execution_count": null,
   "id": "43ebff7b",
   "metadata": {},
   "outputs": [
    {
     "data": {
      "text/plain": [
       "{'wspd1': array([ 0.        , 24.76898875]),\n",
       " 'gust1': array([ 0.        , 29.65711787]),\n",
       " 'atmp': array([ 7.66520002, 38.79845271]),\n",
       " 'pres': array([ 985.34209655, 1044.79969944]),\n",
       " 'dewpt': array([ 0.        , 42.35337137]),\n",
       " 'rh': array([ 17.39367272, 138.83918587]),\n",
       " 'sst': array([12.57132083, 36.03813742]),\n",
       " 'cspd1': array([   0.        , 1727.94194656]),\n",
       " 'swvht': array([0.        , 6.37921082]),\n",
       " 'mxwvht': array([ 0.        , 10.33959671]),\n",
       " 'tp': array([ 0.        , 23.89575507])}"
      ]
     },
     "metadata": {},
     "output_type": "display_data"
    }
   ],
   "source": [
    "outlier_manual_lims"
   ]
  },
  {
   "cell_type": "code",
   "execution_count": null,
   "id": "153ec8e5",
   "metadata": {},
   "outputs": [
    {
     "name": "stdout",
     "output_type": "stream",
     "text": [
      "mis_value_check done.\n",
      "range_check done.\n"
     ]
    },
    {
     "ename": "KeyError",
     "evalue": "'wspd2'",
     "output_type": "error",
     "traceback": [
      "\u001b[0;31m---------------------------------------------------------------------------\u001b[0m\n",
      "\u001b[0;31mKeyError\u001b[0m                                  Traceback (most recent call last)\n",
      "\u001b[1;32m/home/remobs-dados/PNBOIA/pnboia_qc/notebooks/limits_generation/pnboia_qc_tests_new_lims.ipynb Cell 18'\u001b[0m in \u001b[0;36m<cell line: 5>\u001b[0;34m()\u001b[0m\n",
      "\u001b[1;32m      <a href='vscode-notebook-cell:/home/remobs-dados/PNBOIA/pnboia_qc/notebooks/limits_generation/pnboia_qc_tests_new_lims.ipynb#ch0000081?line=1'>2</a>\u001b[0m limits \u001b[39m=\u001b[39m santos_lims\n",
      "\u001b[1;32m      <a href='vscode-notebook-cell:/home/remobs-dados/PNBOIA/pnboia_qc/notebooks/limits_generation/pnboia_qc_tests_new_lims.ipynb#ch0000081?line=2'>3</a>\u001b[0m outlier_manual_lims \u001b[39m=\u001b[39m manual_outlier_lims(buoy,out_lims_df)\n",
      "\u001b[0;32m----> <a href='vscode-notebook-cell:/home/remobs-dados/PNBOIA/pnboia_qc/notebooks/limits_generation/pnboia_qc_tests_new_lims.ipynb#ch0000081?line=4'>5</a>\u001b[0m test \u001b[39m=\u001b[39m filter_data(data\u001b[39m=\u001b[39;49mbuoys_df_raw,\n",
      "\u001b[1;32m      <a href='vscode-notebook-cell:/home/remobs-dados/PNBOIA/pnboia_qc/notebooks/limits_generation/pnboia_qc_tests_new_lims.ipynb#ch0000081?line=5'>6</a>\u001b[0m                     buoy\u001b[39m=\u001b[39;49mbuoy,\n",
      "\u001b[1;32m      <a href='vscode-notebook-cell:/home/remobs-dados/PNBOIA/pnboia_qc/notebooks/limits_generation/pnboia_qc_tests_new_lims.ipynb#ch0000081?line=6'>7</a>\u001b[0m                     limits\u001b[39m=\u001b[39;49mlimits,\n",
      "\u001b[1;32m      <a href='vscode-notebook-cell:/home/remobs-dados/PNBOIA/pnboia_qc/notebooks/limits_generation/pnboia_qc_tests_new_lims.ipynb#ch0000081?line=7'>8</a>\u001b[0m                     manual_lims\u001b[39m=\u001b[39;49m\u001b[39mTrue\u001b[39;49;00m,\n",
      "\u001b[1;32m      <a href='vscode-notebook-cell:/home/remobs-dados/PNBOIA/pnboia_qc/notebooks/limits_generation/pnboia_qc_tests_new_lims.ipynb#ch0000081?line=8'>9</a>\u001b[0m                     range_axys_limits\u001b[39m=\u001b[39;49moutlier_manual_lims)\n",
      "\n",
      "File \u001b[0;32m~/PNBOIA/pnboia_qc/pnboia_qc/lims_gen.py:112\u001b[0m, in \u001b[0;36mfilter_data\u001b[0;34m(data, buoy, limits, save_df, manual_lims, range_axys_limits, continuity_axys_limits)\u001b[0m\n",
      "\u001b[1;32m    110\u001b[0m \u001b[39m# Climate range test\u001b[39;00m\n",
      "\u001b[1;32m    111\u001b[0m \u001b[39mfor\u001b[39;00m parameter \u001b[39min\u001b[39;00m limits[\u001b[39m'\u001b[39m\u001b[39mclimate_axys_limits\u001b[39m\u001b[39m'\u001b[39m]\u001b[39m.\u001b[39mkeys():\n",
      "\u001b[0;32m--> 112\u001b[0m     qc\u001b[39m.\u001b[39;49mrange_check_climate(parameter\u001b[39m=\u001b[39;49mparameter)\n",
      "\u001b[1;32m    113\u001b[0m \u001b[39mprint\u001b[39m(\u001b[39m'\u001b[39m\u001b[39mrange_check_climate done.\u001b[39m\u001b[39m'\u001b[39m)\n",
      "\u001b[1;32m    115\u001b[0m \u001b[39m# # Comparison between swvht and mxwvht\u001b[39;00m\n",
      "\u001b[1;32m    116\u001b[0m \u001b[39m# qc.swvht_mxwvht_check(swvht_name = 'swvht', mxwvht_name = 'mxwvht')\u001b[39;00m\n",
      "\u001b[1;32m    117\u001b[0m \n",
      "\u001b[0;32m   (...)\u001b[0m\n",
      "\u001b[1;32m    150\u001b[0m \u001b[39m# qc.front_except_check5(pres_name='pres')\u001b[39;00m\n",
      "\u001b[1;32m    151\u001b[0m \u001b[39m# qc.front_except_check6(wspd_name='wspd', swvht_name='swvht')\u001b[39;00m\n",
      "\n",
      "File \u001b[0;32m~/.pyenv/versions/3.8.12/envs/pnboia_qc/lib/python3.8/site-packages/pnboia_qc/qc_checks.py:197\u001b[0m, in \u001b[0;36mQCChecks.range_check_climate\u001b[0;34m(self, parameter, climate_limits)\u001b[0m\n",
      "\u001b[1;32m    182\u001b[0m \u001b[39m\"\"\"\u001b[39;00m\n",
      "\u001b[1;32m    183\u001b[0m \u001b[39mRange check Climate\u001b[39;00m\n",
      "\u001b[1;32m    184\u001b[0m \u001b[39mCheck to ensure values are within climatology ranges\u001b[39;00m\n",
      "\u001b[0;32m   (...)\u001b[0m\n",
      "\u001b[1;32m    193\u001b[0m \u001b[39mRepresented by number \"9\" -> HARD FLAG\u001b[39;00m\n",
      "\u001b[1;32m    194\u001b[0m \u001b[39m\"\"\"\u001b[39;00m\n",
      "\u001b[1;32m    196\u001b[0m \u001b[39mif\u001b[39;00m climate_limits \u001b[39m==\u001b[39m \u001b[39mNone\u001b[39;00m:\n",
      "\u001b[0;32m--> 197\u001b[0m     climate_limits \u001b[39m=\u001b[39m \u001b[39mself\u001b[39;49m\u001b[39m.\u001b[39;49mclimate_limits[parameter]\n",
      "\u001b[1;32m    199\u001b[0m \u001b[39mtry\u001b[39;00m:\n",
      "\u001b[1;32m    200\u001b[0m     \u001b[39mself\u001b[39m\u001b[39m.\u001b[39mflag\u001b[39m.\u001b[39mloc[(\u001b[39mself\u001b[39m\u001b[39m.\u001b[39mdata[parameter] \u001b[39m<\u001b[39m climate_limits[\u001b[39m0\u001b[39m]) \u001b[39m&\u001b[39m (\u001b[39mself\u001b[39m\u001b[39m.\u001b[39mflag[parameter] \u001b[39m==\u001b[39m \u001b[39m0\u001b[39m), parameter] \u001b[39m=\u001b[39m \u001b[39m9\u001b[39m\n",
      "\n",
      "\u001b[0;31mKeyError\u001b[0m: 'wspd2'"
     ]
    }
   ],
   "source": [
    "buoy = 'santos'\n",
    "limits = santos_lims\n",
    "outlier_manual_lims = manual_outlier_lims(buoy,out_lims_df)\n",
    "\n",
    "test = filter_data(data=buoys_df_raw.drop(columns=['wspd2','gust2']),\n",
    "                    buoy=buoy,\n",
    "                    limits=limits,\n",
    "                    manual_lims=True,\n",
    "                    range_axys_limits=outlier_manual_lims)"
   ]
  }
 ],
 "metadata": {
  "language_info": {
   "name": "python"
  },
  "orig_nbformat": 4
 },
 "nbformat": 4,
 "nbformat_minor": 2
}
